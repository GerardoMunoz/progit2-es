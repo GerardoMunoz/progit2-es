{
  "nbformat": 4,
  "nbformat_minor": 5,
  "metadata": {
    "colab": {
      "name": "Git-summary.ipynb",
      "provenance": [],
      "include_colab_link": true
    },
    "kernelspec": {
      "display_name": "Python 3",
      "language": "python",
      "name": "python3"
    },
    "language_info": {
      "codemirror_mode": {
        "name": "ipython",
        "version": 3
      },
      "file_extension": ".py",
      "mimetype": "text/x-python",
      "name": "python",
      "nbconvert_exporter": "python",
      "pygments_lexer": "ipython3",
      "version": "3.9.2"
    }
  },
  "cells": [
    {
      "cell_type": "markdown",
      "metadata": {
        "id": "view-in-github",
        "colab_type": "text"
      },
      "source": [
        "<a href=\"https://colab.research.google.com/github/GerardoMunoz/progit2-es/blob/master/jupyter-summary/Git-summary.ipynb\" target=\"_parent\"><img src=\"https://colab.research.google.com/assets/colab-badge.svg\" alt=\"Open In Colab\"/></a>"
      ]
    },
    {
      "cell_type": "markdown",
      "metadata": {
        "id": "municipal-screening"
      },
      "source": [
        "# Git \n",
        "\n",
        "\n",
        "* Resumen basado en el libro 'Pro Git'\n",
        "* Escrito por 'Scott Chacon' y por  'Ben Straub'\n",
        "* Versión 2.1.22, 2021-02-09\n",
        "* https://git-scm.com/book/es/v2\n",
        "\n",
        "# Acerca del Control de Versiones\n",
        "(Pg. 9)\n",
        "Un control de versiones es un\n",
        "sistema que registra los cambios realizados en un archivo o conjunto de archivos a lo largo del\n",
        "tiempo, de modo que puedas recuperar versiones específicas más adelante. \n",
        "\n",
        "# Fundamentos de Git\n",
        "\n",
        "## Los Tres Estados\n",
        "\n",
        "(pg 16) \n",
        "Git tiene tres estados principales en los que se pueden encontrar tus archivos: \n",
        "* confirmado (**committed**), significa que los datos están almacenados de manera segura en tu base de datos local\n",
        "* modificado (**modified**), significa que has modificado el archivo, pero todavía no lo has confirmado a tu base de datos.\n",
        "* preparado (**staged**), significa que has marcado un archivo modificado en su versión actual para que vaya en tu próxima confirmación.\n"
      ],
      "id": "municipal-screening"
    },
    {
      "cell_type": "markdown",
      "metadata": {
        "id": "pvUlgFDxD6_l"
      },
      "source": [
        "![Figura 6](https://github.com/GerardoMunoz/progit2-es/raw/fd5562ab1c85dc792491d3d71469bb0ced88165e/jupyter-summary/Fig6_mod.PNG)"
      ],
      "id": "pvUlgFDxD6_l"
    },
    {
      "cell_type": "markdown",
      "metadata": {
        "id": "U2j0liTy5Gow"
      },
      "source": [
        "## Configurando Git por primera vez\n",
        "### Tu Identidad\n",
        "Pg. 20"
      ],
      "id": "U2j0liTy5Gow"
    },
    {
      "cell_type": "code",
      "metadata": {
        "id": "K4AzWIMpNmeO"
      },
      "source": [
        "!git config --list "
      ],
      "id": "K4AzWIMpNmeO",
      "execution_count": 1,
      "outputs": []
    },
    {
      "cell_type": "code",
      "metadata": {
        "id": "477bTP2m5Gow"
      },
      "source": [
        "# no olvide colocar su nombre \n",
        "!git config  --global user.name \"cambiar-por-su-nombre\""
      ],
      "id": "477bTP2m5Gow",
      "execution_count": 2,
      "outputs": []
    },
    {
      "cell_type": "code",
      "metadata": {
        "id": "pL8SXQPv5Gox"
      },
      "source": [
        "# no olvide colocar su email \n",
        "!git config  --global user.email cambiar.por.su.correo@gmail.com"
      ],
      "id": "pL8SXQPv5Gox",
      "execution_count": 3,
      "outputs": []
    },
    {
      "cell_type": "code",
      "metadata": {
        "colab": {
          "base_uri": "https://localhost:8080/"
        },
        "id": "IroeN9o65Gox",
        "outputId": "74c350b1-93c7-464e-d827-c69a233cfd2b"
      },
      "source": [
        "!git config --list "
      ],
      "id": "IroeN9o65Gox",
      "execution_count": 4,
      "outputs": [
        {
          "output_type": "stream",
          "text": [
            "user.name=cambiar-por-su-nombre\n",
            "user.email=cambiar.por.su.correo@gmail.com\n"
          ],
          "name": "stdout"
        }
      ]
    },
    {
      "cell_type": "code",
      "metadata": {
        "colab": {
          "base_uri": "https://localhost:8080/"
        },
        "id": "8gQBTwg35Gox",
        "outputId": "7b4c9b22-ec4a-4796-ffd1-fea1912471b7"
      },
      "source": [
        "!git config user.name"
      ],
      "id": "8gQBTwg35Gox",
      "execution_count": 5,
      "outputs": [
        {
          "output_type": "stream",
          "text": [
            "cambiar-por-su-nombre\n"
          ],
          "name": "stdout"
        }
      ]
    },
    {
      "cell_type": "code",
      "metadata": {
        "colab": {
          "base_uri": "https://localhost:8080/"
        },
        "id": "vqu_2b7W5Goy",
        "outputId": "f18187c2-a06e-4b47-ead9-fe88fc9ff784"
      },
      "source": [
        "!git config user.email"
      ],
      "id": "vqu_2b7W5Goy",
      "execution_count": 6,
      "outputs": [
        {
          "output_type": "stream",
          "text": [
            "cambiar.por.su.correo@gmail.com\n"
          ],
          "name": "stdout"
        }
      ]
    },
    {
      "cell_type": "markdown",
      "metadata": {
        "id": "KupjvV3wdJj4"
      },
      "source": [
        "### Tu Editor\n",
        "Pg. 21\n",
        "\n",
        "Más adelante veremos  que Git abre automaticamente el editor que este configurado cuando se confirman (`commit`) los cambios. El editor se configura de la siguiete forma\n",
        "\n",
        "`git config --global core.editor ` cambiar_por_su_editor\n",
        "\n",
        "Desde Jupyter es preferible no abrir ningún editor ya que Jupyter se puede ejecutar en diferentes entornos. Para evitar abrir un editor al confirmar (`commit`) veremos que se puede usar la opción `-m`   \n",
        "\n",
        "`commit -m \"Aquí escribimos la documentación del cambio\"`\n",
        "\n"
      ],
      "id": "KupjvV3wdJj4"
    },
    {
      "cell_type": "markdown",
      "metadata": {
        "id": "kKCqLTxN5Goy"
      },
      "source": [
        "### ¿Cómo obtener ayuda?\n",
        "Pg. 22"
      ],
      "id": "kKCqLTxN5Goy"
    },
    {
      "cell_type": "code",
      "metadata": {
        "id": "4Gf52rsV5Goy"
      },
      "source": [
        "#!git help"
      ],
      "id": "4Gf52rsV5Goy",
      "execution_count": 7,
      "outputs": []
    },
    {
      "cell_type": "code",
      "metadata": {
        "id": "aZtlgtsm5Goz"
      },
      "source": [
        "#!git help config "
      ],
      "id": "aZtlgtsm5Goz",
      "execution_count": 8,
      "outputs": []
    },
    {
      "cell_type": "code",
      "metadata": {
        "id": "-1WYNempdIZx"
      },
      "source": [
        ""
      ],
      "id": "-1WYNempdIZx",
      "execution_count": 8,
      "outputs": []
    },
    {
      "cell_type": "markdown",
      "metadata": {
        "id": "fGr9igEG5Goz"
      },
      "source": [
        "## Fundamentos de Git\n",
        "Pgs. 24 - 57\n",
        "\n",
        "### Obteniendo un repositorio Git\n",
        "Pg. 23\n",
        "\n",
        "![GitIniClon](https://github.com/GerardoMunoz/progit2-es/raw/master/jupyter-summary/imagenes/Diapositiva1.PNG)"
      ],
      "id": "fGr9igEG5Goz"
    },
    {
      "cell_type": "markdown",
      "metadata": {
        "id": "EujX4K06nvli"
      },
      "source": [
        "Antes de comenzar vamos a listar los archivos en la carpecta actual, utilizando el comando de linux `ls -l` "
      ],
      "id": "EujX4K06nvli"
    },
    {
      "cell_type": "code",
      "metadata": {
        "colab": {
          "base_uri": "https://localhost:8080/"
        },
        "id": "NrAXyIQ7y0Nd",
        "outputId": "30eff6a3-bc37-4b2a-8ccb-4efe63bba012"
      },
      "source": [
        "!ls -l"
      ],
      "id": "NrAXyIQ7y0Nd",
      "execution_count": 9,
      "outputs": [
        {
          "output_type": "stream",
          "text": [
            "total 4\n",
            "drwxr-xr-x 1 root root 4096 Mar 25 13:38 sample_data\n"
          ],
          "name": "stdout"
        }
      ]
    },
    {
      "cell_type": "markdown",
      "metadata": {
        "id": "A39oxVgVtOqb"
      },
      "source": [
        "La rama principal de GitHub por defecto se llama `main`. Sin embargo, en Git se llama `master`. Para evitar que al clonar se cree larama `master`, es necesario indicarle el nombe de la rama con la opciòn `-b`."
      ],
      "id": "A39oxVgVtOqb"
    },
    {
      "cell_type": "code",
      "metadata": {
        "colab": {
          "base_uri": "https://localhost:8080/"
        },
        "id": "OrwRAi0dyfLM",
        "outputId": "0bc3a223-af04-44f4-ce87-40b90050f797"
      },
      "source": [
        "!git clone -b main https://github.com/cambiar-por-su-nombre/TrabajosProgramacion"
      ],
      "id": "OrwRAi0dyfLM",
      "execution_count": 10,
      "outputs": [
        {
          "output_type": "stream",
          "text": [
            "Cloning into 'TrabajosProgramacion'...\n",
            "remote: Enumerating objects: 3, done.\u001b[K\n",
            "remote: Counting objects: 100% (3/3), done.\u001b[K\n",
            "remote: Total 3 (delta 0), reused 0 (delta 0), pack-reused 0\u001b[K\n",
            "Unpacking objects: 100% (3/3), done.\n"
          ],
          "name": "stdout"
        }
      ]
    },
    {
      "cell_type": "code",
      "metadata": {
        "colab": {
          "base_uri": "https://localhost:8080/"
        },
        "id": "fClKrK3Py4ak",
        "outputId": "be43fe0c-0f1f-40f7-a2e1-94689c57b746"
      },
      "source": [
        "!ls -l"
      ],
      "id": "fClKrK3Py4ak",
      "execution_count": 11,
      "outputs": [
        {
          "output_type": "stream",
          "text": [
            "total 8\n",
            "drwxr-xr-x 1 root root 4096 Mar 25 13:38 sample_data\n",
            "drwxr-xr-x 3 root root 4096 Apr  6 03:44 TrabajosProgramacion\n"
          ],
          "name": "stdout"
        }
      ]
    },
    {
      "cell_type": "code",
      "metadata": {
        "colab": {
          "base_uri": "https://localhost:8080/"
        },
        "id": "CS0oGUdBzAo9",
        "outputId": "93bf1d6a-2980-4e9d-8418-e1a860b0472d"
      },
      "source": [
        "%cd TrabajosProgramacion"
      ],
      "id": "CS0oGUdBzAo9",
      "execution_count": 12,
      "outputs": [
        {
          "output_type": "stream",
          "text": [
            "/content/TrabajosProgramacion\n"
          ],
          "name": "stdout"
        }
      ]
    },
    {
      "cell_type": "markdown",
      "metadata": {
        "id": "XBT6mo_y9pUj"
      },
      "source": [
        "## Guardando cambios en el Repositorio\n",
        "Pg. 24\n",
        "\n",
        "### Revisando el Estado de tus Archivos\n",
        "\n"
      ],
      "id": "XBT6mo_y9pUj"
    },
    {
      "cell_type": "code",
      "metadata": {
        "colab": {
          "base_uri": "https://localhost:8080/"
        },
        "id": "7pN2xohOyHv7",
        "outputId": "b5c61daf-45e8-40ab-acaa-bb3f4a91fd60"
      },
      "source": [
        "!git status "
      ],
      "id": "7pN2xohOyHv7",
      "execution_count": 13,
      "outputs": [
        {
          "output_type": "stream",
          "text": [
            "On branch main\n",
            "Your branch is up to date with 'origin/main'.\n",
            "\n",
            "nothing to commit, working tree clean\n"
          ],
          "name": "stdout"
        }
      ]
    },
    {
      "cell_type": "code",
      "metadata": {
        "colab": {
          "base_uri": "https://localhost:8080/"
        },
        "id": "dzr1b28e0Ude",
        "outputId": "70f0cb9f-1f4f-4984-93b1-862b20d858e5"
      },
      "source": [
        "!ls -l"
      ],
      "id": "dzr1b28e0Ude",
      "execution_count": 14,
      "outputs": [
        {
          "output_type": "stream",
          "text": [
            "total 4\n",
            "-rw-r--r-- 1 root root 23 Apr  6 03:44 README.md\n"
          ],
          "name": "stdout"
        }
      ]
    },
    {
      "cell_type": "code",
      "metadata": {
        "colab": {
          "base_uri": "https://localhost:8080/"
        },
        "id": "7wSUmoAC0UaG",
        "outputId": "52a1a39d-93bf-4032-a62c-015413b0c235"
      },
      "source": [
        "!ls -al"
      ],
      "id": "7wSUmoAC0UaG",
      "execution_count": 15,
      "outputs": [
        {
          "output_type": "stream",
          "text": [
            "total 16\n",
            "drwxr-xr-x 3 root root 4096 Apr  6 03:44 .\n",
            "drwxr-xr-x 1 root root 4096 Apr  6 03:44 ..\n",
            "drwxr-xr-x 8 root root 4096 Apr  6 03:44 .git\n",
            "-rw-r--r-- 1 root root   23 Apr  6 03:44 README.md\n"
          ],
          "name": "stdout"
        }
      ]
    },
    {
      "cell_type": "code",
      "metadata": {
        "colab": {
          "base_uri": "https://localhost:8080/"
        },
        "id": "zjJNVS-r0UWt",
        "outputId": "cfb1f635-866b-43b8-bb59-e10f48cf2678"
      },
      "source": [
        "!ls .git -al\n"
      ],
      "id": "zjJNVS-r0UWt",
      "execution_count": 16,
      "outputs": [
        {
          "output_type": "stream",
          "text": [
            "total 52\n",
            "drwxr-xr-x 8 root root 4096 Apr  6 03:44 .\n",
            "drwxr-xr-x 3 root root 4096 Apr  6 03:44 ..\n",
            "drwxr-xr-x 2 root root 4096 Apr  6 03:44 branches\n",
            "-rw-r--r-- 1 root root  282 Apr  6 03:44 config\n",
            "-rw-r--r-- 1 root root   73 Apr  6 03:44 description\n",
            "-rw-r--r-- 1 root root   21 Apr  6 03:44 HEAD\n",
            "drwxr-xr-x 2 root root 4096 Apr  6 03:44 hooks\n",
            "-rw-r--r-- 1 root root  137 Apr  6 03:44 index\n",
            "drwxr-xr-x 2 root root 4096 Apr  6 03:44 info\n",
            "drwxr-xr-x 3 root root 4096 Apr  6 03:44 logs\n",
            "drwxr-xr-x 7 root root 4096 Apr  6 03:44 objects\n",
            "-rw-r--r-- 1 root root  112 Apr  6 03:44 packed-refs\n",
            "drwxr-xr-x 5 root root 4096 Apr  6 03:44 refs\n"
          ],
          "name": "stdout"
        }
      ]
    },
    {
      "cell_type": "markdown",
      "metadata": {
        "id": "laUURKpc_01B"
      },
      "source": [
        "### Rastrear Archivos Nuevos\n",
        "Pg. 26\n",
        "\n",
        "![GitAdd](https://github.com/GerardoMunoz/progit2-es/raw/master/jupyter-summary/imagenes/Diapositiva2.PNG)\n"
      ],
      "id": "laUURKpc_01B"
    },
    {
      "cell_type": "markdown",
      "metadata": {
        "id": "7Q-6F9c6mkUN"
      },
      "source": [
        "### Creando un primer archivo (`concluciones.txt`)\n",
        "\n",
        "Entra las muchísimas opciones que tenemos para crear un archivo, vamos a usar una que tiene Linux para crear archivos de texto. Esta opción consiste en el comando `echo`. "
      ],
      "id": "7Q-6F9c6mkUN"
    },
    {
      "cell_type": "code",
      "metadata": {
        "id": "TrJrRTmp0UTL"
      },
      "source": [
        ""
      ],
      "id": "TrJrRTmp0UTL",
      "execution_count": 16,
      "outputs": []
    },
    {
      "cell_type": "code",
      "metadata": {
        "id": "hHLrtvP-5Go2"
      },
      "source": [
        "# `echo ... > ...` permite crear un archivo \n",
        "!echo \"Finalmente podemos concluir que ...\" > conclusion.txt"
      ],
      "id": "hHLrtvP-5Go2",
      "execution_count": 17,
      "outputs": []
    },
    {
      "cell_type": "code",
      "metadata": {
        "id": "mXrRRpO85Go2",
        "colab": {
          "base_uri": "https://localhost:8080/"
        },
        "outputId": "a64c1063-bcbd-4c90-fa4f-b6fab0fa9d23"
      },
      "source": [
        "!ls -l"
      ],
      "id": "mXrRRpO85Go2",
      "execution_count": 18,
      "outputs": [
        {
          "output_type": "stream",
          "text": [
            "total 8\n",
            "-rw-r--r-- 1 root root 36 Apr  6 03:44 conclusion.txt\n",
            "-rw-r--r-- 1 root root 23 Apr  6 03:44 README.md\n"
          ],
          "name": "stdout"
        }
      ]
    },
    {
      "cell_type": "code",
      "metadata": {
        "id": "qfxf_nbi5Go2",
        "colab": {
          "base_uri": "https://localhost:8080/"
        },
        "outputId": "7ac69be8-0814-47e8-b12b-adbe43fe1c6d"
      },
      "source": [
        "# `cat ...` permite crear un archivo \n",
        "!cat conclusion.txt"
      ],
      "id": "qfxf_nbi5Go2",
      "execution_count": 19,
      "outputs": [
        {
          "output_type": "stream",
          "text": [
            "Finalmente podemos concluir que ...\n"
          ],
          "name": "stdout"
        }
      ]
    },
    {
      "cell_type": "code",
      "metadata": {
        "id": "OZ8NOc0G5Go3",
        "colab": {
          "base_uri": "https://localhost:8080/"
        },
        "outputId": "35c1dcf9-e699-4728-8f03-925c9aeeef54"
      },
      "source": [
        "!git status"
      ],
      "id": "OZ8NOc0G5Go3",
      "execution_count": 20,
      "outputs": [
        {
          "output_type": "stream",
          "text": [
            "On branch main\n",
            "Your branch is up to date with 'origin/main'.\n",
            "\n",
            "Untracked files:\n",
            "  (use \"git add <file>...\" to include in what will be committed)\n",
            "\n",
            "\t\u001b[31mconclusion.txt\u001b[m\n",
            "\n",
            "nothing added to commit but untracked files present (use \"git add\" to track)\n"
          ],
          "name": "stdout"
        }
      ]
    },
    {
      "cell_type": "code",
      "metadata": {
        "id": "wxR30VTH5Go4"
      },
      "source": [
        "!git add conclusion.txt"
      ],
      "id": "wxR30VTH5Go4",
      "execution_count": 21,
      "outputs": []
    },
    {
      "cell_type": "code",
      "metadata": {
        "id": "_p3GYWxy5Go4",
        "colab": {
          "base_uri": "https://localhost:8080/"
        },
        "outputId": "d90e5906-4c57-425e-a1fe-9b0455192881"
      },
      "source": [
        "!git status"
      ],
      "id": "_p3GYWxy5Go4",
      "execution_count": 22,
      "outputs": [
        {
          "output_type": "stream",
          "text": [
            "On branch main\n",
            "Your branch is up to date with 'origin/main'.\n",
            "\n",
            "Changes to be committed:\n",
            "  (use \"git reset HEAD <file>...\" to unstage)\n",
            "\n",
            "\t\u001b[32mnew file:   conclusion.txt\u001b[m\n",
            "\n"
          ],
          "name": "stdout"
        }
      ]
    },
    {
      "cell_type": "markdown",
      "metadata": {
        "id": "pbiwHmDH5Go4"
      },
      "source": [
        "### Creando un segundo archivo (`resumen.txt`)"
      ],
      "id": "pbiwHmDH5Go4"
    },
    {
      "cell_type": "code",
      "metadata": {
        "id": "Y7SHGhDi5Go4"
      },
      "source": [
        "# Se puede copiar un archivo en la carpeta o crearlo desde cualquier progrma\n",
        "!echo \"En este documento se presenta ...\" > resumen.txt"
      ],
      "id": "Y7SHGhDi5Go4",
      "execution_count": 23,
      "outputs": []
    },
    {
      "cell_type": "code",
      "metadata": {
        "id": "iV6l0auz5Go4",
        "colab": {
          "base_uri": "https://localhost:8080/"
        },
        "outputId": "9755a0cf-d6dd-4eb4-c0b6-15c00f2802ca"
      },
      "source": [
        "!git status"
      ],
      "id": "iV6l0auz5Go4",
      "execution_count": 24,
      "outputs": [
        {
          "output_type": "stream",
          "text": [
            "On branch main\n",
            "Your branch is up to date with 'origin/main'.\n",
            "\n",
            "Changes to be committed:\n",
            "  (use \"git reset HEAD <file>...\" to unstage)\n",
            "\n",
            "\t\u001b[32mnew file:   conclusion.txt\u001b[m\n",
            "\n",
            "Untracked files:\n",
            "  (use \"git add <file>...\" to include in what will be committed)\n",
            "\n",
            "\t\u001b[31mresumen.txt\u001b[m\n",
            "\n"
          ],
          "name": "stdout"
        }
      ]
    },
    {
      "cell_type": "code",
      "metadata": {
        "id": "ZRDWCb7C5Go5"
      },
      "source": [
        "!git add resumen.txt"
      ],
      "id": "ZRDWCb7C5Go5",
      "execution_count": 25,
      "outputs": []
    },
    {
      "cell_type": "code",
      "metadata": {
        "id": "lScKRw7x5Go5",
        "colab": {
          "base_uri": "https://localhost:8080/"
        },
        "outputId": "04050be2-65a0-4986-a359-f954491f8957"
      },
      "source": [
        "!git status"
      ],
      "id": "lScKRw7x5Go5",
      "execution_count": 26,
      "outputs": [
        {
          "output_type": "stream",
          "text": [
            "On branch main\n",
            "Your branch is up to date with 'origin/main'.\n",
            "\n",
            "Changes to be committed:\n",
            "  (use \"git reset HEAD <file>...\" to unstage)\n",
            "\n",
            "\t\u001b[32mnew file:   conclusion.txt\u001b[m\n",
            "\t\u001b[32mnew file:   resumen.txt\u001b[m\n",
            "\n"
          ],
          "name": "stdout"
        }
      ]
    },
    {
      "cell_type": "markdown",
      "metadata": {
        "id": "M8nCVNSp5Go5"
      },
      "source": [
        "## Confirmando (`commit`)"
      ],
      "id": "M8nCVNSp5Go5"
    },
    {
      "cell_type": "markdown",
      "metadata": {
        "id": "SxPHz4c4xRVu"
      },
      "source": [
        "![GitCommitPush](https://github.com/GerardoMunoz/progit2-es/raw/master/jupyter-summary/imagenes/Diapositiva3.PNG)"
      ],
      "id": "SxPHz4c4xRVu"
    },
    {
      "cell_type": "code",
      "metadata": {
        "id": "sg8pMXlC5Go5",
        "colab": {
          "base_uri": "https://localhost:8080/"
        },
        "outputId": "811fb1b4-c698-4dea-af02-6ced5e3fbbbd"
      },
      "source": [
        "!git commit -m \"Versión inicial del proyecto\"\n"
      ],
      "id": "sg8pMXlC5Go5",
      "execution_count": 27,
      "outputs": [
        {
          "output_type": "stream",
          "text": [
            "[main 4748b30] Versión inicial del proyecto\n",
            " 2 files changed, 2 insertions(+)\n",
            " create mode 100644 conclusion.txt\n",
            " create mode 100644 resumen.txt\n"
          ],
          "name": "stdout"
        }
      ]
    },
    {
      "cell_type": "code",
      "metadata": {
        "id": "loQUUtMG5Go6",
        "colab": {
          "base_uri": "https://localhost:8080/"
        },
        "outputId": "463330bb-1043-428b-f75b-e81c9b903b65"
      },
      "source": [
        "!git status"
      ],
      "id": "loQUUtMG5Go6",
      "execution_count": 28,
      "outputs": [
        {
          "output_type": "stream",
          "text": [
            "On branch main\n",
            "Your branch is ahead of 'origin/main' by 1 commit.\n",
            "  (use \"git push\" to publish your local commits)\n",
            "\n",
            "nothing to commit, working tree clean\n"
          ],
          "name": "stdout"
        }
      ]
    },
    {
      "cell_type": "markdown",
      "metadata": {
        "id": "Yb3NT9Nh5Go6"
      },
      "source": [
        "## Modificando y preparando archivos \n",
        "Pg. 26"
      ],
      "id": "Yb3NT9Nh5Go6"
    },
    {
      "cell_type": "code",
      "metadata": {
        "id": "VXhYdnML5Go6"
      },
      "source": [
        "!echo \"... en este aspecto mejoró 3% respecto ...\" >> conclusion.txt"
      ],
      "id": "VXhYdnML5Go6",
      "execution_count": 29,
      "outputs": []
    },
    {
      "cell_type": "code",
      "metadata": {
        "id": "YIVjZtDc5Go6",
        "colab": {
          "base_uri": "https://localhost:8080/"
        },
        "outputId": "fee4c4e4-6c16-460f-d4ee-8878b5fcd3a0"
      },
      "source": [
        "!type conclusion.txt"
      ],
      "id": "YIVjZtDc5Go6",
      "execution_count": 30,
      "outputs": [
        {
          "output_type": "stream",
          "text": [
            "/bin/bash: line 0: type: conclusion.txt: not found\n"
          ],
          "name": "stdout"
        }
      ]
    },
    {
      "cell_type": "code",
      "metadata": {
        "id": "-sAtfMJb5Go7",
        "colab": {
          "base_uri": "https://localhost:8080/"
        },
        "outputId": "94043b9f-90ca-4216-9d64-adf199ddea6b"
      },
      "source": [
        "!git status"
      ],
      "id": "-sAtfMJb5Go7",
      "execution_count": 31,
      "outputs": [
        {
          "output_type": "stream",
          "text": [
            "On branch main\n",
            "Your branch is ahead of 'origin/main' by 1 commit.\n",
            "  (use \"git push\" to publish your local commits)\n",
            "\n",
            "Changes not staged for commit:\n",
            "  (use \"git add <file>...\" to update what will be committed)\n",
            "  (use \"git checkout -- <file>...\" to discard changes in working directory)\n",
            "\n",
            "\t\u001b[31mmodified:   conclusion.txt\u001b[m\n",
            "\n",
            "no changes added to commit (use \"git add\" and/or \"git commit -a\")\n"
          ],
          "name": "stdout"
        }
      ]
    },
    {
      "cell_type": "code",
      "metadata": {
        "id": "7FMKkajG5Go7"
      },
      "source": [
        "!echo \"... mejores resultados que los reportados.\" >> resumen.txt"
      ],
      "id": "7FMKkajG5Go7",
      "execution_count": 32,
      "outputs": []
    },
    {
      "cell_type": "code",
      "metadata": {
        "id": "eaiCEUqI5Go7",
        "colab": {
          "base_uri": "https://localhost:8080/"
        },
        "outputId": "ea393199-b526-4eb1-c71d-0b2a2df3ab66"
      },
      "source": [
        "!cat resumen.txt"
      ],
      "id": "eaiCEUqI5Go7",
      "execution_count": 33,
      "outputs": [
        {
          "output_type": "stream",
          "text": [
            "En este documento se presenta ...\n",
            "... mejores resultados que los reportados.\n"
          ],
          "name": "stdout"
        }
      ]
    },
    {
      "cell_type": "code",
      "metadata": {
        "id": "0cv4Sfwt5Go7",
        "colab": {
          "base_uri": "https://localhost:8080/"
        },
        "outputId": "2e405a06-f528-44c8-cbe6-701b1bc02cc4"
      },
      "source": [
        "!git status"
      ],
      "id": "0cv4Sfwt5Go7",
      "execution_count": 34,
      "outputs": [
        {
          "output_type": "stream",
          "text": [
            "On branch main\n",
            "Your branch is ahead of 'origin/main' by 1 commit.\n",
            "  (use \"git push\" to publish your local commits)\n",
            "\n",
            "Changes not staged for commit:\n",
            "  (use \"git add <file>...\" to update what will be committed)\n",
            "  (use \"git checkout -- <file>...\" to discard changes in working directory)\n",
            "\n",
            "\t\u001b[31mmodified:   conclusion.txt\u001b[m\n",
            "\t\u001b[31mmodified:   resumen.txt\u001b[m\n",
            "\n",
            "no changes added to commit (use \"git add\" and/or \"git commit -a\")\n"
          ],
          "name": "stdout"
        }
      ]
    },
    {
      "cell_type": "code",
      "metadata": {
        "id": "frdgDOqB5Go8"
      },
      "source": [
        "!echo \"Desde los inicios de ...\" >> introduccion.txt"
      ],
      "id": "frdgDOqB5Go8",
      "execution_count": 35,
      "outputs": []
    },
    {
      "cell_type": "code",
      "metadata": {
        "id": "ZbZoA-wB5Go8",
        "colab": {
          "base_uri": "https://localhost:8080/"
        },
        "outputId": "3ca7432e-b926-4d7e-a1f2-f3c79a26e95d"
      },
      "source": [
        "!git status"
      ],
      "id": "ZbZoA-wB5Go8",
      "execution_count": 36,
      "outputs": [
        {
          "output_type": "stream",
          "text": [
            "On branch main\n",
            "Your branch is ahead of 'origin/main' by 1 commit.\n",
            "  (use \"git push\" to publish your local commits)\n",
            "\n",
            "Changes not staged for commit:\n",
            "  (use \"git add <file>...\" to update what will be committed)\n",
            "  (use \"git checkout -- <file>...\" to discard changes in working directory)\n",
            "\n",
            "\t\u001b[31mmodified:   conclusion.txt\u001b[m\n",
            "\t\u001b[31mmodified:   resumen.txt\u001b[m\n",
            "\n",
            "Untracked files:\n",
            "  (use \"git add <file>...\" to include in what will be committed)\n",
            "\n",
            "\t\u001b[31mintroduccion.txt\u001b[m\n",
            "\n",
            "no changes added to commit (use \"git add\" and/or \"git commit -a\")\n"
          ],
          "name": "stdout"
        }
      ]
    },
    {
      "cell_type": "code",
      "metadata": {
        "id": "bkDDU7mO5Go8"
      },
      "source": [
        "!echo \"... se presentará en las conclusiones.\" >> introduccion.txt"
      ],
      "id": "bkDDU7mO5Go8",
      "execution_count": 37,
      "outputs": []
    },
    {
      "cell_type": "code",
      "metadata": {
        "id": "_kfByseK5Go9",
        "colab": {
          "base_uri": "https://localhost:8080/"
        },
        "outputId": "b8ec37ce-6da0-4eba-aa78-1e0b93368557"
      },
      "source": [
        "!git status"
      ],
      "id": "_kfByseK5Go9",
      "execution_count": 38,
      "outputs": [
        {
          "output_type": "stream",
          "text": [
            "On branch main\n",
            "Your branch is ahead of 'origin/main' by 1 commit.\n",
            "  (use \"git push\" to publish your local commits)\n",
            "\n",
            "Changes not staged for commit:\n",
            "  (use \"git add <file>...\" to update what will be committed)\n",
            "  (use \"git checkout -- <file>...\" to discard changes in working directory)\n",
            "\n",
            "\t\u001b[31mmodified:   conclusion.txt\u001b[m\n",
            "\t\u001b[31mmodified:   resumen.txt\u001b[m\n",
            "\n",
            "Untracked files:\n",
            "  (use \"git add <file>...\" to include in what will be committed)\n",
            "\n",
            "\t\u001b[31mintroduccion.txt\u001b[m\n",
            "\n",
            "no changes added to commit (use \"git add\" and/or \"git commit -a\")\n"
          ],
          "name": "stdout"
        }
      ]
    },
    {
      "cell_type": "code",
      "metadata": {
        "id": "kgZ_zbJJ5Go9"
      },
      "source": [
        "!git add conclusion.txt"
      ],
      "id": "kgZ_zbJJ5Go9",
      "execution_count": 39,
      "outputs": []
    },
    {
      "cell_type": "code",
      "metadata": {
        "id": "5YvCwo-_5Go9",
        "colab": {
          "base_uri": "https://localhost:8080/"
        },
        "outputId": "d7a8ec27-f364-4097-e77f-9390fd77310c"
      },
      "source": [
        "!git status"
      ],
      "id": "5YvCwo-_5Go9",
      "execution_count": 40,
      "outputs": [
        {
          "output_type": "stream",
          "text": [
            "On branch main\n",
            "Your branch is ahead of 'origin/main' by 1 commit.\n",
            "  (use \"git push\" to publish your local commits)\n",
            "\n",
            "Changes to be committed:\n",
            "  (use \"git reset HEAD <file>...\" to unstage)\n",
            "\n",
            "\t\u001b[32mmodified:   conclusion.txt\u001b[m\n",
            "\n",
            "Changes not staged for commit:\n",
            "  (use \"git add <file>...\" to update what will be committed)\n",
            "  (use \"git checkout -- <file>...\" to discard changes in working directory)\n",
            "\n",
            "\t\u001b[31mmodified:   resumen.txt\u001b[m\n",
            "\n",
            "Untracked files:\n",
            "  (use \"git add <file>...\" to include in what will be committed)\n",
            "\n",
            "\t\u001b[31mintroduccion.txt\u001b[m\n",
            "\n"
          ],
          "name": "stdout"
        }
      ]
    },
    {
      "cell_type": "code",
      "metadata": {
        "id": "KJCIn54P5Go-"
      },
      "source": [
        "!echo \"... superando en tres de los cinco ...\" >> conclusion.txt"
      ],
      "id": "KJCIn54P5Go-",
      "execution_count": 41,
      "outputs": []
    },
    {
      "cell_type": "code",
      "metadata": {
        "id": "Ys3LJ-9E5Go-",
        "colab": {
          "base_uri": "https://localhost:8080/"
        },
        "outputId": "4ab094a8-9aaa-43ae-caf3-e01f10b4c286"
      },
      "source": [
        "!type conclusion.txt"
      ],
      "id": "Ys3LJ-9E5Go-",
      "execution_count": 42,
      "outputs": [
        {
          "output_type": "stream",
          "text": [
            "/bin/bash: line 0: type: conclusion.txt: not found\n"
          ],
          "name": "stdout"
        }
      ]
    },
    {
      "cell_type": "code",
      "metadata": {
        "id": "U9GA7hcL5Go-",
        "colab": {
          "base_uri": "https://localhost:8080/"
        },
        "outputId": "d7fc39af-3353-491d-9f4a-5b274d3e9b92"
      },
      "source": [
        "!git status"
      ],
      "id": "U9GA7hcL5Go-",
      "execution_count": 43,
      "outputs": [
        {
          "output_type": "stream",
          "text": [
            "On branch main\n",
            "Your branch is ahead of 'origin/main' by 1 commit.\n",
            "  (use \"git push\" to publish your local commits)\n",
            "\n",
            "Changes to be committed:\n",
            "  (use \"git reset HEAD <file>...\" to unstage)\n",
            "\n",
            "\t\u001b[32mmodified:   conclusion.txt\u001b[m\n",
            "\n",
            "Changes not staged for commit:\n",
            "  (use \"git add <file>...\" to update what will be committed)\n",
            "  (use \"git checkout -- <file>...\" to discard changes in working directory)\n",
            "\n",
            "\t\u001b[31mmodified:   conclusion.txt\u001b[m\n",
            "\t\u001b[31mmodified:   resumen.txt\u001b[m\n",
            "\n",
            "Untracked files:\n",
            "  (use \"git add <file>...\" to include in what will be committed)\n",
            "\n",
            "\t\u001b[31mintroduccion.txt\u001b[m\n",
            "\n"
          ],
          "name": "stdout"
        }
      ]
    },
    {
      "cell_type": "code",
      "metadata": {
        "id": "z1qNCOfD5Go-",
        "colab": {
          "base_uri": "https://localhost:8080/"
        },
        "outputId": "2db63244-e79f-483d-8693-7b4968a95d91"
      },
      "source": [
        "!git status -s\n",
        "# ??  No rastreado (Untracked)\n",
        "# A  Preparado (Staged)\n",
        "# M  Modificado (Modified)\n",
        "    # Columna izquierda es el estado preparado\n",
        "    # Columna derecha es el estado sin preparar"
      ],
      "id": "z1qNCOfD5Go-",
      "execution_count": 44,
      "outputs": [
        {
          "output_type": "stream",
          "text": [
            "\u001b[32mM\u001b[m\u001b[31mM\u001b[m conclusion.txt\n",
            " \u001b[31mM\u001b[m resumen.txt\n",
            "\u001b[31m??\u001b[m introduccion.txt\n"
          ],
          "name": "stdout"
        }
      ]
    },
    {
      "cell_type": "code",
      "metadata": {
        "id": "EICEpfXJ5Go-"
      },
      "source": [
        "!git add introduccion.txt"
      ],
      "id": "EICEpfXJ5Go-",
      "execution_count": 45,
      "outputs": []
    },
    {
      "cell_type": "code",
      "metadata": {
        "id": "6bhNlglr5Go_",
        "colab": {
          "base_uri": "https://localhost:8080/"
        },
        "outputId": "b26fc2d1-e10c-44a0-d7a8-8bfb92ab8ec4"
      },
      "source": [
        "!git status -s"
      ],
      "id": "6bhNlglr5Go_",
      "execution_count": 46,
      "outputs": [
        {
          "output_type": "stream",
          "text": [
            "\u001b[32mM\u001b[m\u001b[31mM\u001b[m conclusion.txt\n",
            "\u001b[32mA\u001b[m  introduccion.txt\n",
            " \u001b[31mM\u001b[m resumen.txt\n"
          ],
          "name": "stdout"
        }
      ]
    },
    {
      "cell_type": "code",
      "metadata": {
        "id": "wn2ftfyQ5Go_"
      },
      "source": [
        "!git add conclusion.txt"
      ],
      "id": "wn2ftfyQ5Go_",
      "execution_count": 47,
      "outputs": []
    },
    {
      "cell_type": "code",
      "metadata": {
        "id": "HrYO2tNn5Go_",
        "colab": {
          "base_uri": "https://localhost:8080/"
        },
        "outputId": "64e283f2-908d-4fae-9659-40ea38190427"
      },
      "source": [
        "!git status -s"
      ],
      "id": "HrYO2tNn5Go_",
      "execution_count": 48,
      "outputs": [
        {
          "output_type": "stream",
          "text": [
            "\u001b[32mM\u001b[m  conclusion.txt\n",
            "\u001b[32mA\u001b[m  introduccion.txt\n",
            " \u001b[31mM\u001b[m resumen.txt\n"
          ],
          "name": "stdout"
        }
      ]
    },
    {
      "cell_type": "code",
      "metadata": {
        "id": "KorMKKN15Go_"
      },
      "source": [
        "!git add resumen.txt"
      ],
      "id": "KorMKKN15Go_",
      "execution_count": 49,
      "outputs": []
    },
    {
      "cell_type": "code",
      "metadata": {
        "id": "Zct0fkbc5Go_",
        "colab": {
          "base_uri": "https://localhost:8080/"
        },
        "outputId": "10ba936f-cefe-47ba-8328-8b5ab8309134"
      },
      "source": [
        "!git status -s"
      ],
      "id": "Zct0fkbc5Go_",
      "execution_count": 50,
      "outputs": [
        {
          "output_type": "stream",
          "text": [
            "\u001b[32mM\u001b[m  conclusion.txt\n",
            "\u001b[32mA\u001b[m  introduccion.txt\n",
            "\u001b[32mM\u001b[m  resumen.txt\n"
          ],
          "name": "stdout"
        }
      ]
    },
    {
      "cell_type": "code",
      "metadata": {
        "id": "1dBpExez5Go_",
        "colab": {
          "base_uri": "https://localhost:8080/"
        },
        "outputId": "5de27105-d10e-42cb-ff8c-68b961578daf"
      },
      "source": [
        "!git commit -m \"Se actualizó la conclusión y el resumen con los resultados y se comenzó la introduccón\""
      ],
      "id": "1dBpExez5Go_",
      "execution_count": 51,
      "outputs": [
        {
          "output_type": "stream",
          "text": [
            "[main 751062f] Se actualizó la conclusión y el resumen con los resultados y se comenzó la introduccón\n",
            " 3 files changed, 5 insertions(+)\n",
            " create mode 100644 introduccion.txt\n"
          ],
          "name": "stdout"
        }
      ]
    },
    {
      "cell_type": "code",
      "metadata": {
        "id": "i8uJB_uf5GpA"
      },
      "source": [
        "!git status -s"
      ],
      "id": "i8uJB_uf5GpA",
      "execution_count": 52,
      "outputs": []
    },
    {
      "cell_type": "markdown",
      "metadata": {
        "id": "qWTqzXCM5GpA"
      },
      "source": [
        "### Guardando cambios en el Repositorio\n",
        "Pg. 24"
      ],
      "id": "qWTqzXCM5GpA"
    },
    {
      "cell_type": "code",
      "metadata": {
        "id": "g0HbtJFf5GpA",
        "colab": {
          "base_uri": "https://localhost:8080/"
        },
        "outputId": "9cd8a212-e516-41ea-c550-ca20466c5a32"
      },
      "source": [
        "!git status"
      ],
      "id": "g0HbtJFf5GpA",
      "execution_count": 53,
      "outputs": [
        {
          "output_type": "stream",
          "text": [
            "On branch main\n",
            "Your branch is ahead of 'origin/main' by 2 commits.\n",
            "  (use \"git push\" to publish your local commits)\n",
            "\n",
            "nothing to commit, working tree clean\n"
          ],
          "name": "stdout"
        }
      ]
    },
    {
      "cell_type": "markdown",
      "metadata": {
        "id": "rSB8iEO75GpA"
      },
      "source": [
        "## Ver el Historial de Confirmaciones\n",
        "Pg. 37"
      ],
      "id": "rSB8iEO75GpA"
    },
    {
      "cell_type": "code",
      "metadata": {
        "id": "JQOsArea5GpA",
        "colab": {
          "base_uri": "https://localhost:8080/"
        },
        "outputId": "b4be22b0-cf49-4f4e-a2ed-24f8e18ce05b"
      },
      "source": [
        "!git log"
      ],
      "id": "JQOsArea5GpA",
      "execution_count": 54,
      "outputs": [
        {
          "output_type": "stream",
          "text": [
            "\u001b[33mcommit 751062f4d3f43917db20304bb5216aa3e8e1a317\u001b[m\u001b[33m (\u001b[m\u001b[1;36mHEAD -> \u001b[m\u001b[1;32mmain\u001b[m\u001b[33m)\u001b[m\n",
            "Author: cambiar-por-su-nombre <cambiar.por.su.correo@gmail.com>\n",
            "Date:   Tue Apr 6 03:44:40 2021 +0000\n",
            "\n",
            "    Se actualizó la conclusión y el resumen con los resultados y se comenzó la introduccón\n",
            "\n",
            "\u001b[33mcommit 4748b30b5a8c28006f4ed45af343b804f3d10d46\u001b[m\n",
            "Author: cambiar-por-su-nombre <cambiar.por.su.correo@gmail.com>\n",
            "Date:   Tue Apr 6 03:44:37 2021 +0000\n",
            "\n",
            "    Versión inicial del proyecto\n",
            "\n",
            "\u001b[33mcommit 857540122b4fb51938d42e6524bec326cf8bcc72\u001b[m\u001b[33m (\u001b[m\u001b[1;31morigin/main\u001b[m\u001b[33m, \u001b[m\u001b[1;31morigin/HEAD\u001b[m\u001b[33m)\u001b[m\n",
            "Author: cambiar-por-su-nombre <81787129+cambiar-por-su-nombre@users.noreply.github.com>\n",
            "Date:   Sun Apr 4 20:43:31 2021 -0500\n",
            "\n",
            "    Create README.md\n"
          ],
          "name": "stdout"
        }
      ]
    },
    {
      "cell_type": "markdown",
      "metadata": {
        "id": "cMCBn04Y5GpB"
      },
      "source": [
        "### Ignorar archivos\n",
        "Pg. 29\n",
        "\n",
        "En el archivo  `.gitignore` se colocan los archivos a ignorar\n",
        " "
      ],
      "id": "cMCBn04Y5GpB"
    },
    {
      "cell_type": "markdown",
      "metadata": {
        "id": "CX7FYg4t5GpB"
      },
      "source": [
        "### Ver los Cambios Preparados y No Preparados \n",
        "Pg. 30\n",
        "\n",
        "`git diff --staged`"
      ],
      "id": "CX7FYg4t5GpB"
    },
    {
      "cell_type": "markdown",
      "metadata": {
        "id": "tEqS8lEe5GpB"
      },
      "source": [
        "### Confirmar tus Cambios \n",
        "Pg. 33\n",
        "\n",
        "`git commit`\n",
        "\n"
      ],
      "id": "tEqS8lEe5GpB"
    },
    {
      "cell_type": "markdown",
      "metadata": {
        "id": "ZPbXQSp-5GpC"
      },
      "source": [
        "### Saltar el Área de Preparación \n",
        "Pg. 34\n",
        "\n",
        "`git commit -a -m \"added new benchmarks\"`\n",
        "\n",
        "![image.png](attachment:image.png)"
      ],
      "id": "ZPbXQSp-5GpC"
    },
    {
      "cell_type": "markdown",
      "metadata": {
        "id": "HjSQJ-re5GpC"
      },
      "source": [
        "### Eliminar Archivos \n",
        "Pg. 35\n",
        "\n",
        "`git rm un_archivo`\n",
        "\n"
      ],
      "id": "HjSQJ-re5GpC"
    },
    {
      "cell_type": "markdown",
      "metadata": {
        "id": "pOt6LpJg5GpD"
      },
      "source": [
        "### Cambiar el Nombre de los Archivos \n",
        "Pg. 36\n",
        "\n",
        "`git mv file_from file_to`"
      ],
      "id": "pOt6LpJg5GpD"
    },
    {
      "cell_type": "markdown",
      "metadata": {
        "id": "VMraxyUk5GpD"
      },
      "source": [
        "## Ver el Historial de Confirmaciones\n",
        "Pg. 37"
      ],
      "id": "VMraxyUk5GpD"
    },
    {
      "cell_type": "code",
      "metadata": {
        "id": "mHOpKyQ75GpD",
        "colab": {
          "base_uri": "https://localhost:8080/"
        },
        "outputId": "f46dc45b-5461-4a8a-891e-5d0f38dbc1a4"
      },
      "source": [
        "!git clone https://github.com/schacon/simplegit-progit"
      ],
      "id": "mHOpKyQ75GpD",
      "execution_count": 55,
      "outputs": [
        {
          "output_type": "stream",
          "text": [
            "Cloning into 'simplegit-progit'...\n",
            "remote: Enumerating objects: 13, done.\u001b[K\n",
            "remote: Total 13 (delta 0), reused 0 (delta 0), pack-reused 13\u001b[K\n",
            "Unpacking objects: 100% (13/13), done.\n"
          ],
          "name": "stdout"
        }
      ]
    },
    {
      "cell_type": "code",
      "metadata": {
        "id": "cjGPRcY35GpE",
        "colab": {
          "base_uri": "https://localhost:8080/"
        },
        "outputId": "ceb6faba-15d6-42d4-d6e9-a2a81a6a50ef"
      },
      "source": [
        "!dir"
      ],
      "id": "cjGPRcY35GpE",
      "execution_count": 56,
      "outputs": [
        {
          "output_type": "stream",
          "text": [
            "conclusion.txt\tintroduccion.txt  README.md  resumen.txt  simplegit-progit\n"
          ],
          "name": "stdout"
        }
      ]
    },
    {
      "cell_type": "code",
      "metadata": {
        "id": "3rqVDOMD5GpE",
        "colab": {
          "base_uri": "https://localhost:8080/"
        },
        "outputId": "9c5cf2e7-7b44-4d58-a721-ab199c6e22b4"
      },
      "source": [
        "!git log"
      ],
      "id": "3rqVDOMD5GpE",
      "execution_count": 57,
      "outputs": [
        {
          "output_type": "stream",
          "text": [
            "\u001b[33mcommit 751062f4d3f43917db20304bb5216aa3e8e1a317\u001b[m\u001b[33m (\u001b[m\u001b[1;36mHEAD -> \u001b[m\u001b[1;32mmain\u001b[m\u001b[33m)\u001b[m\n",
            "Author: cambiar-por-su-nombre <cambiar.por.su.correo@gmail.com>\n",
            "Date:   Tue Apr 6 03:44:40 2021 +0000\n",
            "\n",
            "    Se actualizó la conclusión y el resumen con los resultados y se comenzó la introduccón\n",
            "\n",
            "\u001b[33mcommit 4748b30b5a8c28006f4ed45af343b804f3d10d46\u001b[m\n",
            "Author: cambiar-por-su-nombre <cambiar.por.su.correo@gmail.com>\n",
            "Date:   Tue Apr 6 03:44:37 2021 +0000\n",
            "\n",
            "    Versión inicial del proyecto\n",
            "\n",
            "\u001b[33mcommit 857540122b4fb51938d42e6524bec326cf8bcc72\u001b[m\u001b[33m (\u001b[m\u001b[1;31morigin/main\u001b[m\u001b[33m, \u001b[m\u001b[1;31morigin/HEAD\u001b[m\u001b[33m)\u001b[m\n",
            "Author: cambiar-por-su-nombre <81787129+cambiar-por-su-nombre@users.noreply.github.com>\n",
            "Date:   Sun Apr 4 20:43:31 2021 -0500\n",
            "\n",
            "    Create README.md\n"
          ],
          "name": "stdout"
        }
      ]
    },
    {
      "cell_type": "code",
      "metadata": {
        "id": "8ZDQnJ2v5GpE",
        "colab": {
          "base_uri": "https://localhost:8080/"
        },
        "outputId": "d9c6157b-825f-4023-8499-686b03720ff4"
      },
      "source": [
        "%cd simplegit-progit"
      ],
      "id": "8ZDQnJ2v5GpE",
      "execution_count": 58,
      "outputs": [
        {
          "output_type": "stream",
          "text": [
            "/content/TrabajosProgramacion/simplegit-progit\n"
          ],
          "name": "stdout"
        }
      ]
    },
    {
      "cell_type": "code",
      "metadata": {
        "id": "Y8qGr2Jc5GpE",
        "colab": {
          "base_uri": "https://localhost:8080/"
        },
        "outputId": "c79b7b63-ad12-4e94-c3ce-8c7552a1bc12"
      },
      "source": [
        "!dir"
      ],
      "id": "Y8qGr2Jc5GpE",
      "execution_count": 59,
      "outputs": [
        {
          "output_type": "stream",
          "text": [
            "lib  Rakefile  README\n"
          ],
          "name": "stdout"
        }
      ]
    },
    {
      "cell_type": "code",
      "metadata": {
        "id": "snZDZELT5GpF",
        "colab": {
          "base_uri": "https://localhost:8080/"
        },
        "outputId": "dde57055-750c-4b92-a4f7-65d0b245f886"
      },
      "source": [
        "!dir lib"
      ],
      "id": "snZDZELT5GpF",
      "execution_count": 60,
      "outputs": [
        {
          "output_type": "stream",
          "text": [
            "simplegit.rb\n"
          ],
          "name": "stdout"
        }
      ]
    },
    {
      "cell_type": "code",
      "metadata": {
        "id": "YbmAyWKr5GpF",
        "colab": {
          "base_uri": "https://localhost:8080/"
        },
        "outputId": "04062bed-4cc5-4be6-d151-1f8ec6004046"
      },
      "source": [
        "!git log"
      ],
      "id": "YbmAyWKr5GpF",
      "execution_count": 61,
      "outputs": [
        {
          "output_type": "stream",
          "text": [
            "\u001b[33mcommit ca82a6dff817ec66f44342007202690a93763949\u001b[m\u001b[33m (\u001b[m\u001b[1;36mHEAD -> \u001b[m\u001b[1;32mmaster\u001b[m\u001b[33m, \u001b[m\u001b[1;31morigin/master\u001b[m\u001b[33m, \u001b[m\u001b[1;31morigin/HEAD\u001b[m\u001b[33m)\u001b[m\n",
            "Author: Scott Chacon <schacon@gmail.com>\n",
            "Date:   Mon Mar 17 21:52:11 2008 -0700\n",
            "\n",
            "    changed the verison number\n",
            "\n",
            "\u001b[33mcommit 085bb3bcb608e1e8451d4b2432f8ecbe6306e7e7\u001b[m\n",
            "Author: Scott Chacon <schacon@gmail.com>\n",
            "Date:   Sat Mar 15 16:40:33 2008 -0700\n",
            "\n",
            "    removed unnecessary test code\n",
            "\n",
            "\u001b[33mcommit a11bef06a3f659402fe7563abf99ad00de2209e6\u001b[m\n",
            "Author: Scott Chacon <schacon@gmail.com>\n",
            "Date:   Sat Mar 15 10:31:28 2008 -0700\n",
            "\n",
            "    first commit\n"
          ],
          "name": "stdout"
        }
      ]
    },
    {
      "cell_type": "code",
      "metadata": {
        "id": "8kIkPz2Y5GpF",
        "colab": {
          "base_uri": "https://localhost:8080/"
        },
        "outputId": "f229c0a5-9342-47a7-98f0-1da423697a3a"
      },
      "source": [
        "!git log -p -2"
      ],
      "id": "8kIkPz2Y5GpF",
      "execution_count": 62,
      "outputs": [
        {
          "output_type": "stream",
          "text": [
            "\u001b[33mcommit ca82a6dff817ec66f44342007202690a93763949\u001b[m\u001b[33m (\u001b[m\u001b[1;36mHEAD -> \u001b[m\u001b[1;32mmaster\u001b[m\u001b[33m, \u001b[m\u001b[1;31morigin/master\u001b[m\u001b[33m, \u001b[m\u001b[1;31morigin/HEAD\u001b[m\u001b[33m)\u001b[m\n",
            "Author: Scott Chacon <schacon@gmail.com>\n",
            "Date:   Mon Mar 17 21:52:11 2008 -0700\n",
            "\n",
            "    changed the verison number\n",
            "\n",
            "\u001b[1mdiff --git a/Rakefile b/Rakefile\u001b[m\n",
            "\u001b[1mindex a874b73..8f94139 100644\u001b[m\n",
            "\u001b[1m--- a/Rakefile\u001b[m\n",
            "\u001b[1m+++ b/Rakefile\u001b[m\n",
            "\u001b[36m@@ -5,7 +5,7 @@\u001b[m \u001b[mrequire 'rake/gempackagetask'\u001b[m\n",
            " spec = Gem::Specification.new do |s|\u001b[m\n",
            "     s.platform  =   Gem::Platform::RUBY\u001b[m\n",
            "     s.name      =   \"simplegit\"\u001b[m\n",
            "\u001b[31m-    s.version   =   \"0.1.0\"\u001b[m\n",
            "\u001b[32m+\u001b[m\u001b[32m    s.version   =   \"0.1.1\"\u001b[m\n",
            "     s.author    =   \"Scott Chacon\"\u001b[m\n",
            "     s.email     =   \"schacon@gmail.com\"\u001b[m\n",
            "     s.summary   =   \"A simple gem for using Git in Ruby code.\"\u001b[m\n",
            "\n",
            "\u001b[33mcommit 085bb3bcb608e1e8451d4b2432f8ecbe6306e7e7\u001b[m\n",
            "Author: Scott Chacon <schacon@gmail.com>\n",
            "Date:   Sat Mar 15 16:40:33 2008 -0700\n",
            "\n",
            "    removed unnecessary test code\n",
            "\n",
            "\u001b[1mdiff --git a/lib/simplegit.rb b/lib/simplegit.rb\u001b[m\n",
            "\u001b[1mindex a0a60ae..47c6340 100644\u001b[m\n",
            "\u001b[1m--- a/lib/simplegit.rb\u001b[m\n",
            "\u001b[1m+++ b/lib/simplegit.rb\u001b[m\n",
            "\u001b[36m@@ -18,8 +18,3 @@\u001b[m \u001b[mclass SimpleGit\u001b[m\n",
            "     end\u001b[m\n",
            "   \u001b[m\n",
            " end\u001b[m\n",
            "\u001b[31m-\u001b[m\n",
            "\u001b[31m-if $0 == __FILE__\u001b[m\n",
            "\u001b[31m-  git = SimpleGit.new\u001b[m\n",
            "\u001b[31m-  puts git.show\u001b[m\n",
            "\u001b[31m-end\u001b[m\n",
            "\\ No newline at end of file\u001b[m\n"
          ],
          "name": "stdout"
        }
      ]
    },
    {
      "cell_type": "markdown",
      "metadata": {
        "id": "c9cUiwyp5GpF"
      },
      "source": [
        "## Trabajar con remotos\n"
      ],
      "id": "c9cUiwyp5GpF"
    },
    {
      "cell_type": "markdown",
      "metadata": {
        "id": "dGEYogoP5GpF"
      },
      "source": [
        ""
      ],
      "id": "dGEYogoP5GpF"
    },
    {
      "cell_type": "markdown",
      "metadata": {
        "id": "6daallbs5GpJ"
      },
      "source": [
        ""
      ],
      "id": "6daallbs5GpJ"
    },
    {
      "cell_type": "markdown",
      "metadata": {
        "id": "LT8UZFPw5GpJ"
      },
      "source": [
        ""
      ],
      "id": "LT8UZFPw5GpJ"
    },
    {
      "cell_type": "markdown",
      "metadata": {
        "id": "RDuLygHn5GpK"
      },
      "source": [
        ""
      ],
      "id": "RDuLygHn5GpK"
    },
    {
      "cell_type": "markdown",
      "metadata": {
        "id": "QMO-Y8PW5GpK"
      },
      "source": [
        ""
      ],
      "id": "QMO-Y8PW5GpK"
    },
    {
      "cell_type": "markdown",
      "metadata": {
        "id": "buoU7JCG5GpK"
      },
      "source": [
        ""
      ],
      "id": "buoU7JCG5GpK"
    },
    {
      "cell_type": "markdown",
      "metadata": {
        "id": "RAz_1Axk5GpK"
      },
      "source": [
        ""
      ],
      "id": "RAz_1Axk5GpK"
    },
    {
      "cell_type": "markdown",
      "metadata": {
        "id": "lZF-1dcn5GpK"
      },
      "source": [
        ""
      ],
      "id": "lZF-1dcn5GpK"
    },
    {
      "cell_type": "markdown",
      "metadata": {
        "id": "s3IjAnBy5GpK"
      },
      "source": [
        ""
      ],
      "id": "s3IjAnBy5GpK"
    },
    {
      "cell_type": "markdown",
      "metadata": {
        "id": "VO4_GpuY5GpL"
      },
      "source": [
        ""
      ],
      "id": "VO4_GpuY5GpL"
    },
    {
      "cell_type": "markdown",
      "metadata": {
        "id": "IxfQbwjD5GpL"
      },
      "source": [
        ""
      ],
      "id": "IxfQbwjD5GpL"
    },
    {
      "cell_type": "markdown",
      "metadata": {
        "id": "-vWLrXui5GpL"
      },
      "source": [
        ""
      ],
      "id": "-vWLrXui5GpL"
    },
    {
      "cell_type": "markdown",
      "metadata": {
        "id": "YKvDinVb5GpL"
      },
      "source": [
        ""
      ],
      "id": "YKvDinVb5GpL"
    },
    {
      "cell_type": "markdown",
      "metadata": {
        "id": "xJ4O95aW5GpL"
      },
      "source": [
        ""
      ],
      "id": "xJ4O95aW5GpL"
    },
    {
      "cell_type": "markdown",
      "metadata": {
        "id": "9i_y0wCy5GpL"
      },
      "source": [
        ""
      ],
      "id": "9i_y0wCy5GpL"
    },
    {
      "cell_type": "markdown",
      "metadata": {
        "id": "dgp7hG5X5GpL"
      },
      "source": [
        ""
      ],
      "id": "dgp7hG5X5GpL"
    },
    {
      "cell_type": "markdown",
      "metadata": {
        "id": "KXqvB-Vq5GpM"
      },
      "source": [
        ""
      ],
      "id": "KXqvB-Vq5GpM"
    },
    {
      "cell_type": "code",
      "metadata": {
        "id": "Wg_cuRaR5GpM"
      },
      "source": [
        ""
      ],
      "id": "Wg_cuRaR5GpM",
      "execution_count": 62,
      "outputs": []
    },
    {
      "cell_type": "code",
      "metadata": {
        "id": "H4xyVUHr5GpM"
      },
      "source": [
        ""
      ],
      "id": "H4xyVUHr5GpM",
      "execution_count": 62,
      "outputs": []
    },
    {
      "cell_type": "code",
      "metadata": {
        "id": "3msdQRML5GpM"
      },
      "source": [
        ""
      ],
      "id": "3msdQRML5GpM",
      "execution_count": 62,
      "outputs": []
    },
    {
      "cell_type": "code",
      "metadata": {
        "id": "E4_MzFhv5GpM"
      },
      "source": [
        ""
      ],
      "id": "E4_MzFhv5GpM",
      "execution_count": 62,
      "outputs": []
    },
    {
      "cell_type": "code",
      "metadata": {
        "id": "bp36bMWu5GpN"
      },
      "source": [
        ""
      ],
      "id": "bp36bMWu5GpN",
      "execution_count": 62,
      "outputs": []
    },
    {
      "cell_type": "code",
      "metadata": {
        "id": "qzCBkHW75GpN"
      },
      "source": [
        ""
      ],
      "id": "qzCBkHW75GpN",
      "execution_count": 62,
      "outputs": []
    },
    {
      "cell_type": "code",
      "metadata": {
        "id": "GkRr3g3m0UPa"
      },
      "source": [
        ""
      ],
      "id": "GkRr3g3m0UPa",
      "execution_count": 62,
      "outputs": []
    },
    {
      "cell_type": "code",
      "metadata": {
        "id": "Xo3N6M2S0UJZ"
      },
      "source": [
        ""
      ],
      "id": "Xo3N6M2S0UJZ",
      "execution_count": 62,
      "outputs": []
    }
  ]
}