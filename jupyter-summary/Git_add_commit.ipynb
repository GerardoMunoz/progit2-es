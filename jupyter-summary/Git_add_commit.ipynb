{
  "nbformat": 4,
  "nbformat_minor": 0,
  "metadata": {
    "colab": {
      "name": "Git_add_commit.ipynb",
      "provenance": [],
      "authorship_tag": "ABX9TyPL2Hri1xdOC/6UrGdEKEwO",
      "include_colab_link": true
    },
    "kernelspec": {
      "name": "python3",
      "display_name": "Python 3"
    },
    "language_info": {
      "name": "python"
    }
  },
  "cells": [
    {
      "cell_type": "markdown",
      "metadata": {
        "id": "view-in-github",
        "colab_type": "text"
      },
      "source": [
        "<a href=\"https://colab.research.google.com/github/GerardoMunoz/progit2-es/blob/master/jupyter-summary/Git_add_commit.ipynb\" target=\"_parent\"><img src=\"https://colab.research.google.com/assets/colab-badge.svg\" alt=\"Open In Colab\"/></a>"
      ]
    },
    {
      "cell_type": "code",
      "metadata": {
        "id": "tkSJXrLCQXAD"
      },
      "source": [
        ""
      ],
      "execution_count": null,
      "outputs": []
    },
    {
      "cell_type": "markdown",
      "metadata": {
        "id": "municipal-screening"
      },
      "source": [
        "# Git \n",
        "\n",
        "\n",
        "* Resumen basado en el libro 'Pro Git'\n",
        "* Escrito por 'Scott Chacon' y por  'Ben Straub'\n",
        "* Versión 2.1.22, 2021-02-09\n",
        "* https://git-scm.com/book/es/v2\n",
        "\n",
        "# Acerca del Control de Versiones\n",
        "(Pg. 9)\n",
        "Un control de versiones es un\n",
        "sistema que registra los cambios realizados en un archivo o conjunto de archivos a lo largo del\n",
        "tiempo, de modo que puedas recuperar versiones específicas más adelante. \n",
        "\n",
        "# Fundamentos de Git\n",
        "\n",
        "## Los Tres Estados\n",
        "\n",
        "(pg 16) \n",
        "Git tiene tres estados principales en los que se pueden encontrar tus archivos: \n",
        "* confirmado (**committed**), significa que los datos están almacenados de manera segura en tu base de datos local\n",
        "* modificado (**modified**), significa que has modificado el archivo, pero todavía no lo has confirmado a tu base de datos.\n",
        "* preparado (**staged**), significa que has marcado un archivo modificado en su versión actual para que vaya en tu próxima confirmación.\n"
      ]
    },
    {
      "cell_type": "markdown",
      "metadata": {
        "id": "pvUlgFDxD6_l"
      },
      "source": [
        "![Figura 6](https://github.com/GerardoMunoz/progit2-es/raw/fd5562ab1c85dc792491d3d71469bb0ced88165e/jupyter-summary/Fig6_mod.PNG)"
      ]
    },
    {
      "cell_type": "markdown",
      "metadata": {
        "id": "U2j0liTy5Gow"
      },
      "source": [
        "## Configurando Git por primera vez\n",
        "### Tu Identidad\n",
        "Pg. 20"
      ]
    },
    {
      "cell_type": "code",
      "metadata": {
        "id": "K4AzWIMpNmeO"
      },
      "source": [
        "!git config --list "
      ],
      "execution_count": null,
      "outputs": []
    },
    {
      "cell_type": "code",
      "metadata": {
        "id": "477bTP2m5Gow"
      },
      "source": [
        "# no olvide colocar su nombre \n",
        "!git config  --global user.name \"cambiar-por-su-nombre\""
      ],
      "execution_count": null,
      "outputs": []
    },
    {
      "cell_type": "code",
      "metadata": {
        "id": "pL8SXQPv5Gox"
      },
      "source": [
        "# no olvide colocar su email \n",
        "!git config  --global user.email cambiar.por.su.correo@gmail.com"
      ],
      "execution_count": null,
      "outputs": []
    },
    {
      "cell_type": "code",
      "metadata": {
        "colab": {
          "base_uri": "https://localhost:8080/"
        },
        "id": "IroeN9o65Gox",
        "outputId": "c5b2e3ac-10c0-49be-8fc8-592ef08ff8fc"
      },
      "source": [
        "!git config --list "
      ],
      "execution_count": null,
      "outputs": [
        {
          "output_type": "stream",
          "text": [
            "user.name=cambiar-por-su-nombre\n",
            "user.email=cambiar.por.su.correo@gmail.com\n"
          ],
          "name": "stdout"
        }
      ]
    },
    {
      "cell_type": "code",
      "metadata": {
        "colab": {
          "base_uri": "https://localhost:8080/"
        },
        "id": "8gQBTwg35Gox",
        "outputId": "bdbb5a34-0f86-4bde-c005-73febc3a1858"
      },
      "source": [
        "!git config user.name"
      ],
      "execution_count": null,
      "outputs": [
        {
          "output_type": "stream",
          "text": [
            "cambiar-por-su-nombre\n"
          ],
          "name": "stdout"
        }
      ]
    },
    {
      "cell_type": "code",
      "metadata": {
        "colab": {
          "base_uri": "https://localhost:8080/"
        },
        "id": "vqu_2b7W5Goy",
        "outputId": "4874d218-b967-4842-da1e-5bd2ec934347"
      },
      "source": [
        "!git config user.email"
      ],
      "execution_count": null,
      "outputs": [
        {
          "output_type": "stream",
          "text": [
            "cambiar.por.su.correo@gmail.com\n"
          ],
          "name": "stdout"
        }
      ]
    },
    {
      "cell_type": "markdown",
      "metadata": {
        "id": "KupjvV3wdJj4"
      },
      "source": [
        "### Tu Editor\n",
        "Pg. 21\n",
        "\n",
        "Más adelante veremos  que Git abre automaticamente el editor que este configurado cuando se confirman (`commit`) los cambios. El editor se configura de la siguiete forma\n",
        "\n",
        "`git config --global core.editor ` cambiar_por_su_editor\n",
        "\n",
        "Desde Jupyter es preferible no abrir ningún editor ya que Jupyter se puede ejecutar en diferentes entornos. Para evitar abrir un editor al confirmar (`commit`) veremos que se puede usar la opción `-m`   \n",
        "\n",
        "`commit -m \"Aquí escribimos la documentación del cambio\"`\n",
        "\n"
      ]
    },
    {
      "cell_type": "markdown",
      "metadata": {
        "id": "kKCqLTxN5Goy"
      },
      "source": [
        "### ¿Cómo obtener ayuda?\n",
        "Pg. 22"
      ]
    },
    {
      "cell_type": "code",
      "metadata": {
        "id": "4Gf52rsV5Goy"
      },
      "source": [
        "#!git help"
      ],
      "execution_count": null,
      "outputs": []
    },
    {
      "cell_type": "code",
      "metadata": {
        "id": "aZtlgtsm5Goz"
      },
      "source": [
        "#!git help config "
      ],
      "execution_count": null,
      "outputs": []
    },
    {
      "cell_type": "code",
      "metadata": {
        "id": "-1WYNempdIZx"
      },
      "source": [
        ""
      ],
      "execution_count": null,
      "outputs": []
    },
    {
      "cell_type": "markdown",
      "metadata": {
        "id": "fGr9igEG5Goz"
      },
      "source": [
        "## Fundamentos de Git\n",
        "Pgs. 24 - 57\n",
        "\n",
        "### Obteniendo un repositorio Git\n",
        "Pg. 23\n",
        "\n",
        "![GitIniClon](https://github.com/GerardoMunoz/progit2-es/raw/master/jupyter-summary/imagenes/Diapositiva1.PNG)"
      ]
    },
    {
      "cell_type": "markdown",
      "metadata": {
        "id": "EujX4K06nvli"
      },
      "source": [
        "Antes de comenzar vamos a listar los archivos en la carpecta actual, utilizando el comando de linux `ls -l` "
      ]
    },
    {
      "cell_type": "code",
      "metadata": {
        "colab": {
          "base_uri": "https://localhost:8080/"
        },
        "id": "NrAXyIQ7y0Nd",
        "outputId": "6b6c221f-c910-407c-ef0a-1a5d15dcb104"
      },
      "source": [
        "!ls -l"
      ],
      "execution_count": null,
      "outputs": [
        {
          "output_type": "stream",
          "text": [
            "total 4\n",
            "drwxr-xr-x 1 root root 4096 Apr  7 13:36 sample_data\n"
          ],
          "name": "stdout"
        }
      ]
    },
    {
      "cell_type": "markdown",
      "metadata": {
        "id": "A39oxVgVtOqb"
      },
      "source": [
        "La rama principal de GitHub por defecto se llama `main`. Sin embargo, en Git se llama `master`. Para evitar que al clonar se cree larama `master`, es necesario indicarle el nombe de la rama con la opciòn `-b`."
      ]
    },
    {
      "cell_type": "code",
      "metadata": {
        "colab": {
          "base_uri": "https://localhost:8080/"
        },
        "id": "OrwRAi0dyfLM",
        "outputId": "5b8b9783-c343-4729-e451-a06bfee2c686"
      },
      "source": [
        "!git clone -b main https://github.com/cambiar-por-su-nombre/TrabajosProgramacion"
      ],
      "execution_count": null,
      "outputs": [
        {
          "output_type": "stream",
          "text": [
            "Cloning into 'TrabajosProgramacion'...\n",
            "remote: Enumerating objects: 3, done.\u001b[K\n",
            "remote: Counting objects: 100% (3/3), done.\u001b[K\n",
            "remote: Total 3 (delta 0), reused 0 (delta 0), pack-reused 0\u001b[K\n",
            "Unpacking objects: 100% (3/3), done.\n"
          ],
          "name": "stdout"
        }
      ]
    },
    {
      "cell_type": "code",
      "metadata": {
        "colab": {
          "base_uri": "https://localhost:8080/"
        },
        "id": "fClKrK3Py4ak",
        "outputId": "62769864-188c-4770-e79b-5844a01d77a6"
      },
      "source": [
        "!ls -l"
      ],
      "execution_count": null,
      "outputs": [
        {
          "output_type": "stream",
          "text": [
            "total 8\n",
            "drwxr-xr-x 1 root root 4096 Apr  7 13:36 sample_data\n",
            "drwxr-xr-x 3 root root 4096 Apr 13 19:02 TrabajosProgramacion\n"
          ],
          "name": "stdout"
        }
      ]
    },
    {
      "cell_type": "code",
      "metadata": {
        "colab": {
          "base_uri": "https://localhost:8080/"
        },
        "id": "CS0oGUdBzAo9",
        "outputId": "90cba112-caa9-4465-c0f3-ea89af96c7b8"
      },
      "source": [
        "%cd TrabajosProgramacion"
      ],
      "execution_count": null,
      "outputs": [
        {
          "output_type": "stream",
          "text": [
            "/content/TrabajosProgramacion\n"
          ],
          "name": "stdout"
        }
      ]
    },
    {
      "cell_type": "markdown",
      "metadata": {
        "id": "XBT6mo_y9pUj"
      },
      "source": [
        "## Guardando cambios en el Repositorio\n",
        "Pg. 24\n",
        "\n",
        "### Revisando el Estado de tus Archivos\n",
        "\n"
      ]
    },
    {
      "cell_type": "code",
      "metadata": {
        "colab": {
          "base_uri": "https://localhost:8080/"
        },
        "id": "7pN2xohOyHv7",
        "outputId": "2ab870bb-0f82-46dc-fdc5-25ddd2943518"
      },
      "source": [
        "!git status "
      ],
      "execution_count": null,
      "outputs": [
        {
          "output_type": "stream",
          "text": [
            "On branch main\n",
            "Your branch is up to date with 'origin/main'.\n",
            "\n",
            "nothing to commit, working tree clean\n"
          ],
          "name": "stdout"
        }
      ]
    },
    {
      "cell_type": "code",
      "metadata": {
        "colab": {
          "base_uri": "https://localhost:8080/"
        },
        "id": "dzr1b28e0Ude",
        "outputId": "2aeef163-a416-4880-cee5-3d5c7eca6e67"
      },
      "source": [
        "!ls -l"
      ],
      "execution_count": null,
      "outputs": [
        {
          "output_type": "stream",
          "text": [
            "total 4\n",
            "-rw-r--r-- 1 root root 23 Apr 13 19:02 README.md\n"
          ],
          "name": "stdout"
        }
      ]
    },
    {
      "cell_type": "code",
      "metadata": {
        "colab": {
          "base_uri": "https://localhost:8080/"
        },
        "id": "7wSUmoAC0UaG",
        "outputId": "97295949-621e-4061-cdd8-496dbae85239"
      },
      "source": [
        "!ls -al"
      ],
      "execution_count": null,
      "outputs": [
        {
          "output_type": "stream",
          "text": [
            "total 16\n",
            "drwxr-xr-x 3 root root 4096 Apr 13 19:02 .\n",
            "drwxr-xr-x 1 root root 4096 Apr 13 19:02 ..\n",
            "drwxr-xr-x 8 root root 4096 Apr 13 19:02 .git\n",
            "-rw-r--r-- 1 root root   23 Apr 13 19:02 README.md\n"
          ],
          "name": "stdout"
        }
      ]
    },
    {
      "cell_type": "code",
      "metadata": {
        "colab": {
          "base_uri": "https://localhost:8080/"
        },
        "id": "zjJNVS-r0UWt",
        "outputId": "547257de-2bd4-4e58-c7aa-d472e211cbf1"
      },
      "source": [
        "!ls .git -al\n"
      ],
      "execution_count": null,
      "outputs": [
        {
          "output_type": "stream",
          "text": [
            "total 52\n",
            "drwxr-xr-x 8 root root 4096 Apr 13 19:02 .\n",
            "drwxr-xr-x 3 root root 4096 Apr 13 19:02 ..\n",
            "drwxr-xr-x 2 root root 4096 Apr 13 19:02 branches\n",
            "-rw-r--r-- 1 root root  282 Apr 13 19:02 config\n",
            "-rw-r--r-- 1 root root   73 Apr 13 19:02 description\n",
            "-rw-r--r-- 1 root root   21 Apr 13 19:02 HEAD\n",
            "drwxr-xr-x 2 root root 4096 Apr 13 19:02 hooks\n",
            "-rw-r--r-- 1 root root  137 Apr 13 19:02 index\n",
            "drwxr-xr-x 2 root root 4096 Apr 13 19:02 info\n",
            "drwxr-xr-x 3 root root 4096 Apr 13 19:02 logs\n",
            "drwxr-xr-x 7 root root 4096 Apr 13 19:02 objects\n",
            "-rw-r--r-- 1 root root  112 Apr 13 19:02 packed-refs\n",
            "drwxr-xr-x 5 root root 4096 Apr 13 19:02 refs\n"
          ],
          "name": "stdout"
        }
      ]
    },
    {
      "cell_type": "markdown",
      "metadata": {
        "id": "laUURKpc_01B"
      },
      "source": [
        "### Rastrear Archivos Nuevos\n",
        "Pg. 26\n",
        "\n",
        "![GitAdd](https://github.com/GerardoMunoz/progit2-es/raw/master/jupyter-summary/imagenes/Diapositiva2.PNG)\n"
      ]
    },
    {
      "cell_type": "markdown",
      "metadata": {
        "id": "7Q-6F9c6mkUN"
      },
      "source": [
        "### Creando un primer archivo (`concluciones.txt`)\n",
        "\n",
        "Entra las muchísimas opciones que tenemos para crear un archivo, vamos a usar una que tiene Linux para crear archivos de texto. Esta opción consiste en el comando `echo`. "
      ]
    },
    {
      "cell_type": "code",
      "metadata": {
        "id": "TrJrRTmp0UTL"
      },
      "source": [
        ""
      ],
      "execution_count": null,
      "outputs": []
    },
    {
      "cell_type": "code",
      "metadata": {
        "id": "hHLrtvP-5Go2"
      },
      "source": [
        "# `echo ... > ...` permite crear un archivo \n",
        "!echo \"Finalmente podemos concluir que ...\" > conclusion.txt"
      ],
      "execution_count": null,
      "outputs": []
    },
    {
      "cell_type": "code",
      "metadata": {
        "id": "mXrRRpO85Go2",
        "colab": {
          "base_uri": "https://localhost:8080/"
        },
        "outputId": "7b4a202b-5a72-4fd0-fdec-6d7e39587098"
      },
      "source": [
        "!ls -l"
      ],
      "execution_count": null,
      "outputs": [
        {
          "output_type": "stream",
          "text": [
            "total 8\n",
            "-rw-r--r-- 1 root root 36 Apr 13 19:02 conclusion.txt\n",
            "-rw-r--r-- 1 root root 23 Apr 13 19:02 README.md\n"
          ],
          "name": "stdout"
        }
      ]
    },
    {
      "cell_type": "code",
      "metadata": {
        "id": "qfxf_nbi5Go2",
        "colab": {
          "base_uri": "https://localhost:8080/"
        },
        "outputId": "b8078fab-c336-45de-ceea-d67ec136b145"
      },
      "source": [
        "# `cat ...` permite crear un archivo \n",
        "!cat conclusion.txt"
      ],
      "execution_count": null,
      "outputs": [
        {
          "output_type": "stream",
          "text": [
            "Finalmente podemos concluir que ...\n"
          ],
          "name": "stdout"
        }
      ]
    },
    {
      "cell_type": "code",
      "metadata": {
        "id": "OZ8NOc0G5Go3",
        "colab": {
          "base_uri": "https://localhost:8080/"
        },
        "outputId": "dc28223c-3300-4c1b-d385-d14ec71fe7ec"
      },
      "source": [
        "!git status"
      ],
      "execution_count": null,
      "outputs": [
        {
          "output_type": "stream",
          "text": [
            "On branch main\n",
            "Your branch is up to date with 'origin/main'.\n",
            "\n",
            "Untracked files:\n",
            "  (use \"git add <file>...\" to include in what will be committed)\n",
            "\n",
            "\t\u001b[31mconclusion.txt\u001b[m\n",
            "\n",
            "nothing added to commit but untracked files present (use \"git add\" to track)\n"
          ],
          "name": "stdout"
        }
      ]
    },
    {
      "cell_type": "code",
      "metadata": {
        "id": "wxR30VTH5Go4"
      },
      "source": [
        "!git add conclusion.txt"
      ],
      "execution_count": null,
      "outputs": []
    },
    {
      "cell_type": "code",
      "metadata": {
        "id": "_p3GYWxy5Go4",
        "colab": {
          "base_uri": "https://localhost:8080/"
        },
        "outputId": "29694702-b24b-451a-afa2-d226f01a2739"
      },
      "source": [
        "!git status"
      ],
      "execution_count": null,
      "outputs": [
        {
          "output_type": "stream",
          "text": [
            "On branch main\n",
            "Your branch is up to date with 'origin/main'.\n",
            "\n",
            "Changes to be committed:\n",
            "  (use \"git reset HEAD <file>...\" to unstage)\n",
            "\n",
            "\t\u001b[32mnew file:   conclusion.txt\u001b[m\n",
            "\n"
          ],
          "name": "stdout"
        }
      ]
    },
    {
      "cell_type": "markdown",
      "metadata": {
        "id": "pbiwHmDH5Go4"
      },
      "source": [
        "### Creando un segundo archivo (`resumen.txt`)"
      ]
    },
    {
      "cell_type": "code",
      "metadata": {
        "id": "Y7SHGhDi5Go4"
      },
      "source": [
        "# Se puede copiar un archivo en la carpeta o crearlo desde cualquier progrma\n",
        "!echo \"En este documento se presenta ...\" > resumen.txt"
      ],
      "execution_count": null,
      "outputs": []
    },
    {
      "cell_type": "code",
      "metadata": {
        "id": "iV6l0auz5Go4",
        "colab": {
          "base_uri": "https://localhost:8080/"
        },
        "outputId": "ade853c6-f003-4604-e5c2-5180a66787e1"
      },
      "source": [
        "!git status"
      ],
      "execution_count": null,
      "outputs": [
        {
          "output_type": "stream",
          "text": [
            "On branch main\n",
            "Your branch is up to date with 'origin/main'.\n",
            "\n",
            "Changes to be committed:\n",
            "  (use \"git reset HEAD <file>...\" to unstage)\n",
            "\n",
            "\t\u001b[32mnew file:   conclusion.txt\u001b[m\n",
            "\n",
            "Untracked files:\n",
            "  (use \"git add <file>...\" to include in what will be committed)\n",
            "\n",
            "\t\u001b[31mresumen.txt\u001b[m\n",
            "\n"
          ],
          "name": "stdout"
        }
      ]
    },
    {
      "cell_type": "code",
      "metadata": {
        "id": "ZRDWCb7C5Go5"
      },
      "source": [
        "!git add resumen.txt"
      ],
      "execution_count": null,
      "outputs": []
    },
    {
      "cell_type": "code",
      "metadata": {
        "id": "lScKRw7x5Go5",
        "colab": {
          "base_uri": "https://localhost:8080/"
        },
        "outputId": "7e99d4b4-4bee-4c2d-e749-c2ec1aabf1a8"
      },
      "source": [
        "!git status"
      ],
      "execution_count": null,
      "outputs": [
        {
          "output_type": "stream",
          "text": [
            "On branch main\n",
            "Your branch is up to date with 'origin/main'.\n",
            "\n",
            "Changes to be committed:\n",
            "  (use \"git reset HEAD <file>...\" to unstage)\n",
            "\n",
            "\t\u001b[32mnew file:   conclusion.txt\u001b[m\n",
            "\t\u001b[32mnew file:   resumen.txt\u001b[m\n",
            "\n"
          ],
          "name": "stdout"
        }
      ]
    },
    {
      "cell_type": "markdown",
      "metadata": {
        "id": "M8nCVNSp5Go5"
      },
      "source": [
        "## Confirmando (`commit`)"
      ]
    },
    {
      "cell_type": "markdown",
      "metadata": {
        "id": "SxPHz4c4xRVu"
      },
      "source": [
        "![GitCommitPush](https://github.com/GerardoMunoz/progit2-es/raw/master/jupyter-summary/imagenes/Diapositiva3.PNG)"
      ]
    },
    {
      "cell_type": "code",
      "metadata": {
        "id": "sg8pMXlC5Go5",
        "colab": {
          "base_uri": "https://localhost:8080/"
        },
        "outputId": "eada864f-1d84-47c5-efc3-4d4c8ee687f1"
      },
      "source": [
        "!git commit -m \"Versión inicial del proyecto\"\n"
      ],
      "execution_count": null,
      "outputs": [
        {
          "output_type": "stream",
          "text": [
            "[main 46e0aab] Versión inicial del proyecto\n",
            " 2 files changed, 2 insertions(+)\n",
            " create mode 100644 conclusion.txt\n",
            " create mode 100644 resumen.txt\n"
          ],
          "name": "stdout"
        }
      ]
    },
    {
      "cell_type": "code",
      "metadata": {
        "id": "loQUUtMG5Go6",
        "colab": {
          "base_uri": "https://localhost:8080/"
        },
        "outputId": "0dee0163-31da-4ebf-8359-8fee584362c1"
      },
      "source": [
        "!git status"
      ],
      "execution_count": null,
      "outputs": [
        {
          "output_type": "stream",
          "text": [
            "On branch main\n",
            "Your branch is ahead of 'origin/main' by 1 commit.\n",
            "  (use \"git push\" to publish your local commits)\n",
            "\n",
            "nothing to commit, working tree clean\n"
          ],
          "name": "stdout"
        }
      ]
    },
    {
      "cell_type": "markdown",
      "metadata": {
        "id": "0DSWsbgEQ3jj"
      },
      "source": [
        "# Git \n",
        "\n",
        "\n",
        "* Resumen basado en el libro 'Pro Git'\n",
        "* Escrito por 'Scott Chacon' y por  'Ben Straub'\n",
        "* Versión 2.1.22, 2021-02-09\n",
        "* https://git-scm.com/book/es/v2\n",
        "\n",
        "# Acerca del Control de Versiones\n",
        "(Pg. 9)\n",
        "Un control de versiones es un\n",
        "sistema que registra los cambios realizados en un archivo o conjunto de archivos a lo largo del\n",
        "tiempo, de modo que puedas recuperar versiones específicas más adelante. \n",
        "\n",
        "# Fundamentos de Git\n",
        "\n",
        "## Los Tres Estados\n",
        "\n",
        "(pg 16) \n",
        "Git tiene tres estados principales en los que se pueden encontrar tus archivos: \n",
        "* confirmado (**committed**), significa que los datos están almacenados de manera segura en tu base de datos local\n",
        "* modificado (**modified**), significa que has modificado el archivo, pero todavía no lo has confirmado a tu base de datos.\n",
        "* preparado (**staged**), significa que has marcado un archivo modificado en su versión actual para que vaya en tu próxima confirmación.\n"
      ]
    },
    {
      "cell_type": "markdown",
      "metadata": {
        "id": "ud4UGN5RQ3jr"
      },
      "source": [
        "![Figura 6](https://github.com/GerardoMunoz/progit2-es/raw/fd5562ab1c85dc792491d3d71469bb0ced88165e/jupyter-summary/Fig6_mod.PNG)"
      ]
    },
    {
      "cell_type": "markdown",
      "metadata": {
        "id": "6AQHLCH8Q3jr"
      },
      "source": [
        "## Configurando Git por primera vez\n",
        "### Tu Identidad\n",
        "Pg. 20"
      ]
    },
    {
      "cell_type": "code",
      "metadata": {
        "id": "IR5vSqCyQ3js"
      },
      "source": [
        "!git config --list "
      ],
      "execution_count": null,
      "outputs": []
    },
    {
      "cell_type": "code",
      "metadata": {
        "id": "nB-9HtLlQ3js"
      },
      "source": [
        "# no olvide colocar su nombre \n",
        "!git config  --global user.name \"cambiar-por-su-nombre\""
      ],
      "execution_count": null,
      "outputs": []
    },
    {
      "cell_type": "code",
      "metadata": {
        "id": "N1mLIO-VQ3jt"
      },
      "source": [
        "# no olvide colocar su email \n",
        "!git config  --global user.email cambiar.por.su.correo@gmail.com"
      ],
      "execution_count": null,
      "outputs": []
    },
    {
      "cell_type": "code",
      "metadata": {
        "colab": {
          "base_uri": "https://localhost:8080/"
        },
        "id": "-5R5jz77Q3jt",
        "outputId": "c5b2e3ac-10c0-49be-8fc8-592ef08ff8fc"
      },
      "source": [
        "!git config --list "
      ],
      "execution_count": null,
      "outputs": [
        {
          "output_type": "stream",
          "text": [
            "user.name=cambiar-por-su-nombre\n",
            "user.email=cambiar.por.su.correo@gmail.com\n"
          ],
          "name": "stdout"
        }
      ]
    },
    {
      "cell_type": "code",
      "metadata": {
        "colab": {
          "base_uri": "https://localhost:8080/"
        },
        "id": "JM18LjgOQ3jv",
        "outputId": "bdbb5a34-0f86-4bde-c005-73febc3a1858"
      },
      "source": [
        "!git config user.name"
      ],
      "execution_count": null,
      "outputs": [
        {
          "output_type": "stream",
          "text": [
            "cambiar-por-su-nombre\n"
          ],
          "name": "stdout"
        }
      ]
    },
    {
      "cell_type": "code",
      "metadata": {
        "colab": {
          "base_uri": "https://localhost:8080/"
        },
        "id": "zrAuDXy9Q3jv",
        "outputId": "4874d218-b967-4842-da1e-5bd2ec934347"
      },
      "source": [
        "!git config user.email"
      ],
      "execution_count": null,
      "outputs": [
        {
          "output_type": "stream",
          "text": [
            "cambiar.por.su.correo@gmail.com\n"
          ],
          "name": "stdout"
        }
      ]
    },
    {
      "cell_type": "markdown",
      "metadata": {
        "id": "aDIBKSUbQ3jw"
      },
      "source": [
        "### Tu Editor\n",
        "Pg. 21\n",
        "\n",
        "Más adelante veremos  que Git abre automaticamente el editor que este configurado cuando se confirman (`commit`) los cambios. El editor se configura de la siguiete forma\n",
        "\n",
        "`git config --global core.editor ` cambiar_por_su_editor\n",
        "\n",
        "Desde Jupyter es preferible no abrir ningún editor ya que Jupyter se puede ejecutar en diferentes entornos. Para evitar abrir un editor al confirmar (`commit`) veremos que se puede usar la opción `-m`   \n",
        "\n",
        "`commit -m \"Aquí escribimos la documentación del cambio\"`\n",
        "\n"
      ]
    },
    {
      "cell_type": "markdown",
      "metadata": {
        "id": "aPETTzRyQ3jw"
      },
      "source": [
        "### ¿Cómo obtener ayuda?\n",
        "Pg. 22"
      ]
    },
    {
      "cell_type": "code",
      "metadata": {
        "id": "L7M0O3r8Q3jx"
      },
      "source": [
        "#!git help"
      ],
      "execution_count": null,
      "outputs": []
    },
    {
      "cell_type": "code",
      "metadata": {
        "id": "vGSyufyLQ3jx"
      },
      "source": [
        "#!git help config "
      ],
      "execution_count": null,
      "outputs": []
    },
    {
      "cell_type": "code",
      "metadata": {
        "id": "atBE0DhfQ3jy"
      },
      "source": [
        ""
      ],
      "execution_count": null,
      "outputs": []
    },
    {
      "cell_type": "markdown",
      "metadata": {
        "id": "1InpbYEZQ3jy"
      },
      "source": [
        "## Fundamentos de Git\n",
        "Pgs. 24 - 57\n",
        "\n",
        "### Obteniendo un repositorio Git\n",
        "Pg. 23\n",
        "\n",
        "![GitIniClon](https://github.com/GerardoMunoz/progit2-es/raw/master/jupyter-summary/imagenes/Diapositiva1.PNG)"
      ]
    },
    {
      "cell_type": "markdown",
      "metadata": {
        "id": "I-LD0Ph-Q3jy"
      },
      "source": [
        "Antes de comenzar vamos a listar los archivos en la carpecta actual, utilizando el comando de linux `ls -l` "
      ]
    },
    {
      "cell_type": "code",
      "metadata": {
        "colab": {
          "base_uri": "https://localhost:8080/"
        },
        "id": "2y75aCE9Q3jy",
        "outputId": "6b6c221f-c910-407c-ef0a-1a5d15dcb104"
      },
      "source": [
        "!ls -l"
      ],
      "execution_count": null,
      "outputs": [
        {
          "output_type": "stream",
          "text": [
            "total 4\n",
            "drwxr-xr-x 1 root root 4096 Apr  7 13:36 sample_data\n"
          ],
          "name": "stdout"
        }
      ]
    },
    {
      "cell_type": "markdown",
      "metadata": {
        "id": "Rsjl87cpQ3jz"
      },
      "source": [
        "La rama principal de GitHub por defecto se llama `main`. Sin embargo, en Git se llama `master`. Para evitar que al clonar se cree larama `master`, es necesario indicarle el nombe de la rama con la opciòn `-b`."
      ]
    },
    {
      "cell_type": "code",
      "metadata": {
        "colab": {
          "base_uri": "https://localhost:8080/"
        },
        "id": "yPXm1FNbQ3jz",
        "outputId": "5b8b9783-c343-4729-e451-a06bfee2c686"
      },
      "source": [
        "!git clone -b main https://github.com/cambiar-por-su-nombre/TrabajosProgramacion"
      ],
      "execution_count": null,
      "outputs": [
        {
          "output_type": "stream",
          "text": [
            "Cloning into 'TrabajosProgramacion'...\n",
            "remote: Enumerating objects: 3, done.\u001b[K\n",
            "remote: Counting objects: 100% (3/3), done.\u001b[K\n",
            "remote: Total 3 (delta 0), reused 0 (delta 0), pack-reused 0\u001b[K\n",
            "Unpacking objects: 100% (3/3), done.\n"
          ],
          "name": "stdout"
        }
      ]
    },
    {
      "cell_type": "code",
      "metadata": {
        "colab": {
          "base_uri": "https://localhost:8080/"
        },
        "id": "EH3u0nA4Q3jz",
        "outputId": "62769864-188c-4770-e79b-5844a01d77a6"
      },
      "source": [
        "!ls -l"
      ],
      "execution_count": null,
      "outputs": [
        {
          "output_type": "stream",
          "text": [
            "total 8\n",
            "drwxr-xr-x 1 root root 4096 Apr  7 13:36 sample_data\n",
            "drwxr-xr-x 3 root root 4096 Apr 13 19:02 TrabajosProgramacion\n"
          ],
          "name": "stdout"
        }
      ]
    },
    {
      "cell_type": "code",
      "metadata": {
        "colab": {
          "base_uri": "https://localhost:8080/"
        },
        "id": "8yidcY9TQ3j0",
        "outputId": "90cba112-caa9-4465-c0f3-ea89af96c7b8"
      },
      "source": [
        "%cd TrabajosProgramacion"
      ],
      "execution_count": null,
      "outputs": [
        {
          "output_type": "stream",
          "text": [
            "/content/TrabajosProgramacion\n"
          ],
          "name": "stdout"
        }
      ]
    },
    {
      "cell_type": "markdown",
      "metadata": {
        "id": "onTJcJg_Q3j0"
      },
      "source": [
        "## Guardando cambios en el Repositorio\n",
        "Pg. 24\n",
        "\n",
        "### Revisando el Estado de tus Archivos\n",
        "\n"
      ]
    },
    {
      "cell_type": "code",
      "metadata": {
        "colab": {
          "base_uri": "https://localhost:8080/"
        },
        "id": "vCKpD5MVQ3j0",
        "outputId": "2ab870bb-0f82-46dc-fdc5-25ddd2943518"
      },
      "source": [
        "!git status "
      ],
      "execution_count": null,
      "outputs": [
        {
          "output_type": "stream",
          "text": [
            "On branch main\n",
            "Your branch is up to date with 'origin/main'.\n",
            "\n",
            "nothing to commit, working tree clean\n"
          ],
          "name": "stdout"
        }
      ]
    },
    {
      "cell_type": "code",
      "metadata": {
        "colab": {
          "base_uri": "https://localhost:8080/"
        },
        "id": "7RJu0ot3Q3j1",
        "outputId": "2aeef163-a416-4880-cee5-3d5c7eca6e67"
      },
      "source": [
        "!ls -l"
      ],
      "execution_count": null,
      "outputs": [
        {
          "output_type": "stream",
          "text": [
            "total 4\n",
            "-rw-r--r-- 1 root root 23 Apr 13 19:02 README.md\n"
          ],
          "name": "stdout"
        }
      ]
    },
    {
      "cell_type": "code",
      "metadata": {
        "colab": {
          "base_uri": "https://localhost:8080/"
        },
        "id": "fFSh6f9UQ3j1",
        "outputId": "97295949-621e-4061-cdd8-496dbae85239"
      },
      "source": [
        "!ls -al"
      ],
      "execution_count": null,
      "outputs": [
        {
          "output_type": "stream",
          "text": [
            "total 16\n",
            "drwxr-xr-x 3 root root 4096 Apr 13 19:02 .\n",
            "drwxr-xr-x 1 root root 4096 Apr 13 19:02 ..\n",
            "drwxr-xr-x 8 root root 4096 Apr 13 19:02 .git\n",
            "-rw-r--r-- 1 root root   23 Apr 13 19:02 README.md\n"
          ],
          "name": "stdout"
        }
      ]
    },
    {
      "cell_type": "code",
      "metadata": {
        "colab": {
          "base_uri": "https://localhost:8080/"
        },
        "id": "MDqXsuD-Q3j1",
        "outputId": "547257de-2bd4-4e58-c7aa-d472e211cbf1"
      },
      "source": [
        "!ls .git -al\n"
      ],
      "execution_count": null,
      "outputs": [
        {
          "output_type": "stream",
          "text": [
            "total 52\n",
            "drwxr-xr-x 8 root root 4096 Apr 13 19:02 .\n",
            "drwxr-xr-x 3 root root 4096 Apr 13 19:02 ..\n",
            "drwxr-xr-x 2 root root 4096 Apr 13 19:02 branches\n",
            "-rw-r--r-- 1 root root  282 Apr 13 19:02 config\n",
            "-rw-r--r-- 1 root root   73 Apr 13 19:02 description\n",
            "-rw-r--r-- 1 root root   21 Apr 13 19:02 HEAD\n",
            "drwxr-xr-x 2 root root 4096 Apr 13 19:02 hooks\n",
            "-rw-r--r-- 1 root root  137 Apr 13 19:02 index\n",
            "drwxr-xr-x 2 root root 4096 Apr 13 19:02 info\n",
            "drwxr-xr-x 3 root root 4096 Apr 13 19:02 logs\n",
            "drwxr-xr-x 7 root root 4096 Apr 13 19:02 objects\n",
            "-rw-r--r-- 1 root root  112 Apr 13 19:02 packed-refs\n",
            "drwxr-xr-x 5 root root 4096 Apr 13 19:02 refs\n"
          ],
          "name": "stdout"
        }
      ]
    },
    {
      "cell_type": "markdown",
      "metadata": {
        "id": "SwA1z74cQ3j1"
      },
      "source": [
        "### Rastrear Archivos Nuevos\n",
        "Pg. 26\n",
        "\n",
        "![GitAdd](https://github.com/GerardoMunoz/progit2-es/raw/master/jupyter-summary/imagenes/Diapositiva2.PNG)\n"
      ]
    },
    {
      "cell_type": "markdown",
      "metadata": {
        "id": "ft7AWvPeQ3j2"
      },
      "source": [
        "### Creando un primer archivo (`concluciones.txt`)\n",
        "\n",
        "Entra las muchísimas opciones que tenemos para crear un archivo, vamos a usar una que tiene Linux para crear archivos de texto. Esta opción consiste en el comando `echo`. "
      ]
    },
    {
      "cell_type": "code",
      "metadata": {
        "id": "Da162GT3Q3j2"
      },
      "source": [
        ""
      ],
      "execution_count": null,
      "outputs": []
    },
    {
      "cell_type": "code",
      "metadata": {
        "id": "r6m36dn_Q3j2"
      },
      "source": [
        "# `echo ... > ...` permite crear un archivo \n",
        "!echo \"Finalmente podemos concluir que ...\" > conclusion.txt"
      ],
      "execution_count": null,
      "outputs": []
    },
    {
      "cell_type": "code",
      "metadata": {
        "colab": {
          "base_uri": "https://localhost:8080/"
        },
        "id": "RcjSiXzuQ3j2",
        "outputId": "7b4a202b-5a72-4fd0-fdec-6d7e39587098"
      },
      "source": [
        "!ls -l"
      ],
      "execution_count": null,
      "outputs": [
        {
          "output_type": "stream",
          "text": [
            "total 8\n",
            "-rw-r--r-- 1 root root 36 Apr 13 19:02 conclusion.txt\n",
            "-rw-r--r-- 1 root root 23 Apr 13 19:02 README.md\n"
          ],
          "name": "stdout"
        }
      ]
    },
    {
      "cell_type": "code",
      "metadata": {
        "colab": {
          "base_uri": "https://localhost:8080/"
        },
        "id": "vbXd8hFjQ3j3",
        "outputId": "b8078fab-c336-45de-ceea-d67ec136b145"
      },
      "source": [
        "# `cat ...` permite crear un archivo \n",
        "!cat conclusion.txt"
      ],
      "execution_count": null,
      "outputs": [
        {
          "output_type": "stream",
          "text": [
            "Finalmente podemos concluir que ...\n"
          ],
          "name": "stdout"
        }
      ]
    },
    {
      "cell_type": "code",
      "metadata": {
        "colab": {
          "base_uri": "https://localhost:8080/"
        },
        "id": "N76T_Lv7Q3j3",
        "outputId": "dc28223c-3300-4c1b-d385-d14ec71fe7ec"
      },
      "source": [
        "!git status"
      ],
      "execution_count": null,
      "outputs": [
        {
          "output_type": "stream",
          "text": [
            "On branch main\n",
            "Your branch is up to date with 'origin/main'.\n",
            "\n",
            "Untracked files:\n",
            "  (use \"git add <file>...\" to include in what will be committed)\n",
            "\n",
            "\t\u001b[31mconclusion.txt\u001b[m\n",
            "\n",
            "nothing added to commit but untracked files present (use \"git add\" to track)\n"
          ],
          "name": "stdout"
        }
      ]
    },
    {
      "cell_type": "code",
      "metadata": {
        "id": "YodohMgzQ3j4"
      },
      "source": [
        "!git add conclusion.txt"
      ],
      "execution_count": null,
      "outputs": []
    },
    {
      "cell_type": "code",
      "metadata": {
        "colab": {
          "base_uri": "https://localhost:8080/"
        },
        "id": "43ovJLr7Q3j4",
        "outputId": "29694702-b24b-451a-afa2-d226f01a2739"
      },
      "source": [
        "!git status"
      ],
      "execution_count": null,
      "outputs": [
        {
          "output_type": "stream",
          "text": [
            "On branch main\n",
            "Your branch is up to date with 'origin/main'.\n",
            "\n",
            "Changes to be committed:\n",
            "  (use \"git reset HEAD <file>...\" to unstage)\n",
            "\n",
            "\t\u001b[32mnew file:   conclusion.txt\u001b[m\n",
            "\n"
          ],
          "name": "stdout"
        }
      ]
    },
    {
      "cell_type": "markdown",
      "metadata": {
        "id": "-nlKaPG6Q3j4"
      },
      "source": [
        "### Creando un segundo archivo (`resumen.txt`)"
      ]
    },
    {
      "cell_type": "code",
      "metadata": {
        "id": "2VYd0zsLQ3j4"
      },
      "source": [
        "# Se puede copiar un archivo en la carpeta o crearlo desde cualquier progrma\n",
        "!echo \"En este documento se presenta ...\" > resumen.txt"
      ],
      "execution_count": null,
      "outputs": []
    },
    {
      "cell_type": "code",
      "metadata": {
        "colab": {
          "base_uri": "https://localhost:8080/"
        },
        "id": "HbzyKTBwQ3j5",
        "outputId": "ade853c6-f003-4604-e5c2-5180a66787e1"
      },
      "source": [
        "!git status"
      ],
      "execution_count": null,
      "outputs": [
        {
          "output_type": "stream",
          "text": [
            "On branch main\n",
            "Your branch is up to date with 'origin/main'.\n",
            "\n",
            "Changes to be committed:\n",
            "  (use \"git reset HEAD <file>...\" to unstage)\n",
            "\n",
            "\t\u001b[32mnew file:   conclusion.txt\u001b[m\n",
            "\n",
            "Untracked files:\n",
            "  (use \"git add <file>...\" to include in what will be committed)\n",
            "\n",
            "\t\u001b[31mresumen.txt\u001b[m\n",
            "\n"
          ],
          "name": "stdout"
        }
      ]
    },
    {
      "cell_type": "code",
      "metadata": {
        "id": "eA9lOihqQ3j5"
      },
      "source": [
        "!git add resumen.txt"
      ],
      "execution_count": null,
      "outputs": []
    },
    {
      "cell_type": "code",
      "metadata": {
        "colab": {
          "base_uri": "https://localhost:8080/"
        },
        "id": "XnWZKr28Q3j5",
        "outputId": "7e99d4b4-4bee-4c2d-e749-c2ec1aabf1a8"
      },
      "source": [
        "!git status"
      ],
      "execution_count": null,
      "outputs": [
        {
          "output_type": "stream",
          "text": [
            "On branch main\n",
            "Your branch is up to date with 'origin/main'.\n",
            "\n",
            "Changes to be committed:\n",
            "  (use \"git reset HEAD <file>...\" to unstage)\n",
            "\n",
            "\t\u001b[32mnew file:   conclusion.txt\u001b[m\n",
            "\t\u001b[32mnew file:   resumen.txt\u001b[m\n",
            "\n"
          ],
          "name": "stdout"
        }
      ]
    },
    {
      "cell_type": "markdown",
      "metadata": {
        "id": "GN8KO478Q3j5"
      },
      "source": [
        "## Confirmando (`commit`)"
      ]
    },
    {
      "cell_type": "markdown",
      "metadata": {
        "id": "ydOkRQtAQ3j5"
      },
      "source": [
        "![GitCommitPush](https://github.com/GerardoMunoz/progit2-es/raw/master/jupyter-summary/imagenes/Diapositiva3.PNG)"
      ]
    },
    {
      "cell_type": "code",
      "metadata": {
        "colab": {
          "base_uri": "https://localhost:8080/"
        },
        "id": "SzQre85aQ3j6",
        "outputId": "eada864f-1d84-47c5-efc3-4d4c8ee687f1"
      },
      "source": [
        "!git commit -m \"Versión inicial del proyecto\"\n"
      ],
      "execution_count": null,
      "outputs": [
        {
          "output_type": "stream",
          "text": [
            "[main 46e0aab] Versión inicial del proyecto\n",
            " 2 files changed, 2 insertions(+)\n",
            " create mode 100644 conclusion.txt\n",
            " create mode 100644 resumen.txt\n"
          ],
          "name": "stdout"
        }
      ]
    },
    {
      "cell_type": "code",
      "metadata": {
        "colab": {
          "base_uri": "https://localhost:8080/"
        },
        "id": "MIMs0PYrQ3j6",
        "outputId": "0dee0163-31da-4ebf-8359-8fee584362c1"
      },
      "source": [
        "!git status"
      ],
      "execution_count": null,
      "outputs": [
        {
          "output_type": "stream",
          "text": [
            "On branch main\n",
            "Your branch is ahead of 'origin/main' by 1 commit.\n",
            "  (use \"git push\" to publish your local commits)\n",
            "\n",
            "nothing to commit, working tree clean\n"
          ],
          "name": "stdout"
        }
      ]
    },
    {
      "cell_type": "markdown",
      "metadata": {
        "id": "n2B0ZRc2Q7QA"
      },
      "source": [
        "# Git \n",
        "\n",
        "\n",
        "* Resumen basado en el libro 'Pro Git'\n",
        "* Escrito por 'Scott Chacon' y por  'Ben Straub'\n",
        "* Versión 2.1.22, 2021-02-09\n",
        "* https://git-scm.com/book/es/v2\n",
        "\n",
        "# Acerca del Control de Versiones\n",
        "(Pg. 9)\n",
        "Un control de versiones es un\n",
        "sistema que registra los cambios realizados en un archivo o conjunto de archivos a lo largo del\n",
        "tiempo, de modo que puedas recuperar versiones específicas más adelante. \n",
        "\n",
        "# Fundamentos de Git\n",
        "\n",
        "## Los Tres Estados\n",
        "\n",
        "(pg 16) \n",
        "Git tiene tres estados principales en los que se pueden encontrar tus archivos: \n",
        "* confirmado (**committed**), significa que los datos están almacenados de manera segura en tu base de datos local\n",
        "* modificado (**modified**), significa que has modificado el archivo, pero todavía no lo has confirmado a tu base de datos.\n",
        "* preparado (**staged**), significa que has marcado un archivo modificado en su versión actual para que vaya en tu próxima confirmación.\n"
      ]
    },
    {
      "cell_type": "markdown",
      "metadata": {
        "id": "6DjMLp5oQ7QB"
      },
      "source": [
        "![Figura 6](https://github.com/GerardoMunoz/progit2-es/raw/fd5562ab1c85dc792491d3d71469bb0ced88165e/jupyter-summary/Fig6_mod.PNG)"
      ]
    },
    {
      "cell_type": "markdown",
      "metadata": {
        "id": "SAK_urgBQ7QB"
      },
      "source": [
        "## Configurando Git por primera vez\n",
        "### Tu Identidad\n",
        "Pg. 20"
      ]
    },
    {
      "cell_type": "code",
      "metadata": {
        "id": "9MtqbZOiQ7QB"
      },
      "source": [
        "!git config --list "
      ],
      "execution_count": null,
      "outputs": []
    },
    {
      "cell_type": "code",
      "metadata": {
        "id": "Wso25X4BQ7QB"
      },
      "source": [
        "# no olvide colocar su nombre \n",
        "!git config  --global user.name \"cambiar-por-su-nombre\""
      ],
      "execution_count": null,
      "outputs": []
    },
    {
      "cell_type": "code",
      "metadata": {
        "id": "-Btvm-EJQ7QC"
      },
      "source": [
        "# no olvide colocar su email \n",
        "!git config  --global user.email cambiar.por.su.correo@gmail.com"
      ],
      "execution_count": null,
      "outputs": []
    },
    {
      "cell_type": "code",
      "metadata": {
        "colab": {
          "base_uri": "https://localhost:8080/"
        },
        "id": "v6n7p41uQ7QC",
        "outputId": "c5b2e3ac-10c0-49be-8fc8-592ef08ff8fc"
      },
      "source": [
        "!git config --list "
      ],
      "execution_count": null,
      "outputs": [
        {
          "output_type": "stream",
          "text": [
            "user.name=cambiar-por-su-nombre\n",
            "user.email=cambiar.por.su.correo@gmail.com\n"
          ],
          "name": "stdout"
        }
      ]
    },
    {
      "cell_type": "code",
      "metadata": {
        "colab": {
          "base_uri": "https://localhost:8080/"
        },
        "id": "lgkEgEgpQ7QC",
        "outputId": "bdbb5a34-0f86-4bde-c005-73febc3a1858"
      },
      "source": [
        "!git config user.name"
      ],
      "execution_count": null,
      "outputs": [
        {
          "output_type": "stream",
          "text": [
            "cambiar-por-su-nombre\n"
          ],
          "name": "stdout"
        }
      ]
    },
    {
      "cell_type": "code",
      "metadata": {
        "colab": {
          "base_uri": "https://localhost:8080/"
        },
        "id": "BzvZyVM4Q7QC",
        "outputId": "4874d218-b967-4842-da1e-5bd2ec934347"
      },
      "source": [
        "!git config user.email"
      ],
      "execution_count": null,
      "outputs": [
        {
          "output_type": "stream",
          "text": [
            "cambiar.por.su.correo@gmail.com\n"
          ],
          "name": "stdout"
        }
      ]
    },
    {
      "cell_type": "markdown",
      "metadata": {
        "id": "8pOqSWDeQ7QD"
      },
      "source": [
        "### Tu Editor\n",
        "Pg. 21\n",
        "\n",
        "Más adelante veremos  que Git abre automaticamente el editor que este configurado cuando se confirman (`commit`) los cambios. El editor se configura de la siguiete forma\n",
        "\n",
        "`git config --global core.editor ` cambiar_por_su_editor\n",
        "\n",
        "Desde Jupyter es preferible no abrir ningún editor ya que Jupyter se puede ejecutar en diferentes entornos. Para evitar abrir un editor al confirmar (`commit`) veremos que se puede usar la opción `-m`   \n",
        "\n",
        "`commit -m \"Aquí escribimos la documentación del cambio\"`\n",
        "\n"
      ]
    },
    {
      "cell_type": "markdown",
      "metadata": {
        "id": "1I_1gsniQ7QD"
      },
      "source": [
        "### ¿Cómo obtener ayuda?\n",
        "Pg. 22"
      ]
    },
    {
      "cell_type": "code",
      "metadata": {
        "id": "RQk-fa1DQ7QD"
      },
      "source": [
        "#!git help"
      ],
      "execution_count": null,
      "outputs": []
    },
    {
      "cell_type": "code",
      "metadata": {
        "id": "okWEY-7XQ7QD"
      },
      "source": [
        "#!git help config "
      ],
      "execution_count": null,
      "outputs": []
    },
    {
      "cell_type": "code",
      "metadata": {
        "id": "qcoPlXtQQ7QD"
      },
      "source": [
        ""
      ],
      "execution_count": null,
      "outputs": []
    },
    {
      "cell_type": "markdown",
      "metadata": {
        "id": "6VBa1a7nQ7QE"
      },
      "source": [
        "## Fundamentos de Git\n",
        "Pgs. 24 - 57\n",
        "\n",
        "### Obteniendo un repositorio Git\n",
        "Pg. 23\n",
        "\n",
        "![GitIniClon](https://github.com/GerardoMunoz/progit2-es/raw/master/jupyter-summary/imagenes/Diapositiva1.PNG)"
      ]
    },
    {
      "cell_type": "markdown",
      "metadata": {
        "id": "D8ZlOsx3Q7QE"
      },
      "source": [
        "Antes de comenzar vamos a listar los archivos en la carpecta actual, utilizando el comando de linux `ls -l` "
      ]
    },
    {
      "cell_type": "code",
      "metadata": {
        "colab": {
          "base_uri": "https://localhost:8080/"
        },
        "id": "6GiY5pXNQ7QE",
        "outputId": "6b6c221f-c910-407c-ef0a-1a5d15dcb104"
      },
      "source": [
        "!ls -l"
      ],
      "execution_count": null,
      "outputs": [
        {
          "output_type": "stream",
          "text": [
            "total 4\n",
            "drwxr-xr-x 1 root root 4096 Apr  7 13:36 sample_data\n"
          ],
          "name": "stdout"
        }
      ]
    },
    {
      "cell_type": "markdown",
      "metadata": {
        "id": "sYaUppCRQ7QF"
      },
      "source": [
        "La rama principal de GitHub por defecto se llama `main`. Sin embargo, en Git se llama `master`. Para evitar que al clonar se cree larama `master`, es necesario indicarle el nombe de la rama con la opciòn `-b`."
      ]
    },
    {
      "cell_type": "code",
      "metadata": {
        "colab": {
          "base_uri": "https://localhost:8080/"
        },
        "id": "KB58Km2EQ7QF",
        "outputId": "5b8b9783-c343-4729-e451-a06bfee2c686"
      },
      "source": [
        "!git clone -b main https://github.com/cambiar-por-su-nombre/TrabajosProgramacion"
      ],
      "execution_count": null,
      "outputs": [
        {
          "output_type": "stream",
          "text": [
            "Cloning into 'TrabajosProgramacion'...\n",
            "remote: Enumerating objects: 3, done.\u001b[K\n",
            "remote: Counting objects: 100% (3/3), done.\u001b[K\n",
            "remote: Total 3 (delta 0), reused 0 (delta 0), pack-reused 0\u001b[K\n",
            "Unpacking objects: 100% (3/3), done.\n"
          ],
          "name": "stdout"
        }
      ]
    },
    {
      "cell_type": "code",
      "metadata": {
        "colab": {
          "base_uri": "https://localhost:8080/"
        },
        "id": "ISEQn_qBQ7QF",
        "outputId": "62769864-188c-4770-e79b-5844a01d77a6"
      },
      "source": [
        "!ls -l"
      ],
      "execution_count": null,
      "outputs": [
        {
          "output_type": "stream",
          "text": [
            "total 8\n",
            "drwxr-xr-x 1 root root 4096 Apr  7 13:36 sample_data\n",
            "drwxr-xr-x 3 root root 4096 Apr 13 19:02 TrabajosProgramacion\n"
          ],
          "name": "stdout"
        }
      ]
    },
    {
      "cell_type": "code",
      "metadata": {
        "colab": {
          "base_uri": "https://localhost:8080/"
        },
        "id": "y2iSMoLEQ7QG",
        "outputId": "90cba112-caa9-4465-c0f3-ea89af96c7b8"
      },
      "source": [
        "%cd TrabajosProgramacion"
      ],
      "execution_count": null,
      "outputs": [
        {
          "output_type": "stream",
          "text": [
            "/content/TrabajosProgramacion\n"
          ],
          "name": "stdout"
        }
      ]
    },
    {
      "cell_type": "markdown",
      "metadata": {
        "id": "zGtoFGTZQ7QG"
      },
      "source": [
        "## Guardando cambios en el Repositorio\n",
        "Pg. 24\n",
        "\n",
        "### Revisando el Estado de tus Archivos\n",
        "\n"
      ]
    },
    {
      "cell_type": "code",
      "metadata": {
        "colab": {
          "base_uri": "https://localhost:8080/"
        },
        "id": "bugaSyj0Q7QG",
        "outputId": "2ab870bb-0f82-46dc-fdc5-25ddd2943518"
      },
      "source": [
        "!git status "
      ],
      "execution_count": null,
      "outputs": [
        {
          "output_type": "stream",
          "text": [
            "On branch main\n",
            "Your branch is up to date with 'origin/main'.\n",
            "\n",
            "nothing to commit, working tree clean\n"
          ],
          "name": "stdout"
        }
      ]
    },
    {
      "cell_type": "code",
      "metadata": {
        "colab": {
          "base_uri": "https://localhost:8080/"
        },
        "id": "3Fc9svYUQ7QG",
        "outputId": "2aeef163-a416-4880-cee5-3d5c7eca6e67"
      },
      "source": [
        "!ls -l"
      ],
      "execution_count": null,
      "outputs": [
        {
          "output_type": "stream",
          "text": [
            "total 4\n",
            "-rw-r--r-- 1 root root 23 Apr 13 19:02 README.md\n"
          ],
          "name": "stdout"
        }
      ]
    },
    {
      "cell_type": "code",
      "metadata": {
        "colab": {
          "base_uri": "https://localhost:8080/"
        },
        "id": "M6iicmmkQ7QH",
        "outputId": "97295949-621e-4061-cdd8-496dbae85239"
      },
      "source": [
        "!ls -al"
      ],
      "execution_count": null,
      "outputs": [
        {
          "output_type": "stream",
          "text": [
            "total 16\n",
            "drwxr-xr-x 3 root root 4096 Apr 13 19:02 .\n",
            "drwxr-xr-x 1 root root 4096 Apr 13 19:02 ..\n",
            "drwxr-xr-x 8 root root 4096 Apr 13 19:02 .git\n",
            "-rw-r--r-- 1 root root   23 Apr 13 19:02 README.md\n"
          ],
          "name": "stdout"
        }
      ]
    },
    {
      "cell_type": "code",
      "metadata": {
        "colab": {
          "base_uri": "https://localhost:8080/"
        },
        "id": "nK6-2IA3Q7QH",
        "outputId": "547257de-2bd4-4e58-c7aa-d472e211cbf1"
      },
      "source": [
        "!ls .git -al\n"
      ],
      "execution_count": null,
      "outputs": [
        {
          "output_type": "stream",
          "text": [
            "total 52\n",
            "drwxr-xr-x 8 root root 4096 Apr 13 19:02 .\n",
            "drwxr-xr-x 3 root root 4096 Apr 13 19:02 ..\n",
            "drwxr-xr-x 2 root root 4096 Apr 13 19:02 branches\n",
            "-rw-r--r-- 1 root root  282 Apr 13 19:02 config\n",
            "-rw-r--r-- 1 root root   73 Apr 13 19:02 description\n",
            "-rw-r--r-- 1 root root   21 Apr 13 19:02 HEAD\n",
            "drwxr-xr-x 2 root root 4096 Apr 13 19:02 hooks\n",
            "-rw-r--r-- 1 root root  137 Apr 13 19:02 index\n",
            "drwxr-xr-x 2 root root 4096 Apr 13 19:02 info\n",
            "drwxr-xr-x 3 root root 4096 Apr 13 19:02 logs\n",
            "drwxr-xr-x 7 root root 4096 Apr 13 19:02 objects\n",
            "-rw-r--r-- 1 root root  112 Apr 13 19:02 packed-refs\n",
            "drwxr-xr-x 5 root root 4096 Apr 13 19:02 refs\n"
          ],
          "name": "stdout"
        }
      ]
    },
    {
      "cell_type": "markdown",
      "metadata": {
        "id": "M4rKO5RMQ7QH"
      },
      "source": [
        "### Rastrear Archivos Nuevos\n",
        "Pg. 26\n",
        "\n",
        "![GitAdd](https://github.com/GerardoMunoz/progit2-es/raw/master/jupyter-summary/imagenes/Diapositiva2.PNG)\n"
      ]
    },
    {
      "cell_type": "markdown",
      "metadata": {
        "id": "FWjjjDUEQ7QH"
      },
      "source": [
        "### Creando un primer archivo (`concluciones.txt`)\n",
        "\n",
        "Entra las muchísimas opciones que tenemos para crear un archivo, vamos a usar una que tiene Linux para crear archivos de texto. Esta opción consiste en el comando `echo`. "
      ]
    },
    {
      "cell_type": "code",
      "metadata": {
        "id": "EVDdeDJTQ7QI"
      },
      "source": [
        ""
      ],
      "execution_count": null,
      "outputs": []
    },
    {
      "cell_type": "code",
      "metadata": {
        "id": "0pvs6HVaQ7QI"
      },
      "source": [
        "# `echo ... > ...` permite crear un archivo \n",
        "!echo \"Finalmente podemos concluir que ...\" > conclusion.txt"
      ],
      "execution_count": null,
      "outputs": []
    },
    {
      "cell_type": "code",
      "metadata": {
        "colab": {
          "base_uri": "https://localhost:8080/"
        },
        "id": "_pBzEcCpQ7QI",
        "outputId": "7b4a202b-5a72-4fd0-fdec-6d7e39587098"
      },
      "source": [
        "!ls -l"
      ],
      "execution_count": null,
      "outputs": [
        {
          "output_type": "stream",
          "text": [
            "total 8\n",
            "-rw-r--r-- 1 root root 36 Apr 13 19:02 conclusion.txt\n",
            "-rw-r--r-- 1 root root 23 Apr 13 19:02 README.md\n"
          ],
          "name": "stdout"
        }
      ]
    },
    {
      "cell_type": "code",
      "metadata": {
        "colab": {
          "base_uri": "https://localhost:8080/"
        },
        "id": "O4Z1yDICQ7QJ",
        "outputId": "b8078fab-c336-45de-ceea-d67ec136b145"
      },
      "source": [
        "# `cat ...` permite crear un archivo \n",
        "!cat conclusion.txt"
      ],
      "execution_count": null,
      "outputs": [
        {
          "output_type": "stream",
          "text": [
            "Finalmente podemos concluir que ...\n"
          ],
          "name": "stdout"
        }
      ]
    },
    {
      "cell_type": "code",
      "metadata": {
        "colab": {
          "base_uri": "https://localhost:8080/"
        },
        "id": "cdod5oWcQ7QK",
        "outputId": "dc28223c-3300-4c1b-d385-d14ec71fe7ec"
      },
      "source": [
        "!git status"
      ],
      "execution_count": null,
      "outputs": [
        {
          "output_type": "stream",
          "text": [
            "On branch main\n",
            "Your branch is up to date with 'origin/main'.\n",
            "\n",
            "Untracked files:\n",
            "  (use \"git add <file>...\" to include in what will be committed)\n",
            "\n",
            "\t\u001b[31mconclusion.txt\u001b[m\n",
            "\n",
            "nothing added to commit but untracked files present (use \"git add\" to track)\n"
          ],
          "name": "stdout"
        }
      ]
    },
    {
      "cell_type": "code",
      "metadata": {
        "id": "5vXgVPEFQ7QK"
      },
      "source": [
        "!git add conclusion.txt"
      ],
      "execution_count": null,
      "outputs": []
    },
    {
      "cell_type": "code",
      "metadata": {
        "colab": {
          "base_uri": "https://localhost:8080/"
        },
        "id": "6DbKNMseQ7QK",
        "outputId": "29694702-b24b-451a-afa2-d226f01a2739"
      },
      "source": [
        "!git status"
      ],
      "execution_count": null,
      "outputs": [
        {
          "output_type": "stream",
          "text": [
            "On branch main\n",
            "Your branch is up to date with 'origin/main'.\n",
            "\n",
            "Changes to be committed:\n",
            "  (use \"git reset HEAD <file>...\" to unstage)\n",
            "\n",
            "\t\u001b[32mnew file:   conclusion.txt\u001b[m\n",
            "\n"
          ],
          "name": "stdout"
        }
      ]
    },
    {
      "cell_type": "markdown",
      "metadata": {
        "id": "h4YPYuP9Q7QK"
      },
      "source": [
        "### Creando un segundo archivo (`resumen.txt`)"
      ]
    },
    {
      "cell_type": "code",
      "metadata": {
        "id": "JsI1XbHbQ7QL"
      },
      "source": [
        "# Se puede copiar un archivo en la carpeta o crearlo desde cualquier progrma\n",
        "!echo \"En este documento se presenta ...\" > resumen.txt"
      ],
      "execution_count": null,
      "outputs": []
    },
    {
      "cell_type": "code",
      "metadata": {
        "colab": {
          "base_uri": "https://localhost:8080/"
        },
        "id": "8neK3dADQ7QL",
        "outputId": "ade853c6-f003-4604-e5c2-5180a66787e1"
      },
      "source": [
        "!git status"
      ],
      "execution_count": null,
      "outputs": [
        {
          "output_type": "stream",
          "text": [
            "On branch main\n",
            "Your branch is up to date with 'origin/main'.\n",
            "\n",
            "Changes to be committed:\n",
            "  (use \"git reset HEAD <file>...\" to unstage)\n",
            "\n",
            "\t\u001b[32mnew file:   conclusion.txt\u001b[m\n",
            "\n",
            "Untracked files:\n",
            "  (use \"git add <file>...\" to include in what will be committed)\n",
            "\n",
            "\t\u001b[31mresumen.txt\u001b[m\n",
            "\n"
          ],
          "name": "stdout"
        }
      ]
    },
    {
      "cell_type": "code",
      "metadata": {
        "id": "rqMCa0LGQ7QL"
      },
      "source": [
        "!git add resumen.txt"
      ],
      "execution_count": null,
      "outputs": []
    },
    {
      "cell_type": "code",
      "metadata": {
        "colab": {
          "base_uri": "https://localhost:8080/"
        },
        "id": "H6yDwIuCQ7QL",
        "outputId": "7e99d4b4-4bee-4c2d-e749-c2ec1aabf1a8"
      },
      "source": [
        "!git status"
      ],
      "execution_count": null,
      "outputs": [
        {
          "output_type": "stream",
          "text": [
            "On branch main\n",
            "Your branch is up to date with 'origin/main'.\n",
            "\n",
            "Changes to be committed:\n",
            "  (use \"git reset HEAD <file>...\" to unstage)\n",
            "\n",
            "\t\u001b[32mnew file:   conclusion.txt\u001b[m\n",
            "\t\u001b[32mnew file:   resumen.txt\u001b[m\n",
            "\n"
          ],
          "name": "stdout"
        }
      ]
    },
    {
      "cell_type": "markdown",
      "metadata": {
        "id": "sIFirZGDQ7QL"
      },
      "source": [
        "## Confirmando (`commit`)"
      ]
    },
    {
      "cell_type": "markdown",
      "metadata": {
        "id": "2fgZvgRUQ7QM"
      },
      "source": [
        "![GitCommitPush](https://github.com/GerardoMunoz/progit2-es/raw/master/jupyter-summary/imagenes/Diapositiva3.PNG)"
      ]
    },
    {
      "cell_type": "code",
      "metadata": {
        "colab": {
          "base_uri": "https://localhost:8080/"
        },
        "id": "9fEH-0j_Q7QM",
        "outputId": "eada864f-1d84-47c5-efc3-4d4c8ee687f1"
      },
      "source": [
        "!git commit -m \"Versión inicial del proyecto\"\n"
      ],
      "execution_count": null,
      "outputs": [
        {
          "output_type": "stream",
          "text": [
            "[main 46e0aab] Versión inicial del proyecto\n",
            " 2 files changed, 2 insertions(+)\n",
            " create mode 100644 conclusion.txt\n",
            " create mode 100644 resumen.txt\n"
          ],
          "name": "stdout"
        }
      ]
    },
    {
      "cell_type": "code",
      "metadata": {
        "colab": {
          "base_uri": "https://localhost:8080/"
        },
        "id": "IWKoORIfQ7QM",
        "outputId": "0dee0163-31da-4ebf-8359-8fee584362c1"
      },
      "source": [
        "!git status"
      ],
      "execution_count": null,
      "outputs": [
        {
          "output_type": "stream",
          "text": [
            "On branch main\n",
            "Your branch is ahead of 'origin/main' by 1 commit.\n",
            "  (use \"git push\" to publish your local commits)\n",
            "\n",
            "nothing to commit, working tree clean\n"
          ],
          "name": "stdout"
        }
      ]
    },
    {
      "cell_type": "markdown",
      "metadata": {
        "id": "Oqsv0xp8Q-I7"
      },
      "source": [
        "# Git \n",
        "\n",
        "\n",
        "* Resumen basado en el libro 'Pro Git'\n",
        "* Escrito por 'Scott Chacon' y por  'Ben Straub'\n",
        "* Versión 2.1.22, 2021-02-09\n",
        "* https://git-scm.com/book/es/v2\n",
        "\n",
        "# Acerca del Control de Versiones\n",
        "(Pg. 9)\n",
        "Un control de versiones es un\n",
        "sistema que registra los cambios realizados en un archivo o conjunto de archivos a lo largo del\n",
        "tiempo, de modo que puedas recuperar versiones específicas más adelante. \n",
        "\n",
        "# Fundamentos de Git\n",
        "\n",
        "## Los Tres Estados\n",
        "\n",
        "(pg 16) \n",
        "Git tiene tres estados principales en los que se pueden encontrar tus archivos: \n",
        "* confirmado (**committed**), significa que los datos están almacenados de manera segura en tu base de datos local\n",
        "* modificado (**modified**), significa que has modificado el archivo, pero todavía no lo has confirmado a tu base de datos.\n",
        "* preparado (**staged**), significa que has marcado un archivo modificado en su versión actual para que vaya en tu próxima confirmación.\n"
      ]
    },
    {
      "cell_type": "markdown",
      "metadata": {
        "id": "nzCb6bF6Q-I7"
      },
      "source": [
        "![Figura 6](https://github.com/GerardoMunoz/progit2-es/raw/fd5562ab1c85dc792491d3d71469bb0ced88165e/jupyter-summary/Fig6_mod.PNG)"
      ]
    },
    {
      "cell_type": "markdown",
      "metadata": {
        "id": "2YNdf_lVQ-I8"
      },
      "source": [
        "## Configurando Git por primera vez\n",
        "### Tu Identidad\n",
        "Pg. 20"
      ]
    },
    {
      "cell_type": "code",
      "metadata": {
        "id": "7SR7MsMMQ-I8"
      },
      "source": [
        "!git config --list "
      ],
      "execution_count": null,
      "outputs": []
    },
    {
      "cell_type": "code",
      "metadata": {
        "id": "FcDwTtTMQ-I9"
      },
      "source": [
        "# no olvide colocar su nombre \n",
        "!git config  --global user.name \"cambiar-por-su-nombre\""
      ],
      "execution_count": null,
      "outputs": []
    },
    {
      "cell_type": "code",
      "metadata": {
        "id": "HXe46sRsQ-I9"
      },
      "source": [
        "# no olvide colocar su email \n",
        "!git config  --global user.email cambiar.por.su.correo@gmail.com"
      ],
      "execution_count": null,
      "outputs": []
    },
    {
      "cell_type": "code",
      "metadata": {
        "colab": {
          "base_uri": "https://localhost:8080/"
        },
        "id": "a7vzDlK0Q-I-",
        "outputId": "c5b2e3ac-10c0-49be-8fc8-592ef08ff8fc"
      },
      "source": [
        "!git config --list "
      ],
      "execution_count": null,
      "outputs": [
        {
          "output_type": "stream",
          "text": [
            "user.name=cambiar-por-su-nombre\n",
            "user.email=cambiar.por.su.correo@gmail.com\n"
          ],
          "name": "stdout"
        }
      ]
    },
    {
      "cell_type": "code",
      "metadata": {
        "colab": {
          "base_uri": "https://localhost:8080/"
        },
        "id": "K1gLXieNQ-JA",
        "outputId": "bdbb5a34-0f86-4bde-c005-73febc3a1858"
      },
      "source": [
        "!git config user.name"
      ],
      "execution_count": null,
      "outputs": [
        {
          "output_type": "stream",
          "text": [
            "cambiar-por-su-nombre\n"
          ],
          "name": "stdout"
        }
      ]
    },
    {
      "cell_type": "code",
      "metadata": {
        "colab": {
          "base_uri": "https://localhost:8080/"
        },
        "id": "_G97JZDSQ-JB",
        "outputId": "4874d218-b967-4842-da1e-5bd2ec934347"
      },
      "source": [
        "!git config user.email"
      ],
      "execution_count": null,
      "outputs": [
        {
          "output_type": "stream",
          "text": [
            "cambiar.por.su.correo@gmail.com\n"
          ],
          "name": "stdout"
        }
      ]
    },
    {
      "cell_type": "markdown",
      "metadata": {
        "id": "bQX48IvAQ-JB"
      },
      "source": [
        "### Tu Editor\n",
        "Pg. 21\n",
        "\n",
        "Más adelante veremos  que Git abre automaticamente el editor que este configurado cuando se confirman (`commit`) los cambios. El editor se configura de la siguiete forma\n",
        "\n",
        "`git config --global core.editor ` cambiar_por_su_editor\n",
        "\n",
        "Desde Jupyter es preferible no abrir ningún editor ya que Jupyter se puede ejecutar en diferentes entornos. Para evitar abrir un editor al confirmar (`commit`) veremos que se puede usar la opción `-m`   \n",
        "\n",
        "`commit -m \"Aquí escribimos la documentación del cambio\"`\n",
        "\n"
      ]
    },
    {
      "cell_type": "markdown",
      "metadata": {
        "id": "KT2yF9BAQ-JB"
      },
      "source": [
        "### ¿Cómo obtener ayuda?\n",
        "Pg. 22"
      ]
    },
    {
      "cell_type": "code",
      "metadata": {
        "id": "nF14vb9zQ-JC"
      },
      "source": [
        "#!git help"
      ],
      "execution_count": null,
      "outputs": []
    },
    {
      "cell_type": "code",
      "metadata": {
        "id": "ks06EzgEQ-JC"
      },
      "source": [
        "#!git help config "
      ],
      "execution_count": null,
      "outputs": []
    },
    {
      "cell_type": "code",
      "metadata": {
        "id": "_135oAu3Q-JC"
      },
      "source": [
        ""
      ],
      "execution_count": null,
      "outputs": []
    },
    {
      "cell_type": "markdown",
      "metadata": {
        "id": "punJo7uXQ-JC"
      },
      "source": [
        "## Fundamentos de Git\n",
        "Pgs. 24 - 57\n",
        "\n",
        "### Obteniendo un repositorio Git\n",
        "Pg. 23\n",
        "\n",
        "![GitIniClon](https://github.com/GerardoMunoz/progit2-es/raw/master/jupyter-summary/imagenes/Diapositiva1.PNG)"
      ]
    },
    {
      "cell_type": "markdown",
      "metadata": {
        "id": "11lJd--OQ-JC"
      },
      "source": [
        "Antes de comenzar vamos a listar los archivos en la carpecta actual, utilizando el comando de linux `ls -l` "
      ]
    },
    {
      "cell_type": "code",
      "metadata": {
        "colab": {
          "base_uri": "https://localhost:8080/"
        },
        "id": "VWGK-fXgQ-JD",
        "outputId": "6b6c221f-c910-407c-ef0a-1a5d15dcb104"
      },
      "source": [
        "!ls -l"
      ],
      "execution_count": null,
      "outputs": [
        {
          "output_type": "stream",
          "text": [
            "total 4\n",
            "drwxr-xr-x 1 root root 4096 Apr  7 13:36 sample_data\n"
          ],
          "name": "stdout"
        }
      ]
    },
    {
      "cell_type": "markdown",
      "metadata": {
        "id": "id0ohTMQQ-JD"
      },
      "source": [
        "La rama principal de GitHub por defecto se llama `main`. Sin embargo, en Git se llama `master`. Para evitar que al clonar se cree larama `master`, es necesario indicarle el nombe de la rama con la opciòn `-b`."
      ]
    },
    {
      "cell_type": "code",
      "metadata": {
        "colab": {
          "base_uri": "https://localhost:8080/"
        },
        "id": "UUi_GFk-Q-JD",
        "outputId": "5b8b9783-c343-4729-e451-a06bfee2c686"
      },
      "source": [
        "!git clone -b main https://github.com/cambiar-por-su-nombre/TrabajosProgramacion"
      ],
      "execution_count": null,
      "outputs": [
        {
          "output_type": "stream",
          "text": [
            "Cloning into 'TrabajosProgramacion'...\n",
            "remote: Enumerating objects: 3, done.\u001b[K\n",
            "remote: Counting objects: 100% (3/3), done.\u001b[K\n",
            "remote: Total 3 (delta 0), reused 0 (delta 0), pack-reused 0\u001b[K\n",
            "Unpacking objects: 100% (3/3), done.\n"
          ],
          "name": "stdout"
        }
      ]
    },
    {
      "cell_type": "code",
      "metadata": {
        "colab": {
          "base_uri": "https://localhost:8080/"
        },
        "id": "4wqLrWK0Q-JD",
        "outputId": "62769864-188c-4770-e79b-5844a01d77a6"
      },
      "source": [
        "!ls -l"
      ],
      "execution_count": null,
      "outputs": [
        {
          "output_type": "stream",
          "text": [
            "total 8\n",
            "drwxr-xr-x 1 root root 4096 Apr  7 13:36 sample_data\n",
            "drwxr-xr-x 3 root root 4096 Apr 13 19:02 TrabajosProgramacion\n"
          ],
          "name": "stdout"
        }
      ]
    },
    {
      "cell_type": "code",
      "metadata": {
        "colab": {
          "base_uri": "https://localhost:8080/"
        },
        "id": "rVYQ7_4VQ-JD",
        "outputId": "90cba112-caa9-4465-c0f3-ea89af96c7b8"
      },
      "source": [
        "%cd TrabajosProgramacion"
      ],
      "execution_count": null,
      "outputs": [
        {
          "output_type": "stream",
          "text": [
            "/content/TrabajosProgramacion\n"
          ],
          "name": "stdout"
        }
      ]
    },
    {
      "cell_type": "markdown",
      "metadata": {
        "id": "xC3QPdr8Q-JE"
      },
      "source": [
        "## Guardando cambios en el Repositorio\n",
        "Pg. 24\n",
        "\n",
        "### Revisando el Estado de tus Archivos\n",
        "\n"
      ]
    },
    {
      "cell_type": "code",
      "metadata": {
        "colab": {
          "base_uri": "https://localhost:8080/"
        },
        "id": "pznG2iQhQ-JE",
        "outputId": "2ab870bb-0f82-46dc-fdc5-25ddd2943518"
      },
      "source": [
        "!git status "
      ],
      "execution_count": null,
      "outputs": [
        {
          "output_type": "stream",
          "text": [
            "On branch main\n",
            "Your branch is up to date with 'origin/main'.\n",
            "\n",
            "nothing to commit, working tree clean\n"
          ],
          "name": "stdout"
        }
      ]
    },
    {
      "cell_type": "code",
      "metadata": {
        "colab": {
          "base_uri": "https://localhost:8080/"
        },
        "id": "bMV6ChS7Q-JE",
        "outputId": "2aeef163-a416-4880-cee5-3d5c7eca6e67"
      },
      "source": [
        "!ls -l"
      ],
      "execution_count": null,
      "outputs": [
        {
          "output_type": "stream",
          "text": [
            "total 4\n",
            "-rw-r--r-- 1 root root 23 Apr 13 19:02 README.md\n"
          ],
          "name": "stdout"
        }
      ]
    },
    {
      "cell_type": "code",
      "metadata": {
        "colab": {
          "base_uri": "https://localhost:8080/"
        },
        "id": "GR4tWU0zQ-JE",
        "outputId": "97295949-621e-4061-cdd8-496dbae85239"
      },
      "source": [
        "!ls -al"
      ],
      "execution_count": null,
      "outputs": [
        {
          "output_type": "stream",
          "text": [
            "total 16\n",
            "drwxr-xr-x 3 root root 4096 Apr 13 19:02 .\n",
            "drwxr-xr-x 1 root root 4096 Apr 13 19:02 ..\n",
            "drwxr-xr-x 8 root root 4096 Apr 13 19:02 .git\n",
            "-rw-r--r-- 1 root root   23 Apr 13 19:02 README.md\n"
          ],
          "name": "stdout"
        }
      ]
    },
    {
      "cell_type": "code",
      "metadata": {
        "colab": {
          "base_uri": "https://localhost:8080/"
        },
        "id": "rWrGsvudQ-JE",
        "outputId": "547257de-2bd4-4e58-c7aa-d472e211cbf1"
      },
      "source": [
        "!ls .git -al\n"
      ],
      "execution_count": null,
      "outputs": [
        {
          "output_type": "stream",
          "text": [
            "total 52\n",
            "drwxr-xr-x 8 root root 4096 Apr 13 19:02 .\n",
            "drwxr-xr-x 3 root root 4096 Apr 13 19:02 ..\n",
            "drwxr-xr-x 2 root root 4096 Apr 13 19:02 branches\n",
            "-rw-r--r-- 1 root root  282 Apr 13 19:02 config\n",
            "-rw-r--r-- 1 root root   73 Apr 13 19:02 description\n",
            "-rw-r--r-- 1 root root   21 Apr 13 19:02 HEAD\n",
            "drwxr-xr-x 2 root root 4096 Apr 13 19:02 hooks\n",
            "-rw-r--r-- 1 root root  137 Apr 13 19:02 index\n",
            "drwxr-xr-x 2 root root 4096 Apr 13 19:02 info\n",
            "drwxr-xr-x 3 root root 4096 Apr 13 19:02 logs\n",
            "drwxr-xr-x 7 root root 4096 Apr 13 19:02 objects\n",
            "-rw-r--r-- 1 root root  112 Apr 13 19:02 packed-refs\n",
            "drwxr-xr-x 5 root root 4096 Apr 13 19:02 refs\n"
          ],
          "name": "stdout"
        }
      ]
    },
    {
      "cell_type": "markdown",
      "metadata": {
        "id": "wTxhIc0nQ-JF"
      },
      "source": [
        "### Rastrear Archivos Nuevos\n",
        "Pg. 26\n",
        "\n",
        "![GitAdd](https://github.com/GerardoMunoz/progit2-es/raw/master/jupyter-summary/imagenes/Diapositiva2.PNG)\n"
      ]
    },
    {
      "cell_type": "markdown",
      "metadata": {
        "id": "OAkoUDtbQ-JF"
      },
      "source": [
        "### Creando un primer archivo (`concluciones.txt`)\n",
        "\n",
        "Entra las muchísimas opciones que tenemos para crear un archivo, vamos a usar una que tiene Linux para crear archivos de texto. Esta opción consiste en el comando `echo`. "
      ]
    },
    {
      "cell_type": "code",
      "metadata": {
        "id": "YqtDCTyBQ-JF"
      },
      "source": [
        ""
      ],
      "execution_count": null,
      "outputs": []
    },
    {
      "cell_type": "code",
      "metadata": {
        "id": "GMUNSHREQ-JF"
      },
      "source": [
        "# `echo ... > ...` permite crear un archivo \n",
        "!echo \"Finalmente podemos concluir que ...\" > conclusion.txt"
      ],
      "execution_count": null,
      "outputs": []
    },
    {
      "cell_type": "code",
      "metadata": {
        "colab": {
          "base_uri": "https://localhost:8080/"
        },
        "id": "nNMWJnJ-Q-JG",
        "outputId": "7b4a202b-5a72-4fd0-fdec-6d7e39587098"
      },
      "source": [
        "!ls -l"
      ],
      "execution_count": null,
      "outputs": [
        {
          "output_type": "stream",
          "text": [
            "total 8\n",
            "-rw-r--r-- 1 root root 36 Apr 13 19:02 conclusion.txt\n",
            "-rw-r--r-- 1 root root 23 Apr 13 19:02 README.md\n"
          ],
          "name": "stdout"
        }
      ]
    },
    {
      "cell_type": "code",
      "metadata": {
        "colab": {
          "base_uri": "https://localhost:8080/"
        },
        "id": "tZRHY-VaQ-JH",
        "outputId": "b8078fab-c336-45de-ceea-d67ec136b145"
      },
      "source": [
        "# `cat ...` permite crear un archivo \n",
        "!cat conclusion.txt"
      ],
      "execution_count": null,
      "outputs": [
        {
          "output_type": "stream",
          "text": [
            "Finalmente podemos concluir que ...\n"
          ],
          "name": "stdout"
        }
      ]
    },
    {
      "cell_type": "code",
      "metadata": {
        "colab": {
          "base_uri": "https://localhost:8080/"
        },
        "id": "iiicwxcuQ-JJ",
        "outputId": "dc28223c-3300-4c1b-d385-d14ec71fe7ec"
      },
      "source": [
        "!git status"
      ],
      "execution_count": null,
      "outputs": [
        {
          "output_type": "stream",
          "text": [
            "On branch main\n",
            "Your branch is up to date with 'origin/main'.\n",
            "\n",
            "Untracked files:\n",
            "  (use \"git add <file>...\" to include in what will be committed)\n",
            "\n",
            "\t\u001b[31mconclusion.txt\u001b[m\n",
            "\n",
            "nothing added to commit but untracked files present (use \"git add\" to track)\n"
          ],
          "name": "stdout"
        }
      ]
    },
    {
      "cell_type": "code",
      "metadata": {
        "id": "U1yfcdnGQ-JK"
      },
      "source": [
        "!git add conclusion.txt"
      ],
      "execution_count": null,
      "outputs": []
    },
    {
      "cell_type": "code",
      "metadata": {
        "colab": {
          "base_uri": "https://localhost:8080/"
        },
        "id": "7m0TM52MQ-JK",
        "outputId": "29694702-b24b-451a-afa2-d226f01a2739"
      },
      "source": [
        "!git status"
      ],
      "execution_count": null,
      "outputs": [
        {
          "output_type": "stream",
          "text": [
            "On branch main\n",
            "Your branch is up to date with 'origin/main'.\n",
            "\n",
            "Changes to be committed:\n",
            "  (use \"git reset HEAD <file>...\" to unstage)\n",
            "\n",
            "\t\u001b[32mnew file:   conclusion.txt\u001b[m\n",
            "\n"
          ],
          "name": "stdout"
        }
      ]
    },
    {
      "cell_type": "markdown",
      "metadata": {
        "id": "a8GmKw4EQ-JL"
      },
      "source": [
        "### Creando un segundo archivo (`resumen.txt`)"
      ]
    },
    {
      "cell_type": "code",
      "metadata": {
        "id": "IHvWZlSSQ-JL"
      },
      "source": [
        "# Se puede copiar un archivo en la carpeta o crearlo desde cualquier progrma\n",
        "!echo \"En este documento se presenta ...\" > resumen.txt"
      ],
      "execution_count": null,
      "outputs": []
    },
    {
      "cell_type": "code",
      "metadata": {
        "colab": {
          "base_uri": "https://localhost:8080/"
        },
        "id": "QkSPY8PSQ-JM",
        "outputId": "ade853c6-f003-4604-e5c2-5180a66787e1"
      },
      "source": [
        "!git status"
      ],
      "execution_count": null,
      "outputs": [
        {
          "output_type": "stream",
          "text": [
            "On branch main\n",
            "Your branch is up to date with 'origin/main'.\n",
            "\n",
            "Changes to be committed:\n",
            "  (use \"git reset HEAD <file>...\" to unstage)\n",
            "\n",
            "\t\u001b[32mnew file:   conclusion.txt\u001b[m\n",
            "\n",
            "Untracked files:\n",
            "  (use \"git add <file>...\" to include in what will be committed)\n",
            "\n",
            "\t\u001b[31mresumen.txt\u001b[m\n",
            "\n"
          ],
          "name": "stdout"
        }
      ]
    },
    {
      "cell_type": "code",
      "metadata": {
        "id": "YR3McdtJQ-JM"
      },
      "source": [
        "!git add resumen.txt"
      ],
      "execution_count": null,
      "outputs": []
    },
    {
      "cell_type": "code",
      "metadata": {
        "colab": {
          "base_uri": "https://localhost:8080/"
        },
        "id": "vGaevygpQ-JM",
        "outputId": "7e99d4b4-4bee-4c2d-e749-c2ec1aabf1a8"
      },
      "source": [
        "!git status"
      ],
      "execution_count": null,
      "outputs": [
        {
          "output_type": "stream",
          "text": [
            "On branch main\n",
            "Your branch is up to date with 'origin/main'.\n",
            "\n",
            "Changes to be committed:\n",
            "  (use \"git reset HEAD <file>...\" to unstage)\n",
            "\n",
            "\t\u001b[32mnew file:   conclusion.txt\u001b[m\n",
            "\t\u001b[32mnew file:   resumen.txt\u001b[m\n",
            "\n"
          ],
          "name": "stdout"
        }
      ]
    },
    {
      "cell_type": "markdown",
      "metadata": {
        "id": "8BuF3t41Q-JN"
      },
      "source": [
        "## Confirmando (`commit`)"
      ]
    },
    {
      "cell_type": "markdown",
      "metadata": {
        "id": "qNLRJzlcQ-JN"
      },
      "source": [
        "![GitCommitPush](https://github.com/GerardoMunoz/progit2-es/raw/master/jupyter-summary/imagenes/Diapositiva3.PNG)"
      ]
    },
    {
      "cell_type": "code",
      "metadata": {
        "colab": {
          "base_uri": "https://localhost:8080/"
        },
        "id": "P88J58EzQ-JN",
        "outputId": "eada864f-1d84-47c5-efc3-4d4c8ee687f1"
      },
      "source": [
        "!git commit -m \"Versión inicial del proyecto\"\n"
      ],
      "execution_count": null,
      "outputs": [
        {
          "output_type": "stream",
          "text": [
            "[main 46e0aab] Versión inicial del proyecto\n",
            " 2 files changed, 2 insertions(+)\n",
            " create mode 100644 conclusion.txt\n",
            " create mode 100644 resumen.txt\n"
          ],
          "name": "stdout"
        }
      ]
    },
    {
      "cell_type": "code",
      "metadata": {
        "colab": {
          "base_uri": "https://localhost:8080/"
        },
        "id": "eaBFCJtkQ-JO",
        "outputId": "0dee0163-31da-4ebf-8359-8fee584362c1"
      },
      "source": [
        "!git status"
      ],
      "execution_count": null,
      "outputs": [
        {
          "output_type": "stream",
          "text": [
            "On branch main\n",
            "Your branch is ahead of 'origin/main' by 1 commit.\n",
            "  (use \"git push\" to publish your local commits)\n",
            "\n",
            "nothing to commit, working tree clean\n"
          ],
          "name": "stdout"
        }
      ]
    }
  ]
}