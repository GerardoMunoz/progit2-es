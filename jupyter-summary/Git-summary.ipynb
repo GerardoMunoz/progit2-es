{
  "nbformat": 4,
  "nbformat_minor": 5,
  "metadata": {
    "colab": {
      "name": "Git-summary.ipynb",
      "provenance": [],
      "include_colab_link": true
    },
    "kernelspec": {
      "display_name": "Python 3",
      "language": "python",
      "name": "python3"
    },
    "language_info": {
      "codemirror_mode": {
        "name": "ipython",
        "version": 3
      },
      "file_extension": ".py",
      "mimetype": "text/x-python",
      "name": "python",
      "nbconvert_exporter": "python",
      "pygments_lexer": "ipython3",
      "version": "3.9.2"
    }
  },
  "cells": [
    {
      "cell_type": "markdown",
      "metadata": {
        "id": "view-in-github",
        "colab_type": "text"
      },
      "source": [
        "<a href=\"https://colab.research.google.com/github/GerardoMunoz/progit2-es/blob/master/jupyter-summary/Git-summary.ipynb\" target=\"_parent\"><img src=\"https://colab.research.google.com/assets/colab-badge.svg\" alt=\"Open In Colab\"/></a>"
      ]
    },
    {
      "cell_type": "markdown",
      "metadata": {
        "id": "municipal-screening"
      },
      "source": [
        "# Git \n",
        "\n",
        "\n",
        "* Resumen basado en el libro 'Pro Git'\n",
        "* Escrito por 'Scott Chacon' y por  'Ben Straub'\n",
        "* Versión 2.1.22, 2021-02-09\n",
        "* https://git-scm.com/book/es/v2\n",
        "\n",
        "# Acerca del Control de Versiones\n",
        "(Pg. 9)\n",
        "Un control de versiones es un\n",
        "sistema que registra los cambios realizados en un archivo o conjunto de archivos a lo largo del\n",
        "tiempo, de modo que puedas recuperar versiones específicas más adelante. \n",
        "\n",
        "# Fundamentos de Git\n",
        "\n",
        "## Los Tres Estados\n",
        "\n",
        "(pg 16) \n",
        "Git tiene tres estados principales en los que se pueden encontrar tus archivos: \n",
        "* confirmado (**committed**), significa que los datos están almacenados de manera segura en tu base de datos local\n",
        "* modificado (**modified**), significa que has modificado el archivo, pero todavía no lo has confirmado a tu base de datos.\n",
        "* preparado (**staged**), significa que has marcado un archivo modificado en su versión actual para que vaya en tu próxima confirmación.\n"
      ],
      "id": "municipal-screening"
    },
    {
      "cell_type": "markdown",
      "metadata": {
        "id": "pvUlgFDxD6_l"
      },
      "source": [
        "![Figura 6](https://github.com/GerardoMunoz/progit2-es/raw/fd5562ab1c85dc792491d3d71469bb0ced88165e/jupyter-summary/Fig6_mod.PNG)"
      ],
      "id": "pvUlgFDxD6_l"
    },
    {
      "cell_type": "markdown",
      "metadata": {
        "id": "U2j0liTy5Gow"
      },
      "source": [
        "## Configurando Git por primera vez\n",
        "### Tu Identidad\n",
        "Pg. 20"
      ],
      "id": "U2j0liTy5Gow"
    },
    {
      "cell_type": "code",
      "metadata": {
        "colab": {
          "base_uri": "https://localhost:8080/"
        },
        "id": "K4AzWIMpNmeO",
        "outputId": "92fcf850-5aae-40b8-f431-bb8652909cd4"
      },
      "source": [
        "!git config --list "
      ],
      "id": "K4AzWIMpNmeO",
      "execution_count": null,
      "outputs": [
        {
          "output_type": "stream",
          "text": [
            "user.name=cambiar-por-su-nombre\n",
            "user.email=cambiar.por.su.correo@gmail.com\n"
          ],
          "name": "stdout"
        }
      ]
    },
    {
      "cell_type": "code",
      "metadata": {
        "id": "477bTP2m5Gow"
      },
      "source": [
        "# no olvide colocar su nombre \n",
        "!git config  --global user.name \"cambiar-por-su-nombre\""
      ],
      "id": "477bTP2m5Gow",
      "execution_count": null,
      "outputs": []
    },
    {
      "cell_type": "code",
      "metadata": {
        "id": "pL8SXQPv5Gox"
      },
      "source": [
        "# no olvide colocar su email \n",
        "!git config  --global user.email cambiar.por.su.correo@gmail.com"
      ],
      "id": "pL8SXQPv5Gox",
      "execution_count": null,
      "outputs": []
    },
    {
      "cell_type": "code",
      "metadata": {
        "colab": {
          "base_uri": "https://localhost:8080/"
        },
        "id": "IroeN9o65Gox",
        "outputId": "405faf1e-71cc-4773-ef1a-139b50f412a5"
      },
      "source": [
        "!git config --list "
      ],
      "id": "IroeN9o65Gox",
      "execution_count": null,
      "outputs": [
        {
          "output_type": "stream",
          "text": [
            "user.name=cambiar-por-su-nombre\n",
            "user.email=cambiar.por.su.correo@gmail.com\n"
          ],
          "name": "stdout"
        }
      ]
    },
    {
      "cell_type": "code",
      "metadata": {
        "colab": {
          "base_uri": "https://localhost:8080/"
        },
        "id": "8gQBTwg35Gox",
        "outputId": "055f559f-e34f-4975-a1d1-aedd974c1a9a"
      },
      "source": [
        "!git config user.name"
      ],
      "id": "8gQBTwg35Gox",
      "execution_count": null,
      "outputs": [
        {
          "output_type": "stream",
          "text": [
            "cambiar-por-su-nombre\n"
          ],
          "name": "stdout"
        }
      ]
    },
    {
      "cell_type": "code",
      "metadata": {
        "colab": {
          "base_uri": "https://localhost:8080/"
        },
        "id": "vqu_2b7W5Goy",
        "outputId": "c6c80b2a-5e5b-4575-b96e-13ee9f8ba8cc"
      },
      "source": [
        "!git config user.email"
      ],
      "id": "vqu_2b7W5Goy",
      "execution_count": null,
      "outputs": [
        {
          "output_type": "stream",
          "text": [
            "cambiar.por.su.correo@gmail.com\n"
          ],
          "name": "stdout"
        }
      ]
    },
    {
      "cell_type": "markdown",
      "metadata": {
        "id": "KupjvV3wdJj4"
      },
      "source": [
        "### Tu Editor\n",
        "Pg. 21\n",
        "\n",
        "Más adelante veremos  que Git abre automaticamente el editor que este configurado cuando se confirman (`commit`) los cambios. El editor se configura de la siguiete forma\n",
        "\n",
        "`git config --global core.editor ` cambiar_por_su_editor\n",
        "\n",
        "Desde Jupyter es preferible no abrir ningún editor ya que Jupyter se puede ejecutar en diferentes entornos. Para evitar abrir un editor al confirmar (`commit`) veremos que se puede usar la opción `-m`   \n",
        "\n",
        "`commit -m \"Aquí escribimos la documentación del cambio\"`\n",
        "\n"
      ],
      "id": "KupjvV3wdJj4"
    },
    {
      "cell_type": "markdown",
      "metadata": {
        "id": "kKCqLTxN5Goy"
      },
      "source": [
        "### ¿Cómo obtener ayuda?\n",
        "Pg. 22"
      ],
      "id": "kKCqLTxN5Goy"
    },
    {
      "cell_type": "code",
      "metadata": {
        "id": "4Gf52rsV5Goy"
      },
      "source": [
        "#!git help"
      ],
      "id": "4Gf52rsV5Goy",
      "execution_count": null,
      "outputs": []
    },
    {
      "cell_type": "code",
      "metadata": {
        "id": "aZtlgtsm5Goz"
      },
      "source": [
        "#!git help config "
      ],
      "id": "aZtlgtsm5Goz",
      "execution_count": null,
      "outputs": []
    },
    {
      "cell_type": "code",
      "metadata": {
        "id": "-1WYNempdIZx"
      },
      "source": [
        ""
      ],
      "id": "-1WYNempdIZx",
      "execution_count": null,
      "outputs": []
    },
    {
      "cell_type": "markdown",
      "metadata": {
        "id": "fGr9igEG5Goz"
      },
      "source": [
        "## Fundamentos de Git\n",
        "Pgs. 24 - 57\n",
        "\n",
        "### Obteniendo un repositorio Git\n",
        "Pg. 23\n",
        "\n",
        "![GitIniClon](https://github.com/GerardoMunoz/progit2-es/raw/master/jupyter-summary/imagenes/Diapositiva1.PNG)"
      ],
      "id": "fGr9igEG5Goz"
    },
    {
      "cell_type": "markdown",
      "metadata": {
        "id": "EujX4K06nvli"
      },
      "source": [
        "Antes de comenzar vamos a listar los archivos en la carpecta actual, utilizando el comando de linux `ls -l` "
      ],
      "id": "EujX4K06nvli"
    },
    {
      "cell_type": "code",
      "metadata": {
        "colab": {
          "base_uri": "https://localhost:8080/"
        },
        "id": "NrAXyIQ7y0Nd",
        "outputId": "2e7a00d7-40c2-4b6a-b9a9-55f533d3502b"
      },
      "source": [
        "!ls -l"
      ],
      "id": "NrAXyIQ7y0Nd",
      "execution_count": null,
      "outputs": [
        {
          "output_type": "stream",
          "text": [
            "total 4\n",
            "drwxr-xr-x 1 root root 4096 Mar 25 13:38 sample_data\n"
          ],
          "name": "stdout"
        }
      ]
    },
    {
      "cell_type": "markdown",
      "metadata": {
        "id": "A39oxVgVtOqb"
      },
      "source": [
        "La rama principal de GitHub por defecto se llama `main`. Sin embargo, en Git se llama `master`. Para evitar que al clonar se cree larama `master`, es necesario indicarle el nombe de la rama con la opciòn `-b`."
      ],
      "id": "A39oxVgVtOqb"
    },
    {
      "cell_type": "code",
      "metadata": {
        "colab": {
          "base_uri": "https://localhost:8080/"
        },
        "id": "OrwRAi0dyfLM",
        "outputId": "01caf329-2e72-4a0a-8948-093a26909d7e"
      },
      "source": [
        "!git clone -b main https://github.com/cambiar-por-su-nombre/TrabajosProgramacion"
      ],
      "id": "OrwRAi0dyfLM",
      "execution_count": null,
      "outputs": [
        {
          "output_type": "stream",
          "text": [
            "Cloning into 'TrabajosProgramacion'...\n",
            "remote: Enumerating objects: 3, done.\u001b[K\n",
            "remote: Counting objects: 100% (3/3), done.\u001b[K\n",
            "remote: Total 3 (delta 0), reused 0 (delta 0), pack-reused 0\u001b[K\n",
            "Unpacking objects: 100% (3/3), done.\n"
          ],
          "name": "stdout"
        }
      ]
    },
    {
      "cell_type": "code",
      "metadata": {
        "colab": {
          "base_uri": "https://localhost:8080/"
        },
        "id": "fClKrK3Py4ak",
        "outputId": "f0f6f20a-c571-40ee-9229-e2f804633db9"
      },
      "source": [
        "!ls -l"
      ],
      "id": "fClKrK3Py4ak",
      "execution_count": null,
      "outputs": [
        {
          "output_type": "stream",
          "text": [
            "total 8\n",
            "drwxr-xr-x 1 root root 4096 Mar 25 13:38 sample_data\n",
            "drwxr-xr-x 3 root root 4096 Apr  5 01:43 TrabajosProgramacion\n"
          ],
          "name": "stdout"
        }
      ]
    },
    {
      "cell_type": "code",
      "metadata": {
        "colab": {
          "base_uri": "https://localhost:8080/"
        },
        "id": "CS0oGUdBzAo9",
        "outputId": "7c081423-8da2-4de7-c099-123f1e2e5aed"
      },
      "source": [
        "%cd TrabajosProgramacion"
      ],
      "id": "CS0oGUdBzAo9",
      "execution_count": null,
      "outputs": [
        {
          "output_type": "stream",
          "text": [
            "/content/TrabajosProgramacion\n"
          ],
          "name": "stdout"
        }
      ]
    },
    {
      "cell_type": "markdown",
      "metadata": {
        "id": "XBT6mo_y9pUj"
      },
      "source": [
        "## Guardando cambios en el Repositorio\n",
        "Pg. 24\n",
        "\n",
        "### Revisando el Estado de tus Archivos\n",
        "\n"
      ],
      "id": "XBT6mo_y9pUj"
    },
    {
      "cell_type": "code",
      "metadata": {
        "colab": {
          "base_uri": "https://localhost:8080/"
        },
        "id": "7pN2xohOyHv7",
        "outputId": "d7ec0bc2-e545-4b0a-bce4-fd6943ecf536"
      },
      "source": [
        "!git status "
      ],
      "id": "7pN2xohOyHv7",
      "execution_count": null,
      "outputs": [
        {
          "output_type": "stream",
          "text": [
            "On branch main\n",
            "Your branch is up to date with 'origin/main'.\n",
            "\n",
            "nothing to commit, working tree clean\n"
          ],
          "name": "stdout"
        }
      ]
    },
    {
      "cell_type": "code",
      "metadata": {
        "colab": {
          "base_uri": "https://localhost:8080/"
        },
        "id": "dzr1b28e0Ude",
        "outputId": "a9be90ab-565f-4fe2-c724-f2af6bb1eefa"
      },
      "source": [
        "!ls -l"
      ],
      "id": "dzr1b28e0Ude",
      "execution_count": null,
      "outputs": [
        {
          "output_type": "stream",
          "text": [
            "total 4\n",
            "-rw-r--r-- 1 root root 23 Apr  5 01:43 README.md\n"
          ],
          "name": "stdout"
        }
      ]
    },
    {
      "cell_type": "code",
      "metadata": {
        "colab": {
          "base_uri": "https://localhost:8080/"
        },
        "id": "7wSUmoAC0UaG",
        "outputId": "a33cc6fd-33e1-4955-e354-709b3ee6af9f"
      },
      "source": [
        "!ls -al"
      ],
      "id": "7wSUmoAC0UaG",
      "execution_count": null,
      "outputs": [
        {
          "output_type": "stream",
          "text": [
            "total 16\n",
            "drwxr-xr-x 3 root root 4096 Apr  5 01:43 .\n",
            "drwxr-xr-x 1 root root 4096 Apr  5 01:43 ..\n",
            "drwxr-xr-x 8 root root 4096 Apr  5 01:43 .git\n",
            "-rw-r--r-- 1 root root   23 Apr  5 01:43 README.md\n"
          ],
          "name": "stdout"
        }
      ]
    },
    {
      "cell_type": "code",
      "metadata": {
        "colab": {
          "base_uri": "https://localhost:8080/"
        },
        "id": "zjJNVS-r0UWt",
        "outputId": "f86359f0-3097-4290-bb79-faaae1046791"
      },
      "source": [
        "!ls .git -al\n"
      ],
      "id": "zjJNVS-r0UWt",
      "execution_count": null,
      "outputs": [
        {
          "output_type": "stream",
          "text": [
            "total 52\n",
            "drwxr-xr-x 8 root root 4096 Apr  5 01:43 .\n",
            "drwxr-xr-x 3 root root 4096 Apr  5 01:43 ..\n",
            "drwxr-xr-x 2 root root 4096 Apr  5 01:43 branches\n",
            "-rw-r--r-- 1 root root  282 Apr  5 01:43 config\n",
            "-rw-r--r-- 1 root root   73 Apr  5 01:43 description\n",
            "-rw-r--r-- 1 root root   21 Apr  5 01:43 HEAD\n",
            "drwxr-xr-x 2 root root 4096 Apr  5 01:43 hooks\n",
            "-rw-r--r-- 1 root root  137 Apr  5 01:43 index\n",
            "drwxr-xr-x 2 root root 4096 Apr  5 01:43 info\n",
            "drwxr-xr-x 3 root root 4096 Apr  5 01:43 logs\n",
            "drwxr-xr-x 7 root root 4096 Apr  5 01:43 objects\n",
            "-rw-r--r-- 1 root root  112 Apr  5 01:43 packed-refs\n",
            "drwxr-xr-x 5 root root 4096 Apr  5 01:43 refs\n"
          ],
          "name": "stdout"
        }
      ]
    },
    {
      "cell_type": "markdown",
      "metadata": {
        "id": "laUURKpc_01B"
      },
      "source": [
        "### Rastrear Archivos Nuevos\n",
        "Pg. 26\n",
        "\n",
        "![GitAdd](https://github.com/GerardoMunoz/progit2-es/raw/master/jupyter-summary/imagenes/Diapositiva2.PNG)\n"
      ],
      "id": "laUURKpc_01B"
    },
    {
      "cell_type": "markdown",
      "metadata": {
        "id": "7Q-6F9c6mkUN"
      },
      "source": [
        "### Creando un archivo\n",
        "\n",
        "Entra las muchísimas opciones que tenemos para crear un archivo, vamos a usar una que tiene Linux para crear archivos de texto. Esta opción consiste en el comando `echo`. "
      ],
      "id": "7Q-6F9c6mkUN"
    },
    {
      "cell_type": "code",
      "metadata": {
        "id": "TrJrRTmp0UTL"
      },
      "source": [
        ""
      ],
      "id": "TrJrRTmp0UTL",
      "execution_count": null,
      "outputs": []
    },
    {
      "cell_type": "code",
      "metadata": {
        "id": "hHLrtvP-5Go2"
      },
      "source": [
        "# `echo ... > ...` permite crear un archivo \n",
        "!echo \"Finalmente podemos concluir que ...\" > conclusion.txt"
      ],
      "id": "hHLrtvP-5Go2",
      "execution_count": null,
      "outputs": []
    },
    {
      "cell_type": "code",
      "metadata": {
        "id": "mXrRRpO85Go2",
        "outputId": "7735d40b-2f4a-438f-c3b5-7a491bb7ad19"
      },
      "source": [
        "!ls -l"
      ],
      "id": "mXrRRpO85Go2",
      "execution_count": null,
      "outputs": [
        {
          "output_type": "stream",
          "text": [
            " El volumen de la unidad C no tiene etiqueta.\n",
            " El n£mero de serie del volumen es: 74C5-79FB\n",
            "\n",
            " Directorio de C:\\cursos\\Git_01_ver008\\ejemplo_git\n",
            "\n",
            "10/03/2021  04:37 p.m.    <DIR>          .\n",
            "10/03/2021  04:37 p.m.    <DIR>          ..\n",
            "10/03/2021  04:37 p.m.                40 conclusion.txt\n",
            "               1 archivos             40 bytes\n",
            "               2 dirs  30.030.647.296 bytes libres\n"
          ],
          "name": "stdout"
        }
      ]
    },
    {
      "cell_type": "code",
      "metadata": {
        "id": "qfxf_nbi5Go2",
        "outputId": "1fb33399-a93e-42bf-bb87-4403eb081780"
      },
      "source": [
        "# `cat ...` permite crear un archivo \n",
        "!cat conclusion.txt"
      ],
      "id": "qfxf_nbi5Go2",
      "execution_count": null,
      "outputs": [
        {
          "output_type": "stream",
          "text": [
            "\"Finalmente podemos concluir que ...\" \n"
          ],
          "name": "stdout"
        }
      ]
    },
    {
      "cell_type": "code",
      "metadata": {
        "id": "OZ8NOc0G5Go3",
        "outputId": "20981392-9d30-4bba-9380-fe9726e9f4ec"
      },
      "source": [
        "!git status"
      ],
      "id": "OZ8NOc0G5Go3",
      "execution_count": null,
      "outputs": [
        {
          "output_type": "stream",
          "text": [
            "On branch master\n",
            "\n",
            "No commits yet\n",
            "\n",
            "Untracked files:\n",
            "  (use \"git add <file>...\" to include in what will be committed)\n",
            "\tconclusion.txt\n",
            "\n",
            "nothing added to commit but untracked files present (use \"git add\" to track)\n"
          ],
          "name": "stdout"
        }
      ]
    },
    {
      "cell_type": "code",
      "metadata": {
        "id": "wxR30VTH5Go4"
      },
      "source": [
        "!git add conclusion.txt"
      ],
      "id": "wxR30VTH5Go4",
      "execution_count": null,
      "outputs": []
    },
    {
      "cell_type": "code",
      "metadata": {
        "id": "_p3GYWxy5Go4",
        "outputId": "9021944a-51f4-45c6-ef9e-5a38c5827ce0"
      },
      "source": [
        "!git status"
      ],
      "id": "_p3GYWxy5Go4",
      "execution_count": null,
      "outputs": [
        {
          "output_type": "stream",
          "text": [
            "On branch master\n",
            "\n",
            "No commits yet\n",
            "\n",
            "Changes to be committed:\n",
            "  (use \"git rm --cached <file>...\" to unstage)\n",
            "\tnew file:   conclusion.txt\n",
            "\n"
          ],
          "name": "stdout"
        }
      ]
    },
    {
      "cell_type": "markdown",
      "metadata": {
        "id": "pbiwHmDH5Go4"
      },
      "source": [
        "### Creando otro archivo"
      ],
      "id": "pbiwHmDH5Go4"
    },
    {
      "cell_type": "code",
      "metadata": {
        "id": "Y7SHGhDi5Go4"
      },
      "source": [
        "# Se puede copiar un archivo en la carpeta o crearlo desde cualquier progrma\n",
        "!echo \"En este documento se presenta ...\" > resumen.txt"
      ],
      "id": "Y7SHGhDi5Go4",
      "execution_count": null,
      "outputs": []
    },
    {
      "cell_type": "code",
      "metadata": {
        "id": "iV6l0auz5Go4",
        "outputId": "18d3b3ae-4131-4a3c-fb7f-6f7b7e924117"
      },
      "source": [
        "!git status"
      ],
      "id": "iV6l0auz5Go4",
      "execution_count": null,
      "outputs": [
        {
          "output_type": "stream",
          "text": [
            "On branch master\n",
            "\n",
            "No commits yet\n",
            "\n",
            "Changes to be committed:\n",
            "  (use \"git rm --cached <file>...\" to unstage)\n",
            "\tnew file:   conclusion.txt\n",
            "\n",
            "Untracked files:\n",
            "  (use \"git add <file>...\" to include in what will be committed)\n",
            "\tresumen.txt\n",
            "\n"
          ],
          "name": "stdout"
        }
      ]
    },
    {
      "cell_type": "code",
      "metadata": {
        "id": "ZRDWCb7C5Go5"
      },
      "source": [
        "!git add resumen.txt"
      ],
      "id": "ZRDWCb7C5Go5",
      "execution_count": null,
      "outputs": []
    },
    {
      "cell_type": "code",
      "metadata": {
        "id": "lScKRw7x5Go5",
        "outputId": "cbe34fa1-6de5-429b-e7fb-5b2d8d975c65"
      },
      "source": [
        "!git status"
      ],
      "id": "lScKRw7x5Go5",
      "execution_count": null,
      "outputs": [
        {
          "output_type": "stream",
          "text": [
            "On branch master\n",
            "\n",
            "No commits yet\n",
            "\n",
            "Changes to be committed:\n",
            "  (use \"git rm --cached <file>...\" to unstage)\n",
            "\tnew file:   conclusion.txt\n",
            "\tnew file:   resumen.txt\n",
            "\n"
          ],
          "name": "stdout"
        }
      ]
    },
    {
      "cell_type": "markdown",
      "metadata": {
        "id": "M8nCVNSp5Go5"
      },
      "source": [
        "## Confirmando (`commit`)"
      ],
      "id": "M8nCVNSp5Go5"
    },
    {
      "cell_type": "markdown",
      "metadata": {
        "id": "SxPHz4c4xRVu"
      },
      "source": [
        "![GitCommitPush](https://github.com/GerardoMunoz/progit2-es/raw/master/jupyter-summary/imagenes/Diapositiva3.PNG)"
      ],
      "id": "SxPHz4c4xRVu"
    },
    {
      "cell_type": "code",
      "metadata": {
        "id": "sg8pMXlC5Go5",
        "outputId": "932824e8-df9d-45ae-9c50-a2d16a4d9ee6"
      },
      "source": [
        "!git commit -m \"Versión inicial del proyecto\"\n"
      ],
      "id": "sg8pMXlC5Go5",
      "execution_count": null,
      "outputs": [
        {
          "output_type": "stream",
          "text": [
            "[master (root-commit) 6f9a713] VersiÃ³n inicial del proyecto\n",
            " 2 files changed, 2 insertions(+)\n",
            " create mode 100644 conclusion.txt\n",
            " create mode 100644 resumen.txt\n"
          ],
          "name": "stdout"
        }
      ]
    },
    {
      "cell_type": "code",
      "metadata": {
        "id": "loQUUtMG5Go6",
        "outputId": "ad3cb92e-e4f4-419d-9211-3789f161b819"
      },
      "source": [
        "!git status"
      ],
      "id": "loQUUtMG5Go6",
      "execution_count": null,
      "outputs": [
        {
          "output_type": "stream",
          "text": [
            "On branch master\n",
            "nothing to commit, working tree clean\n"
          ],
          "name": "stdout"
        }
      ]
    },
    {
      "cell_type": "markdown",
      "metadata": {
        "id": "Yb3NT9Nh5Go6"
      },
      "source": [
        "## Modificando y preparando (`stage`) archivo \n",
        "Pg. 26"
      ],
      "id": "Yb3NT9Nh5Go6"
    },
    {
      "cell_type": "code",
      "metadata": {
        "id": "VXhYdnML5Go6"
      },
      "source": [
        "!echo \"... en este aspecto mejoró 3% respecto ...\" >> conclusion.txt"
      ],
      "id": "VXhYdnML5Go6",
      "execution_count": null,
      "outputs": []
    },
    {
      "cell_type": "code",
      "metadata": {
        "id": "YIVjZtDc5Go6",
        "outputId": "36ac74f6-b641-474d-8575-206d45fd2f0e"
      },
      "source": [
        "!type conclusion.txt"
      ],
      "id": "YIVjZtDc5Go6",
      "execution_count": null,
      "outputs": [
        {
          "output_type": "stream",
          "text": [
            "\"Finalmente podemos concluir que ...\" \n",
            "\"... en este aspecto mejor¢ 3% respecto ...\" \n"
          ],
          "name": "stdout"
        }
      ]
    },
    {
      "cell_type": "code",
      "metadata": {
        "id": "-sAtfMJb5Go7",
        "outputId": "08c86f3c-5e40-4836-c4f7-22c300f3bb13"
      },
      "source": [
        "!git status"
      ],
      "id": "-sAtfMJb5Go7",
      "execution_count": null,
      "outputs": [
        {
          "output_type": "stream",
          "text": [
            "On branch master\n",
            "Changes not staged for commit:\n",
            "  (use \"git add <file>...\" to update what will be committed)\n",
            "  (use \"git restore <file>...\" to discard changes in working directory)\n",
            "\tmodified:   conclusion.txt\n",
            "\n",
            "no changes added to commit (use \"git add\" and/or \"git commit -a\")\n"
          ],
          "name": "stdout"
        }
      ]
    },
    {
      "cell_type": "markdown",
      "metadata": {
        "id": "G-N7JDyo5Go7"
      },
      "source": [
        "![image.png](attachment:image.png)"
      ],
      "id": "G-N7JDyo5Go7"
    },
    {
      "cell_type": "code",
      "metadata": {
        "id": "7FMKkajG5Go7"
      },
      "source": [
        "!echo \"... mejores resultados que los reportados.\" >> resumen.txt"
      ],
      "id": "7FMKkajG5Go7",
      "execution_count": null,
      "outputs": []
    },
    {
      "cell_type": "code",
      "metadata": {
        "id": "eaiCEUqI5Go7",
        "outputId": "35e21e05-dc4a-494a-8c3f-220f4893f182"
      },
      "source": [
        "!type resumen.txt"
      ],
      "id": "eaiCEUqI5Go7",
      "execution_count": null,
      "outputs": [
        {
          "output_type": "stream",
          "text": [
            "\"En este documento se presenta ...\" \n",
            "\"... mejores resultados que los reportados.\" \n"
          ],
          "name": "stdout"
        }
      ]
    },
    {
      "cell_type": "code",
      "metadata": {
        "id": "0cv4Sfwt5Go7",
        "outputId": "df5f8718-8c6c-410d-be42-7667a40ccd5c"
      },
      "source": [
        "!git status"
      ],
      "id": "0cv4Sfwt5Go7",
      "execution_count": null,
      "outputs": [
        {
          "output_type": "stream",
          "text": [
            "On branch master\n",
            "Changes not staged for commit:\n",
            "  (use \"git add <file>...\" to update what will be committed)\n",
            "  (use \"git restore <file>...\" to discard changes in working directory)\n",
            "\tmodified:   conclusion.txt\n",
            "\tmodified:   resumen.txt\n",
            "\n",
            "no changes added to commit (use \"git add\" and/or \"git commit -a\")\n"
          ],
          "name": "stdout"
        }
      ]
    },
    {
      "cell_type": "code",
      "metadata": {
        "id": "frdgDOqB5Go8"
      },
      "source": [
        "!echo \"Desde los inicios de ...\" >> introduccion.txt"
      ],
      "id": "frdgDOqB5Go8",
      "execution_count": null,
      "outputs": []
    },
    {
      "cell_type": "code",
      "metadata": {
        "id": "ZbZoA-wB5Go8",
        "outputId": "19d63539-0b10-45cc-ea6c-08dd747bf84e"
      },
      "source": [
        "!git status"
      ],
      "id": "ZbZoA-wB5Go8",
      "execution_count": null,
      "outputs": [
        {
          "output_type": "stream",
          "text": [
            "On branch master\n",
            "Changes not staged for commit:\n",
            "  (use \"git add <file>...\" to update what will be committed)\n",
            "  (use \"git restore <file>...\" to discard changes in working directory)\n",
            "\tmodified:   conclusion.txt\n",
            "\tmodified:   resumen.txt\n",
            "\n",
            "Untracked files:\n",
            "  (use \"git add <file>...\" to include in what will be committed)\n",
            "\tintroduccion.txt\n",
            "\n",
            "no changes added to commit (use \"git add\" and/or \"git commit -a\")\n"
          ],
          "name": "stdout"
        }
      ]
    },
    {
      "cell_type": "code",
      "metadata": {
        "id": "bkDDU7mO5Go8"
      },
      "source": [
        "!echo \"... se presentará en las conclusiones.\" >> introduccion.txt"
      ],
      "id": "bkDDU7mO5Go8",
      "execution_count": null,
      "outputs": []
    },
    {
      "cell_type": "code",
      "metadata": {
        "id": "_kfByseK5Go9",
        "outputId": "37f472b6-c18d-4b22-a7b1-82599e1905b0"
      },
      "source": [
        "!git status"
      ],
      "id": "_kfByseK5Go9",
      "execution_count": null,
      "outputs": [
        {
          "output_type": "stream",
          "text": [
            "On branch master\n",
            "Changes not staged for commit:\n",
            "  (use \"git add <file>...\" to update what will be committed)\n",
            "  (use \"git restore <file>...\" to discard changes in working directory)\n",
            "\tmodified:   conclusion.txt\n",
            "\tmodified:   resumen.txt\n",
            "\n",
            "Untracked files:\n",
            "  (use \"git add <file>...\" to include in what will be committed)\n",
            "\tintroduccion.txt\n",
            "\n",
            "no changes added to commit (use \"git add\" and/or \"git commit -a\")\n"
          ],
          "name": "stdout"
        }
      ]
    },
    {
      "cell_type": "markdown",
      "metadata": {
        "id": "-8pMd5RP5Go9"
      },
      "source": [
        "![image-3.png](attachment:image-3.png)"
      ],
      "id": "-8pMd5RP5Go9"
    },
    {
      "cell_type": "code",
      "metadata": {
        "id": "kgZ_zbJJ5Go9"
      },
      "source": [
        "!git add conclusion.txt"
      ],
      "id": "kgZ_zbJJ5Go9",
      "execution_count": null,
      "outputs": []
    },
    {
      "cell_type": "code",
      "metadata": {
        "id": "5YvCwo-_5Go9",
        "outputId": "6bf903ce-261c-4c54-ae66-e8a4968af597"
      },
      "source": [
        "!git status"
      ],
      "id": "5YvCwo-_5Go9",
      "execution_count": null,
      "outputs": [
        {
          "output_type": "stream",
          "text": [
            "On branch master\n",
            "Changes to be committed:\n",
            "  (use \"git restore --staged <file>...\" to unstage)\n",
            "\tmodified:   conclusion.txt\n",
            "\n",
            "Changes not staged for commit:\n",
            "  (use \"git add <file>...\" to update what will be committed)\n",
            "  (use \"git restore <file>...\" to discard changes in working directory)\n",
            "\tmodified:   resumen.txt\n",
            "\n",
            "Untracked files:\n",
            "  (use \"git add <file>...\" to include in what will be committed)\n",
            "\tintroduccion.txt\n",
            "\n"
          ],
          "name": "stdout"
        }
      ]
    },
    {
      "cell_type": "code",
      "metadata": {
        "id": "KJCIn54P5Go-"
      },
      "source": [
        "!echo \"... superando en tres de los cinco ...\" >> conclusion.txt"
      ],
      "id": "KJCIn54P5Go-",
      "execution_count": null,
      "outputs": []
    },
    {
      "cell_type": "code",
      "metadata": {
        "id": "Ys3LJ-9E5Go-"
      },
      "source": [
        "!type conclusion.txt"
      ],
      "id": "Ys3LJ-9E5Go-",
      "execution_count": null,
      "outputs": []
    },
    {
      "cell_type": "code",
      "metadata": {
        "id": "U9GA7hcL5Go-"
      },
      "source": [
        "!git status"
      ],
      "id": "U9GA7hcL5Go-",
      "execution_count": null,
      "outputs": []
    },
    {
      "cell_type": "code",
      "metadata": {
        "id": "z1qNCOfD5Go-"
      },
      "source": [
        "!git status -s\n",
        "# ??  No rastreado (Untracked)\n",
        "# A  Preparado (Staged)\n",
        "# M  Modificado (Modified)\n",
        "    # Columna izquierda es el estado preparado\n",
        "    # Columna derecha es el estado sin preparar"
      ],
      "id": "z1qNCOfD5Go-",
      "execution_count": null,
      "outputs": []
    },
    {
      "cell_type": "code",
      "metadata": {
        "id": "EICEpfXJ5Go-"
      },
      "source": [
        "!git add introduccion.txt"
      ],
      "id": "EICEpfXJ5Go-",
      "execution_count": null,
      "outputs": []
    },
    {
      "cell_type": "code",
      "metadata": {
        "id": "6bhNlglr5Go_"
      },
      "source": [
        "!git status -s"
      ],
      "id": "6bhNlglr5Go_",
      "execution_count": null,
      "outputs": []
    },
    {
      "cell_type": "code",
      "metadata": {
        "id": "wn2ftfyQ5Go_"
      },
      "source": [
        "!git add conclusion.txt"
      ],
      "id": "wn2ftfyQ5Go_",
      "execution_count": null,
      "outputs": []
    },
    {
      "cell_type": "code",
      "metadata": {
        "id": "HrYO2tNn5Go_"
      },
      "source": [
        "!git status -s"
      ],
      "id": "HrYO2tNn5Go_",
      "execution_count": null,
      "outputs": []
    },
    {
      "cell_type": "code",
      "metadata": {
        "id": "KorMKKN15Go_"
      },
      "source": [
        "!git add resumen.txt"
      ],
      "id": "KorMKKN15Go_",
      "execution_count": null,
      "outputs": []
    },
    {
      "cell_type": "code",
      "metadata": {
        "id": "Zct0fkbc5Go_"
      },
      "source": [
        "!git status -s"
      ],
      "id": "Zct0fkbc5Go_",
      "execution_count": null,
      "outputs": []
    },
    {
      "cell_type": "code",
      "metadata": {
        "id": "1dBpExez5Go_"
      },
      "source": [
        "!git commit -m \"Se actualizó la conclusión y el resumen con los resultados y se comenzó la introduccón\""
      ],
      "id": "1dBpExez5Go_",
      "execution_count": null,
      "outputs": []
    },
    {
      "cell_type": "code",
      "metadata": {
        "id": "i8uJB_uf5GpA"
      },
      "source": [
        "!git status -s"
      ],
      "id": "i8uJB_uf5GpA",
      "execution_count": null,
      "outputs": []
    },
    {
      "cell_type": "markdown",
      "metadata": {
        "id": "qWTqzXCM5GpA"
      },
      "source": [
        "### Guardando cambios en el Repositorio\n",
        "Pg. 24"
      ],
      "id": "qWTqzXCM5GpA"
    },
    {
      "cell_type": "markdown",
      "metadata": {
        "id": "VsCqF5w35GpA"
      },
      "source": [
        "![image.png](attachment:image.png)"
      ],
      "id": "VsCqF5w35GpA"
    },
    {
      "cell_type": "code",
      "metadata": {
        "id": "g0HbtJFf5GpA"
      },
      "source": [
        "!git status"
      ],
      "id": "g0HbtJFf5GpA",
      "execution_count": null,
      "outputs": []
    },
    {
      "cell_type": "markdown",
      "metadata": {
        "id": "rSB8iEO75GpA"
      },
      "source": [
        "## Ver el Historial de Confirmaciones\n",
        "Pg. 37"
      ],
      "id": "rSB8iEO75GpA"
    },
    {
      "cell_type": "code",
      "metadata": {
        "id": "JQOsArea5GpA"
      },
      "source": [
        "!git log"
      ],
      "id": "JQOsArea5GpA",
      "execution_count": null,
      "outputs": []
    },
    {
      "cell_type": "markdown",
      "metadata": {
        "id": "cMCBn04Y5GpB"
      },
      "source": [
        "### Ignorar archivos\n",
        "Pg. 29\n",
        "\n",
        "En el archivo  `.gitignore` se colocan los archivos a ignorar\n",
        " "
      ],
      "id": "cMCBn04Y5GpB"
    },
    {
      "cell_type": "markdown",
      "metadata": {
        "id": "CX7FYg4t5GpB"
      },
      "source": [
        "### Ver los Cambios Preparados y No Preparados \n",
        "Pg. 30\n",
        "\n",
        "`git diff --staged`"
      ],
      "id": "CX7FYg4t5GpB"
    },
    {
      "cell_type": "markdown",
      "metadata": {
        "id": "tEqS8lEe5GpB"
      },
      "source": [
        "### Confirmar tus Cambios \n",
        "Pg. 33\n",
        "\n",
        "`git commit`\n",
        "\n",
        "![image.png](attachment:image.png)"
      ],
      "id": "tEqS8lEe5GpB"
    },
    {
      "cell_type": "markdown",
      "metadata": {
        "id": "ZPbXQSp-5GpC"
      },
      "source": [
        "### Saltar el Área de Preparación \n",
        "Pg. 34\n",
        "\n",
        "`git commit -a -m \"added new benchmarks\"`\n",
        "\n",
        "![image.png](attachment:image.png)"
      ],
      "id": "ZPbXQSp-5GpC"
    },
    {
      "cell_type": "markdown",
      "metadata": {
        "id": "HjSQJ-re5GpC"
      },
      "source": [
        "### Eliminar Archivos \n",
        "Pg. 35\n",
        "\n",
        "`git rm un_archivo`\n",
        "\n",
        "![image.png](attachment:image.png)"
      ],
      "id": "HjSQJ-re5GpC"
    },
    {
      "cell_type": "markdown",
      "metadata": {
        "id": "pOt6LpJg5GpD"
      },
      "source": [
        "### Cambiar el Nombre de los Archivos \n",
        "Pg. 36\n",
        "\n",
        "`git mv file_from file_to`"
      ],
      "id": "pOt6LpJg5GpD"
    },
    {
      "cell_type": "markdown",
      "metadata": {
        "id": "VMraxyUk5GpD"
      },
      "source": [
        "## Ver el Historial de Confirmaciones\n",
        "Pg. 37"
      ],
      "id": "VMraxyUk5GpD"
    },
    {
      "cell_type": "code",
      "metadata": {
        "id": "mHOpKyQ75GpD",
        "outputId": "6cf5fef1-34a8-4df7-d91b-0e2bd9fce2ef"
      },
      "source": [
        "!git clone https://github.com/schacon/simplegit-progit"
      ],
      "id": "mHOpKyQ75GpD",
      "execution_count": null,
      "outputs": [
        {
          "output_type": "stream",
          "text": [
            "Cloning into 'simplegit-progit'...\n"
          ],
          "name": "stderr"
        }
      ]
    },
    {
      "cell_type": "code",
      "metadata": {
        "id": "cjGPRcY35GpE",
        "outputId": "6a56445c-fd54-426b-c320-da8251f09b0a"
      },
      "source": [
        "!dir"
      ],
      "id": "cjGPRcY35GpE",
      "execution_count": null,
      "outputs": [
        {
          "output_type": "stream",
          "text": [
            " El volumen de la unidad C no tiene etiqueta.\n",
            " El n£mero de serie del volumen es: 74C5-79FB\n",
            "\n",
            " Directorio de C:\\cursos\\Git_01_ver008\n",
            "\n",
            "10/03/2021  12:28 p.m.    <DIR>          .\n",
            "10/03/2021  12:28 p.m.    <DIR>          ..\n",
            "09/03/2021  11:59 p.m.    <DIR>          .ipynb_checkpoints\n",
            "10/03/2021  12:27 p.m.           626.001 Git.ipynb\n",
            "10/03/2021  12:06 a.m.    <DIR>          imagenes\n",
            "10/03/2021  12:05 a.m.                44 saludo.txt\n",
            "10/03/2021  12:28 p.m.    <DIR>          simplegit-progit\n",
            "               2 archivos        626.045 bytes\n",
            "               5 dirs  27.968.950.272 bytes libres\n"
          ],
          "name": "stdout"
        }
      ]
    },
    {
      "cell_type": "code",
      "metadata": {
        "id": "3rqVDOMD5GpE",
        "outputId": "7f7d01bd-d0b2-4e8e-9ed0-d28548d6245f"
      },
      "source": [
        "!git log"
      ],
      "id": "3rqVDOMD5GpE",
      "execution_count": null,
      "outputs": [
        {
          "output_type": "stream",
          "text": [
            "fatal: not a git repository (or any of the parent directories): .git\n"
          ],
          "name": "stderr"
        }
      ]
    },
    {
      "cell_type": "code",
      "metadata": {
        "id": "8ZDQnJ2v5GpE",
        "outputId": "bec6eb68-edc1-4366-8bde-7ac375d1a2b2"
      },
      "source": [
        "%cd simplegit-progit"
      ],
      "id": "8ZDQnJ2v5GpE",
      "execution_count": null,
      "outputs": [
        {
          "output_type": "stream",
          "text": [
            "C:\\cursos\\Git_01_ver008\\simplegit-progit\n"
          ],
          "name": "stdout"
        }
      ]
    },
    {
      "cell_type": "code",
      "metadata": {
        "id": "Y8qGr2Jc5GpE",
        "outputId": "6bc319cb-fa6f-4e08-db08-056e15c995ce"
      },
      "source": [
        "!dir"
      ],
      "id": "Y8qGr2Jc5GpE",
      "execution_count": null,
      "outputs": [
        {
          "output_type": "stream",
          "text": [
            " El volumen de la unidad C no tiene etiqueta.\n",
            " El n£mero de serie del volumen es: 74C5-79FB\n",
            "\n",
            " Directorio de C:\\cursos\\Git_01_ver008\\simplegit-progit\n",
            "\n",
            "10/03/2021  12:28 p.m.    <DIR>          .\n",
            "10/03/2021  12:28 p.m.    <DIR>          ..\n",
            "10/03/2021  12:28 p.m.    <DIR>          lib\n",
            "10/03/2021  12:28 p.m.               615 Rakefile\n",
            "10/03/2021  12:28 p.m.               130 README\n",
            "               2 archivos            745 bytes\n",
            "               3 dirs  27.968.356.352 bytes libres\n"
          ],
          "name": "stdout"
        }
      ]
    },
    {
      "cell_type": "code",
      "metadata": {
        "id": "snZDZELT5GpF",
        "outputId": "1223f918-b96c-4d92-afa9-648f7ab6f5c2"
      },
      "source": [
        "!dir lib"
      ],
      "id": "snZDZELT5GpF",
      "execution_count": null,
      "outputs": [
        {
          "output_type": "stream",
          "text": [
            " El volumen de la unidad C no tiene etiqueta.\n",
            " El n£mero de serie del volumen es: 74C5-79FB\n",
            "\n",
            " Directorio de C:\\cursos\\Git_01_ver008\\simplegit-progit\\lib\n",
            "\n",
            "10/03/2021  12:28 p.m.    <DIR>          .\n",
            "10/03/2021  12:28 p.m.    <DIR>          ..\n",
            "10/03/2021  12:28 p.m.               375 simplegit.rb\n",
            "               1 archivos            375 bytes\n",
            "               2 dirs  27.968.045.056 bytes libres\n"
          ],
          "name": "stdout"
        }
      ]
    },
    {
      "cell_type": "code",
      "metadata": {
        "id": "YbmAyWKr5GpF",
        "outputId": "e2678ed5-da71-40be-d058-99c99539d034"
      },
      "source": [
        "!git log"
      ],
      "id": "YbmAyWKr5GpF",
      "execution_count": null,
      "outputs": [
        {
          "output_type": "stream",
          "text": [
            "commit ca82a6dff817ec66f44342007202690a93763949\n",
            "Author: Scott Chacon <schacon@gmail.com>\n",
            "Date:   Mon Mar 17 21:52:11 2008 -0700\n",
            "\n",
            "    changed the verison number\n",
            "\n",
            "commit 085bb3bcb608e1e8451d4b2432f8ecbe6306e7e7\n",
            "Author: Scott Chacon <schacon@gmail.com>\n",
            "Date:   Sat Mar 15 16:40:33 2008 -0700\n",
            "\n",
            "    removed unnecessary test code\n",
            "\n",
            "commit a11bef06a3f659402fe7563abf99ad00de2209e6\n",
            "Author: Scott Chacon <schacon@gmail.com>\n",
            "Date:   Sat Mar 15 10:31:28 2008 -0700\n",
            "\n",
            "    first commit\n"
          ],
          "name": "stdout"
        }
      ]
    },
    {
      "cell_type": "code",
      "metadata": {
        "id": "8kIkPz2Y5GpF",
        "outputId": "a1366177-e699-4573-f22d-0ee22b19fbaf"
      },
      "source": [
        "!git log -p -2"
      ],
      "id": "8kIkPz2Y5GpF",
      "execution_count": null,
      "outputs": [
        {
          "output_type": "stream",
          "text": [
            "commit ca82a6dff817ec66f44342007202690a93763949\n",
            "Author: Scott Chacon <schacon@gmail.com>\n",
            "Date:   Mon Mar 17 21:52:11 2008 -0700\n",
            "\n",
            "    changed the verison number\n",
            "\n",
            "diff --git a/Rakefile b/Rakefile\n",
            "index a874b73..8f94139 100644\n",
            "--- a/Rakefile\n",
            "+++ b/Rakefile\n",
            "@@ -5,7 +5,7 @@ require 'rake/gempackagetask'\n",
            " spec = Gem::Specification.new do |s|\n",
            "     s.platform  =   Gem::Platform::RUBY\n",
            "     s.name      =   \"simplegit\"\n",
            "-    s.version   =   \"0.1.0\"\n",
            "+    s.version   =   \"0.1.1\"\n",
            "     s.author    =   \"Scott Chacon\"\n",
            "     s.email     =   \"schacon@gmail.com\"\n",
            "     s.summary   =   \"A simple gem for using Git in Ruby code.\"\n",
            "\n",
            "commit 085bb3bcb608e1e8451d4b2432f8ecbe6306e7e7\n",
            "Author: Scott Chacon <schacon@gmail.com>\n",
            "Date:   Sat Mar 15 16:40:33 2008 -0700\n",
            "\n",
            "    removed unnecessary test code\n",
            "\n",
            "diff --git a/lib/simplegit.rb b/lib/simplegit.rb\n",
            "index a0a60ae..47c6340 100644\n",
            "--- a/lib/simplegit.rb\n",
            "+++ b/lib/simplegit.rb\n",
            "@@ -18,8 +18,3 @@ class SimpleGit\n",
            "     end\n",
            "   \n",
            " end\n",
            "-\n",
            "-if $0 == __FILE__\n",
            "-  git = SimpleGit.new\n",
            "-  puts git.show\n",
            "-end\n",
            "\\ No newline at end of file\n"
          ],
          "name": "stdout"
        }
      ]
    },
    {
      "cell_type": "markdown",
      "metadata": {
        "id": "c9cUiwyp5GpF"
      },
      "source": [
        "## Trabajar con remotos\n"
      ],
      "id": "c9cUiwyp5GpF"
    },
    {
      "cell_type": "markdown",
      "metadata": {
        "id": "dGEYogoP5GpF"
      },
      "source": [
        ""
      ],
      "id": "dGEYogoP5GpF"
    },
    {
      "cell_type": "markdown",
      "metadata": {
        "id": "6daallbs5GpJ"
      },
      "source": [
        ""
      ],
      "id": "6daallbs5GpJ"
    },
    {
      "cell_type": "markdown",
      "metadata": {
        "id": "LT8UZFPw5GpJ"
      },
      "source": [
        ""
      ],
      "id": "LT8UZFPw5GpJ"
    },
    {
      "cell_type": "markdown",
      "metadata": {
        "id": "RDuLygHn5GpK"
      },
      "source": [
        ""
      ],
      "id": "RDuLygHn5GpK"
    },
    {
      "cell_type": "markdown",
      "metadata": {
        "id": "QMO-Y8PW5GpK"
      },
      "source": [
        ""
      ],
      "id": "QMO-Y8PW5GpK"
    },
    {
      "cell_type": "markdown",
      "metadata": {
        "id": "buoU7JCG5GpK"
      },
      "source": [
        ""
      ],
      "id": "buoU7JCG5GpK"
    },
    {
      "cell_type": "markdown",
      "metadata": {
        "id": "RAz_1Axk5GpK"
      },
      "source": [
        ""
      ],
      "id": "RAz_1Axk5GpK"
    },
    {
      "cell_type": "markdown",
      "metadata": {
        "id": "lZF-1dcn5GpK"
      },
      "source": [
        ""
      ],
      "id": "lZF-1dcn5GpK"
    },
    {
      "cell_type": "markdown",
      "metadata": {
        "id": "s3IjAnBy5GpK"
      },
      "source": [
        ""
      ],
      "id": "s3IjAnBy5GpK"
    },
    {
      "cell_type": "markdown",
      "metadata": {
        "id": "VO4_GpuY5GpL"
      },
      "source": [
        ""
      ],
      "id": "VO4_GpuY5GpL"
    },
    {
      "cell_type": "markdown",
      "metadata": {
        "id": "IxfQbwjD5GpL"
      },
      "source": [
        ""
      ],
      "id": "IxfQbwjD5GpL"
    },
    {
      "cell_type": "markdown",
      "metadata": {
        "id": "-vWLrXui5GpL"
      },
      "source": [
        ""
      ],
      "id": "-vWLrXui5GpL"
    },
    {
      "cell_type": "markdown",
      "metadata": {
        "id": "YKvDinVb5GpL"
      },
      "source": [
        ""
      ],
      "id": "YKvDinVb5GpL"
    },
    {
      "cell_type": "markdown",
      "metadata": {
        "id": "xJ4O95aW5GpL"
      },
      "source": [
        ""
      ],
      "id": "xJ4O95aW5GpL"
    },
    {
      "cell_type": "markdown",
      "metadata": {
        "id": "9i_y0wCy5GpL"
      },
      "source": [
        ""
      ],
      "id": "9i_y0wCy5GpL"
    },
    {
      "cell_type": "markdown",
      "metadata": {
        "id": "dgp7hG5X5GpL"
      },
      "source": [
        ""
      ],
      "id": "dgp7hG5X5GpL"
    },
    {
      "cell_type": "markdown",
      "metadata": {
        "id": "KXqvB-Vq5GpM"
      },
      "source": [
        ""
      ],
      "id": "KXqvB-Vq5GpM"
    },
    {
      "cell_type": "code",
      "metadata": {
        "id": "Wg_cuRaR5GpM"
      },
      "source": [
        ""
      ],
      "id": "Wg_cuRaR5GpM",
      "execution_count": null,
      "outputs": []
    },
    {
      "cell_type": "code",
      "metadata": {
        "id": "H4xyVUHr5GpM"
      },
      "source": [
        ""
      ],
      "id": "H4xyVUHr5GpM",
      "execution_count": null,
      "outputs": []
    },
    {
      "cell_type": "code",
      "metadata": {
        "id": "3msdQRML5GpM"
      },
      "source": [
        ""
      ],
      "id": "3msdQRML5GpM",
      "execution_count": null,
      "outputs": []
    },
    {
      "cell_type": "code",
      "metadata": {
        "id": "E4_MzFhv5GpM"
      },
      "source": [
        ""
      ],
      "id": "E4_MzFhv5GpM",
      "execution_count": null,
      "outputs": []
    },
    {
      "cell_type": "code",
      "metadata": {
        "id": "bp36bMWu5GpN"
      },
      "source": [
        ""
      ],
      "id": "bp36bMWu5GpN",
      "execution_count": null,
      "outputs": []
    },
    {
      "cell_type": "code",
      "metadata": {
        "id": "qzCBkHW75GpN"
      },
      "source": [
        ""
      ],
      "id": "qzCBkHW75GpN",
      "execution_count": null,
      "outputs": []
    },
    {
      "cell_type": "code",
      "metadata": {
        "id": "GkRr3g3m0UPa"
      },
      "source": [
        ""
      ],
      "id": "GkRr3g3m0UPa",
      "execution_count": null,
      "outputs": []
    },
    {
      "cell_type": "code",
      "metadata": {
        "id": "Xo3N6M2S0UJZ"
      },
      "source": [
        ""
      ],
      "id": "Xo3N6M2S0UJZ",
      "execution_count": null,
      "outputs": []
    }
  ]
}