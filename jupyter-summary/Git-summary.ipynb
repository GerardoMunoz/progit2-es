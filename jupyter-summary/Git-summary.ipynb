{
  "nbformat": 4,
  "nbformat_minor": 5,
  "metadata": {
    "kernelspec": {
      "display_name": "Python 3",
      "language": "python",
      "name": "python3"
    },
    "language_info": {
      "codemirror_mode": {
        "name": "ipython",
        "version": 3
      },
      "file_extension": ".py",
      "mimetype": "text/x-python",
      "name": "python",
      "nbconvert_exporter": "python",
      "pygments_lexer": "ipython3",
      "version": "3.9.2"
    },
    "colab": {
      "name": "Git-summary.ipynb",
      "provenance": []
    }
  },
  "cells": [
    {
      "cell_type": "markdown",
      "metadata": {
        "id": "municipal-screening"
      },
      "source": [
        "# Git \n",
        "\n",
        "\n",
        "* Resumen basado en el libro 'Pro Git'\n",
        "* Escrito por 'Scott Chacon' y por  'Ben Straub'\n",
        "* Versión 2.1.22, 2021-02-09\n",
        "* https://git-scm.com/book/es/v2\n",
        "\n",
        "# Acerca del Control de Versiones\n",
        "(Pg. 9)\n",
        "Un control de versiones es un\n",
        "sistema que registra los cambios realizados en un archivo o conjunto de archivos a lo largo del\n",
        "tiempo, de modo que puedas recuperar versiones específicas más adelante. \n",
        "\n",
        "# Fundamentos de Git\n",
        "\n",
        "## Los Tres Estados\n",
        "\n",
        "(pg 16) \n",
        "Git tiene tres estados principales en los que se pueden encontrar tus archivos: \n",
        "* confirmado (**committed**), significa que los datos están almacenados de manera segura en tu base de datos local\n",
        "* modificado (**modified**), significa que has modificado el archivo, pero todavía no lo has confirmado a tu base de datos.\n",
        "* preparado (**staged**), significa que has marcado un archivo modificado en su versión actual para que vaya en tu próxima confirmación.\n"
      ],
      "id": "municipal-screening"
    },
    {
      "cell_type": "markdown",
      "metadata": {
        "id": "pvUlgFDxD6_l"
      },
      "source": [
        "![Figura 6](https://github.com/GerardoMunoz/progit2-es/raw/fd5562ab1c85dc792491d3d71469bb0ced88165e/jupyter-summary/Fig6_mod.PNG)"
      ],
      "id": "pvUlgFDxD6_l"
    },
    {
      "cell_type": "markdown",
      "metadata": {
        "id": "U2j0liTy5Gow"
      },
      "source": [
        "## Configurando Git por primera vez\n",
        "### Tu Identidad\n",
        "Pg. 20"
      ],
      "id": "U2j0liTy5Gow"
    },
    {
      "cell_type": "code",
      "metadata": {
        "id": "K4AzWIMpNmeO"
      },
      "source": [
        "!git config --list "
      ],
      "id": "K4AzWIMpNmeO",
      "execution_count": 1,
      "outputs": []
    },
    {
      "cell_type": "code",
      "metadata": {
        "id": "477bTP2m5Gow"
      },
      "source": [
        "# no olvide colocar su nombre \n",
        "!git config  --global user.name \"cambiar-por-su-nombre\""
      ],
      "id": "477bTP2m5Gow",
      "execution_count": 2,
      "outputs": []
    },
    {
      "cell_type": "code",
      "metadata": {
        "id": "pL8SXQPv5Gox"
      },
      "source": [
        "# no olvide colocar su email \n",
        "!git config  --global user.email cambiar.por.su.correo@gmail.com"
      ],
      "id": "pL8SXQPv5Gox",
      "execution_count": 3,
      "outputs": []
    },
    {
      "cell_type": "code",
      "metadata": {
        "id": "IroeN9o65Gox",
        "colab": {
          "base_uri": "https://localhost:8080/"
        },
        "outputId": "6660682e-d828-43ec-cdda-4ed841bacb35"
      },
      "source": [
        "!git config --list "
      ],
      "id": "IroeN9o65Gox",
      "execution_count": 4,
      "outputs": [
        {
          "output_type": "stream",
          "text": [
            "user.name=cambiar-por-su-nombre\n",
            "user.email=cambiar.por.su.correo@gmail.com\n"
          ],
          "name": "stdout"
        }
      ]
    },
    {
      "cell_type": "code",
      "metadata": {
        "id": "8gQBTwg35Gox",
        "colab": {
          "base_uri": "https://localhost:8080/"
        },
        "outputId": "6024429a-f0ac-42b4-87e2-624213de0363"
      },
      "source": [
        "!git config user.name"
      ],
      "id": "8gQBTwg35Gox",
      "execution_count": 5,
      "outputs": [
        {
          "output_type": "stream",
          "text": [
            "cambiar-por-su-nombre\n"
          ],
          "name": "stdout"
        }
      ]
    },
    {
      "cell_type": "code",
      "metadata": {
        "id": "vqu_2b7W5Goy",
        "colab": {
          "base_uri": "https://localhost:8080/"
        },
        "outputId": "6d4e214d-55be-4c6d-b14c-7535769cf9db"
      },
      "source": [
        "!git config user.email"
      ],
      "id": "vqu_2b7W5Goy",
      "execution_count": 6,
      "outputs": [
        {
          "output_type": "stream",
          "text": [
            "cambiar.por.su.correo@gmail.com\n"
          ],
          "name": "stdout"
        }
      ]
    },
    {
      "cell_type": "markdown",
      "metadata": {
        "id": "KupjvV3wdJj4"
      },
      "source": [
        "### Tu Editor\n",
        "Pg. 21\n",
        "\n",
        "Git abre automaticamente el editor que este configurado cuando se confirman (`commit`) los cambios. El editor se configura de la siguiete forma\n",
        "\n",
        "`git config --global core.editor ` cambiar_por_su_editor\n",
        "\n",
        "Desde Jupyter es preferible que no abrir ningún editor ya que se puede ejecutar en diferentes entornos. Para evitar abrir un editor al   \n",
        "\n",
        "------------------------------------------------\n",
        "\n",
        "-----------------------------------------------------------\n",
        "\n",
        "Al confirmar los cambios (`commit`) es necesario documentar los cambios realizados. Por tal motivo esta instrucción abre un editor de texto que fue configurado en la instalación. Está acción no es compatible con todas las implementaciones de Jupyter. Por tal motivo en este curso evitaremos en lo posible abrir un editor de texto externo. Para lo cual utilizaremos la instrucción \n",
        "\n",
        "`commit -m \"Aquí escribimos la documentación del cambio\"`\n",
        "\n",
        "que no requiere abrir el editor externo, sino que incluye la documentación en el mismo comando.\n",
        "\n",
        "En todo caso, yo configuré en la instalación el editor VS Code, lo cual se aprecia en la configuración \n",
        "\n",
        "`core.editor=\"C:\\Users\\Azul\\AppData\\Local\\Programs\\Microsoft VS Code\\Code.exe\" --wait`\n",
        "\n",
        "Por defecto está un editor de Linux que requiere comandos de teclado. Es posible cambiar el editor con el comando \n",
        "\n",
        "\n"
      ],
      "id": "KupjvV3wdJj4"
    },
    {
      "cell_type": "code",
      "metadata": {
        "id": "-1WYNempdIZx"
      },
      "source": [
        ""
      ],
      "id": "-1WYNempdIZx",
      "execution_count": null,
      "outputs": []
    }
  ]
}