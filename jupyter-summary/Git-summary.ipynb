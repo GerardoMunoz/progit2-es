{
  "nbformat": 4,
  "nbformat_minor": 5,
  "metadata": {
    "colab": {
      "name": "Git-summary.ipynb",
      "provenance": [],
      "include_colab_link": true
    },
    "kernelspec": {
      "display_name": "Python 3",
      "language": "python",
      "name": "python3"
    },
    "language_info": {
      "codemirror_mode": {
        "name": "ipython",
        "version": 3
      },
      "file_extension": ".py",
      "mimetype": "text/x-python",
      "name": "python",
      "nbconvert_exporter": "python",
      "pygments_lexer": "ipython3",
      "version": "3.9.2"
    }
  },
  "cells": [
    {
      "cell_type": "markdown",
      "metadata": {
        "id": "view-in-github",
        "colab_type": "text"
      },
      "source": [
        "<a href=\"https://colab.research.google.com/github/GerardoMunoz/progit2-es/blob/master/jupyter-summary/Git-summary.ipynb\" target=\"_parent\"><img src=\"https://colab.research.google.com/assets/colab-badge.svg\" alt=\"Open In Colab\"/></a>"
      ]
    },
    {
      "cell_type": "markdown",
      "metadata": {
        "id": "municipal-screening"
      },
      "source": [
        "# Git \n",
        "\n",
        "\n",
        "* Resumen basado en el libro 'Pro Git'\n",
        "* Escrito por 'Scott Chacon' y por  'Ben Straub'\n",
        "* Versión 2.1.22, 2021-02-09\n",
        "* https://git-scm.com/book/es/v2\n",
        "\n",
        "# Acerca del Control de Versiones\n",
        "(Pg. 9)\n",
        "Un control de versiones es un\n",
        "sistema que registra los cambios realizados en un archivo o conjunto de archivos a lo largo del\n",
        "tiempo, de modo que puedas recuperar versiones específicas más adelante. \n",
        "\n",
        "# Fundamentos de Git\n",
        "\n",
        "## Los Tres Estados\n",
        "\n",
        "(pg 16) \n",
        "Git tiene tres estados principales en los que se pueden encontrar tus archivos: \n",
        "* confirmado (**committed**), significa que los datos están almacenados de manera segura en tu base de datos local\n",
        "* modificado (**modified**), significa que has modificado el archivo, pero todavía no lo has confirmado a tu base de datos.\n",
        "* preparado (**staged**), significa que has marcado un archivo modificado en su versión actual para que vaya en tu próxima confirmación.\n"
      ],
      "id": "municipal-screening"
    },
    {
      "cell_type": "markdown",
      "metadata": {
        "id": "pvUlgFDxD6_l"
      },
      "source": [
        "![Figura 6](https://github.com/GerardoMunoz/progit2-es/raw/fd5562ab1c85dc792491d3d71469bb0ced88165e/jupyter-summary/Fig6_mod.PNG)"
      ],
      "id": "pvUlgFDxD6_l"
    },
    {
      "cell_type": "markdown",
      "metadata": {
        "id": "U2j0liTy5Gow"
      },
      "source": [
        "## Configurando Git por primera vez\n",
        "### Tu Identidad\n",
        "Pg. 20"
      ],
      "id": "U2j0liTy5Gow"
    },
    {
      "cell_type": "code",
      "metadata": {
        "id": "K4AzWIMpNmeO"
      },
      "source": [
        "!git config --list "
      ],
      "id": "K4AzWIMpNmeO",
      "execution_count": 1,
      "outputs": []
    },
    {
      "cell_type": "code",
      "metadata": {
        "id": "477bTP2m5Gow"
      },
      "source": [
        "# no olvide colocar su nombre \n",
        "!git config  --global user.name \"cambiar-por-su-nombre\""
      ],
      "id": "477bTP2m5Gow",
      "execution_count": 2,
      "outputs": []
    },
    {
      "cell_type": "code",
      "metadata": {
        "id": "pL8SXQPv5Gox"
      },
      "source": [
        "# no olvide colocar su email \n",
        "!git config  --global user.email cambiar.por.su.correo@gmail.com"
      ],
      "id": "pL8SXQPv5Gox",
      "execution_count": 3,
      "outputs": []
    },
    {
      "cell_type": "code",
      "metadata": {
        "colab": {
          "base_uri": "https://localhost:8080/"
        },
        "id": "IroeN9o65Gox",
        "outputId": "795b54f4-3264-48be-b853-3d6b19a137e0"
      },
      "source": [
        "!git config --list "
      ],
      "id": "IroeN9o65Gox",
      "execution_count": 4,
      "outputs": [
        {
          "output_type": "stream",
          "text": [
            "user.name=cambiar-por-su-nombre\n",
            "user.email=cambiar.por.su.correo@gmail.com\n"
          ],
          "name": "stdout"
        }
      ]
    },
    {
      "cell_type": "code",
      "metadata": {
        "colab": {
          "base_uri": "https://localhost:8080/"
        },
        "id": "8gQBTwg35Gox",
        "outputId": "310de6b7-ddde-4cfa-8a4f-a03a6c334569"
      },
      "source": [
        "!git config user.name"
      ],
      "id": "8gQBTwg35Gox",
      "execution_count": 5,
      "outputs": [
        {
          "output_type": "stream",
          "text": [
            "cambiar-por-su-nombre\n"
          ],
          "name": "stdout"
        }
      ]
    },
    {
      "cell_type": "code",
      "metadata": {
        "colab": {
          "base_uri": "https://localhost:8080/"
        },
        "id": "vqu_2b7W5Goy",
        "outputId": "d8072526-6468-4774-9ad9-2bba80e445ba"
      },
      "source": [
        "!git config user.email"
      ],
      "id": "vqu_2b7W5Goy",
      "execution_count": 6,
      "outputs": [
        {
          "output_type": "stream",
          "text": [
            "cambiar.por.su.correo@gmail.com\n"
          ],
          "name": "stdout"
        }
      ]
    },
    {
      "cell_type": "markdown",
      "metadata": {
        "id": "KupjvV3wdJj4"
      },
      "source": [
        "### Tu Editor\n",
        "Pg. 21\n",
        "\n",
        "Más adelante veremos  que Git abre automaticamente el editor que este configurado cuando se confirman (`commit`) los cambios. El editor se configura de la siguiete forma\n",
        "\n",
        "`git config --global core.editor ` cambiar_por_su_editor\n",
        "\n",
        "Desde Jupyter es preferible no abrir ningún editor ya que Jupyter se puede ejecutar en diferentes entornos. Para evitar abrir un editor al confirmar (`commit`) veremos que se puede usar la opción `-m`   \n",
        "\n",
        "`commit -m \"Aquí escribimos la documentación del cambio\"`\n",
        "\n"
      ],
      "id": "KupjvV3wdJj4"
    },
    {
      "cell_type": "markdown",
      "metadata": {
        "id": "kKCqLTxN5Goy"
      },
      "source": [
        "### ¿Cómo obtener ayuda?\n",
        "Pg. 22"
      ],
      "id": "kKCqLTxN5Goy"
    },
    {
      "cell_type": "code",
      "metadata": {
        "id": "4Gf52rsV5Goy"
      },
      "source": [
        "#!git help"
      ],
      "id": "4Gf52rsV5Goy",
      "execution_count": 7,
      "outputs": []
    },
    {
      "cell_type": "code",
      "metadata": {
        "id": "aZtlgtsm5Goz"
      },
      "source": [
        "#!git help config "
      ],
      "id": "aZtlgtsm5Goz",
      "execution_count": 8,
      "outputs": []
    },
    {
      "cell_type": "code",
      "metadata": {
        "id": "-1WYNempdIZx"
      },
      "source": [
        ""
      ],
      "id": "-1WYNempdIZx",
      "execution_count": 8,
      "outputs": []
    },
    {
      "cell_type": "markdown",
      "metadata": {
        "id": "fGr9igEG5Goz"
      },
      "source": [
        "## Fundamentos de Git\n",
        "Pgs. 24 - 57\n",
        "\n",
        "### Obteniendo un repositorio Git\n",
        "Pg. 23\n",
        "\n",
        "![GitIniClon](https://github.com/GerardoMunoz/progit2-es/raw/master/jupyter-summary/imagenes/Diapositiva1.PNG)"
      ],
      "id": "fGr9igEG5Goz"
    },
    {
      "cell_type": "markdown",
      "metadata": {
        "id": "EujX4K06nvli"
      },
      "source": [
        "Antes de comenzar vamos a listar los archivos en la carpecta actual, utilizando el comando de linux `ls -l` "
      ],
      "id": "EujX4K06nvli"
    },
    {
      "cell_type": "code",
      "metadata": {
        "colab": {
          "base_uri": "https://localhost:8080/"
        },
        "id": "NrAXyIQ7y0Nd",
        "outputId": "6a2165cb-114c-4ab9-f8b2-d1fdc5002d13"
      },
      "source": [
        "!ls -l"
      ],
      "id": "NrAXyIQ7y0Nd",
      "execution_count": 9,
      "outputs": [
        {
          "output_type": "stream",
          "text": [
            "total 4\n",
            "drwxr-xr-x 1 root root 4096 Apr  7 13:36 sample_data\n"
          ],
          "name": "stdout"
        }
      ]
    },
    {
      "cell_type": "markdown",
      "metadata": {
        "id": "A39oxVgVtOqb"
      },
      "source": [
        "La rama principal de GitHub por defecto se llama `main`. Sin embargo, en Git se llama `master`. Para evitar que al clonar se cree larama `master`, es necesario indicarle el nombe de la rama con la opciòn `-b`."
      ],
      "id": "A39oxVgVtOqb"
    },
    {
      "cell_type": "code",
      "metadata": {
        "colab": {
          "base_uri": "https://localhost:8080/"
        },
        "id": "OrwRAi0dyfLM",
        "outputId": "00d5b0c5-0152-402b-db83-3fa92e17d560"
      },
      "source": [
        "!git clone -b main https://github.com/cambiar-por-su-nombre/TrabajosProgramacion"
      ],
      "id": "OrwRAi0dyfLM",
      "execution_count": 10,
      "outputs": [
        {
          "output_type": "stream",
          "text": [
            "Cloning into 'TrabajosProgramacion'...\n",
            "remote: Enumerating objects: 3, done.\u001b[K\n",
            "remote: Counting objects: 100% (3/3), done.\u001b[K\n",
            "remote: Total 3 (delta 0), reused 0 (delta 0), pack-reused 0\u001b[K\n",
            "Unpacking objects: 100% (3/3), done.\n"
          ],
          "name": "stdout"
        }
      ]
    },
    {
      "cell_type": "code",
      "metadata": {
        "colab": {
          "base_uri": "https://localhost:8080/"
        },
        "id": "fClKrK3Py4ak",
        "outputId": "2b8ae609-ad27-4c23-ccf4-d106da8de9f4"
      },
      "source": [
        "!ls -l"
      ],
      "id": "fClKrK3Py4ak",
      "execution_count": 11,
      "outputs": [
        {
          "output_type": "stream",
          "text": [
            "total 8\n",
            "drwxr-xr-x 1 root root 4096 Apr  7 13:36 sample_data\n",
            "drwxr-xr-x 3 root root 4096 Apr 15 03:11 TrabajosProgramacion\n"
          ],
          "name": "stdout"
        }
      ]
    },
    {
      "cell_type": "code",
      "metadata": {
        "colab": {
          "base_uri": "https://localhost:8080/"
        },
        "id": "CS0oGUdBzAo9",
        "outputId": "7f587bd8-91d1-4438-d10e-42f4ae9d4955"
      },
      "source": [
        "%cd TrabajosProgramacion"
      ],
      "id": "CS0oGUdBzAo9",
      "execution_count": 12,
      "outputs": [
        {
          "output_type": "stream",
          "text": [
            "/content/TrabajosProgramacion\n"
          ],
          "name": "stdout"
        }
      ]
    },
    {
      "cell_type": "markdown",
      "metadata": {
        "id": "XBT6mo_y9pUj"
      },
      "source": [
        "## Guardando cambios en el Repositorio\n",
        "Pg. 24\n",
        "\n",
        "### Revisando el Estado de tus Archivos\n",
        "\n"
      ],
      "id": "XBT6mo_y9pUj"
    },
    {
      "cell_type": "code",
      "metadata": {
        "colab": {
          "base_uri": "https://localhost:8080/"
        },
        "id": "7pN2xohOyHv7",
        "outputId": "ec9fcfe0-ee16-4771-ab5d-b8b2f97f15c6"
      },
      "source": [
        "!git status "
      ],
      "id": "7pN2xohOyHv7",
      "execution_count": 13,
      "outputs": [
        {
          "output_type": "stream",
          "text": [
            "On branch main\n",
            "Your branch is up to date with 'origin/main'.\n",
            "\n",
            "nothing to commit, working tree clean\n"
          ],
          "name": "stdout"
        }
      ]
    },
    {
      "cell_type": "code",
      "metadata": {
        "colab": {
          "base_uri": "https://localhost:8080/"
        },
        "id": "dzr1b28e0Ude",
        "outputId": "a18c7743-9c2e-4530-f1a7-174a7d5351c0"
      },
      "source": [
        "!ls -l"
      ],
      "id": "dzr1b28e0Ude",
      "execution_count": 14,
      "outputs": [
        {
          "output_type": "stream",
          "text": [
            "total 4\n",
            "-rw-r--r-- 1 root root 23 Apr 15 03:11 README.md\n"
          ],
          "name": "stdout"
        }
      ]
    },
    {
      "cell_type": "code",
      "metadata": {
        "colab": {
          "base_uri": "https://localhost:8080/"
        },
        "id": "7wSUmoAC0UaG",
        "outputId": "78dd0e91-f29a-4606-d6e5-bf26653937f8"
      },
      "source": [
        "!ls -al"
      ],
      "id": "7wSUmoAC0UaG",
      "execution_count": 15,
      "outputs": [
        {
          "output_type": "stream",
          "text": [
            "total 16\n",
            "drwxr-xr-x 3 root root 4096 Apr 15 03:11 .\n",
            "drwxr-xr-x 1 root root 4096 Apr 15 03:11 ..\n",
            "drwxr-xr-x 8 root root 4096 Apr 15 03:11 .git\n",
            "-rw-r--r-- 1 root root   23 Apr 15 03:11 README.md\n"
          ],
          "name": "stdout"
        }
      ]
    },
    {
      "cell_type": "code",
      "metadata": {
        "colab": {
          "base_uri": "https://localhost:8080/"
        },
        "id": "zjJNVS-r0UWt",
        "outputId": "6e773d1e-0391-405d-93b2-b92fe16f594c"
      },
      "source": [
        "!ls .git -al\n"
      ],
      "id": "zjJNVS-r0UWt",
      "execution_count": 16,
      "outputs": [
        {
          "output_type": "stream",
          "text": [
            "total 52\n",
            "drwxr-xr-x 8 root root 4096 Apr 15 03:11 .\n",
            "drwxr-xr-x 3 root root 4096 Apr 15 03:11 ..\n",
            "drwxr-xr-x 2 root root 4096 Apr 15 03:11 branches\n",
            "-rw-r--r-- 1 root root  282 Apr 15 03:11 config\n",
            "-rw-r--r-- 1 root root   73 Apr 15 03:11 description\n",
            "-rw-r--r-- 1 root root   21 Apr 15 03:11 HEAD\n",
            "drwxr-xr-x 2 root root 4096 Apr 15 03:11 hooks\n",
            "-rw-r--r-- 1 root root  137 Apr 15 03:11 index\n",
            "drwxr-xr-x 2 root root 4096 Apr 15 03:11 info\n",
            "drwxr-xr-x 3 root root 4096 Apr 15 03:11 logs\n",
            "drwxr-xr-x 7 root root 4096 Apr 15 03:11 objects\n",
            "-rw-r--r-- 1 root root  112 Apr 15 03:11 packed-refs\n",
            "drwxr-xr-x 5 root root 4096 Apr 15 03:11 refs\n"
          ],
          "name": "stdout"
        }
      ]
    },
    {
      "cell_type": "markdown",
      "metadata": {
        "id": "laUURKpc_01B"
      },
      "source": [
        "### Rastrear Archivos Nuevos\n",
        "Pg. 26\n",
        "\n",
        "![GitAdd](https://github.com/GerardoMunoz/progit2-es/raw/master/jupyter-summary/imagenes/Diapositiva2.PNG)\n"
      ],
      "id": "laUURKpc_01B"
    },
    {
      "cell_type": "markdown",
      "metadata": {
        "id": "7Q-6F9c6mkUN"
      },
      "source": [
        "### Creando un primer archivo (`concluciones.txt`)\n",
        "\n",
        "Entra las muchísimas opciones que tenemos para crear un archivo, vamos a usar una que tiene Linux para crear archivos de texto. Esta opción consiste en el comando `echo`. "
      ],
      "id": "7Q-6F9c6mkUN"
    },
    {
      "cell_type": "code",
      "metadata": {
        "id": "hHLrtvP-5Go2"
      },
      "source": [
        "# `echo ... > ...` permite crear un archivo \n",
        "!echo \"Finalmente podemos concluir que ...\" > conclusion.txt"
      ],
      "id": "hHLrtvP-5Go2",
      "execution_count": 17,
      "outputs": []
    },
    {
      "cell_type": "code",
      "metadata": {
        "id": "mXrRRpO85Go2",
        "colab": {
          "base_uri": "https://localhost:8080/"
        },
        "outputId": "ba1ea2de-713e-4596-e782-5cf4c04cdae6"
      },
      "source": [
        "!ls -l"
      ],
      "id": "mXrRRpO85Go2",
      "execution_count": 18,
      "outputs": [
        {
          "output_type": "stream",
          "text": [
            "total 8\n",
            "-rw-r--r-- 1 root root 36 Apr 15 03:11 conclusion.txt\n",
            "-rw-r--r-- 1 root root 23 Apr 15 03:11 README.md\n"
          ],
          "name": "stdout"
        }
      ]
    },
    {
      "cell_type": "code",
      "metadata": {
        "id": "qfxf_nbi5Go2",
        "colab": {
          "base_uri": "https://localhost:8080/"
        },
        "outputId": "7fad6156-52ed-4721-f6f2-43443ca4b2b7"
      },
      "source": [
        "# `cat ...` permite crear un archivo \n",
        "!cat conclusion.txt"
      ],
      "id": "qfxf_nbi5Go2",
      "execution_count": 19,
      "outputs": [
        {
          "output_type": "stream",
          "text": [
            "Finalmente podemos concluir que ...\n"
          ],
          "name": "stdout"
        }
      ]
    },
    {
      "cell_type": "code",
      "metadata": {
        "id": "OZ8NOc0G5Go3",
        "colab": {
          "base_uri": "https://localhost:8080/"
        },
        "outputId": "ee60bdcf-974a-4200-e303-014c6eecfe6f"
      },
      "source": [
        "!git status"
      ],
      "id": "OZ8NOc0G5Go3",
      "execution_count": 20,
      "outputs": [
        {
          "output_type": "stream",
          "text": [
            "On branch main\n",
            "Your branch is up to date with 'origin/main'.\n",
            "\n",
            "Untracked files:\n",
            "  (use \"git add <file>...\" to include in what will be committed)\n",
            "\n",
            "\t\u001b[31mconclusion.txt\u001b[m\n",
            "\n",
            "nothing added to commit but untracked files present (use \"git add\" to track)\n"
          ],
          "name": "stdout"
        }
      ]
    },
    {
      "cell_type": "code",
      "metadata": {
        "id": "wxR30VTH5Go4"
      },
      "source": [
        "!git add conclusion.txt"
      ],
      "id": "wxR30VTH5Go4",
      "execution_count": 21,
      "outputs": []
    },
    {
      "cell_type": "code",
      "metadata": {
        "id": "_p3GYWxy5Go4",
        "colab": {
          "base_uri": "https://localhost:8080/"
        },
        "outputId": "f773c3a0-41e0-432a-9e81-18a2158d1910"
      },
      "source": [
        "!git status"
      ],
      "id": "_p3GYWxy5Go4",
      "execution_count": 22,
      "outputs": [
        {
          "output_type": "stream",
          "text": [
            "On branch main\n",
            "Your branch is up to date with 'origin/main'.\n",
            "\n",
            "Changes to be committed:\n",
            "  (use \"git reset HEAD <file>...\" to unstage)\n",
            "\n",
            "\t\u001b[32mnew file:   conclusion.txt\u001b[m\n",
            "\n"
          ],
          "name": "stdout"
        }
      ]
    },
    {
      "cell_type": "markdown",
      "metadata": {
        "id": "pbiwHmDH5Go4"
      },
      "source": [
        "### Creando un segundo archivo (`resumen.txt`)"
      ],
      "id": "pbiwHmDH5Go4"
    },
    {
      "cell_type": "code",
      "metadata": {
        "id": "Y7SHGhDi5Go4"
      },
      "source": [
        "# Se puede copiar un archivo en la carpeta o crearlo desde cualquier progrma\n",
        "!echo \"En este documento se presenta ...\" > resumen.txt"
      ],
      "id": "Y7SHGhDi5Go4",
      "execution_count": 23,
      "outputs": []
    },
    {
      "cell_type": "code",
      "metadata": {
        "id": "iV6l0auz5Go4",
        "colab": {
          "base_uri": "https://localhost:8080/"
        },
        "outputId": "89189e7d-2658-4e97-b71f-d08fdd720070"
      },
      "source": [
        "!git status"
      ],
      "id": "iV6l0auz5Go4",
      "execution_count": 24,
      "outputs": [
        {
          "output_type": "stream",
          "text": [
            "On branch main\n",
            "Your branch is up to date with 'origin/main'.\n",
            "\n",
            "Changes to be committed:\n",
            "  (use \"git reset HEAD <file>...\" to unstage)\n",
            "\n",
            "\t\u001b[32mnew file:   conclusion.txt\u001b[m\n",
            "\n",
            "Untracked files:\n",
            "  (use \"git add <file>...\" to include in what will be committed)\n",
            "\n",
            "\t\u001b[31mresumen.txt\u001b[m\n",
            "\n"
          ],
          "name": "stdout"
        }
      ]
    },
    {
      "cell_type": "code",
      "metadata": {
        "id": "ZRDWCb7C5Go5"
      },
      "source": [
        "!git add resumen.txt"
      ],
      "id": "ZRDWCb7C5Go5",
      "execution_count": 25,
      "outputs": []
    },
    {
      "cell_type": "code",
      "metadata": {
        "id": "lScKRw7x5Go5",
        "colab": {
          "base_uri": "https://localhost:8080/"
        },
        "outputId": "7d536ac1-c197-46f8-a15a-7b871b60cafe"
      },
      "source": [
        "!git status"
      ],
      "id": "lScKRw7x5Go5",
      "execution_count": 26,
      "outputs": [
        {
          "output_type": "stream",
          "text": [
            "On branch main\n",
            "Your branch is up to date with 'origin/main'.\n",
            "\n",
            "Changes to be committed:\n",
            "  (use \"git reset HEAD <file>...\" to unstage)\n",
            "\n",
            "\t\u001b[32mnew file:   conclusion.txt\u001b[m\n",
            "\t\u001b[32mnew file:   resumen.txt\u001b[m\n",
            "\n"
          ],
          "name": "stdout"
        }
      ]
    },
    {
      "cell_type": "markdown",
      "metadata": {
        "id": "M8nCVNSp5Go5"
      },
      "source": [
        "## Confirmando (`commit`)"
      ],
      "id": "M8nCVNSp5Go5"
    },
    {
      "cell_type": "markdown",
      "metadata": {
        "id": "SxPHz4c4xRVu"
      },
      "source": [
        "![GitCommitPush](https://github.com/GerardoMunoz/progit2-es/raw/master/jupyter-summary/imagenes/Diapositiva3.PNG)"
      ],
      "id": "SxPHz4c4xRVu"
    },
    {
      "cell_type": "code",
      "metadata": {
        "id": "sg8pMXlC5Go5",
        "colab": {
          "base_uri": "https://localhost:8080/"
        },
        "outputId": "18015b52-dfc4-4aac-fdd8-b7f05bdcb8e3"
      },
      "source": [
        "!git commit -m \"Versión inicial del proyecto\"\n"
      ],
      "id": "sg8pMXlC5Go5",
      "execution_count": 27,
      "outputs": [
        {
          "output_type": "stream",
          "text": [
            "[main 16941cb] Versión inicial del proyecto\n",
            " 2 files changed, 2 insertions(+)\n",
            " create mode 100644 conclusion.txt\n",
            " create mode 100644 resumen.txt\n"
          ],
          "name": "stdout"
        }
      ]
    },
    {
      "cell_type": "code",
      "metadata": {
        "id": "loQUUtMG5Go6",
        "colab": {
          "base_uri": "https://localhost:8080/"
        },
        "outputId": "309e551d-8a38-4b8f-ff9e-20ee7ca7d6b2"
      },
      "source": [
        "!git status"
      ],
      "id": "loQUUtMG5Go6",
      "execution_count": 28,
      "outputs": [
        {
          "output_type": "stream",
          "text": [
            "On branch main\n",
            "Your branch is ahead of 'origin/main' by 1 commit.\n",
            "  (use \"git push\" to publish your local commits)\n",
            "\n",
            "nothing to commit, working tree clean\n"
          ],
          "name": "stdout"
        }
      ]
    },
    {
      "cell_type": "markdown",
      "metadata": {
        "id": "Yb3NT9Nh5Go6"
      },
      "source": [
        "## Modificando y preparando archivos \n",
        "Pg. 26"
      ],
      "id": "Yb3NT9Nh5Go6"
    },
    {
      "cell_type": "code",
      "metadata": {
        "id": "VXhYdnML5Go6"
      },
      "source": [
        "!echo \"... en este aspecto mejoró 3% respecto ...\" >> conclusion.txt"
      ],
      "id": "VXhYdnML5Go6",
      "execution_count": 29,
      "outputs": []
    },
    {
      "cell_type": "code",
      "metadata": {
        "id": "YIVjZtDc5Go6",
        "colab": {
          "base_uri": "https://localhost:8080/"
        },
        "outputId": "f2ff8a2a-6a69-4641-cfdb-9af391af3587"
      },
      "source": [
        "!type conclusion.txt"
      ],
      "id": "YIVjZtDc5Go6",
      "execution_count": 30,
      "outputs": [
        {
          "output_type": "stream",
          "text": [
            "/bin/bash: line 0: type: conclusion.txt: not found\n"
          ],
          "name": "stdout"
        }
      ]
    },
    {
      "cell_type": "code",
      "metadata": {
        "id": "-sAtfMJb5Go7",
        "colab": {
          "base_uri": "https://localhost:8080/"
        },
        "outputId": "4ba30aec-cf0f-48c0-dbb0-24415750d7ad"
      },
      "source": [
        "!git status"
      ],
      "id": "-sAtfMJb5Go7",
      "execution_count": 31,
      "outputs": [
        {
          "output_type": "stream",
          "text": [
            "On branch main\n",
            "Your branch is ahead of 'origin/main' by 1 commit.\n",
            "  (use \"git push\" to publish your local commits)\n",
            "\n",
            "Changes not staged for commit:\n",
            "  (use \"git add <file>...\" to update what will be committed)\n",
            "  (use \"git checkout -- <file>...\" to discard changes in working directory)\n",
            "\n",
            "\t\u001b[31mmodified:   conclusion.txt\u001b[m\n",
            "\n",
            "no changes added to commit (use \"git add\" and/or \"git commit -a\")\n"
          ],
          "name": "stdout"
        }
      ]
    },
    {
      "cell_type": "code",
      "metadata": {
        "id": "7FMKkajG5Go7"
      },
      "source": [
        "!echo \"... mejores resultados que los reportados.\" >> resumen.txt"
      ],
      "id": "7FMKkajG5Go7",
      "execution_count": 32,
      "outputs": []
    },
    {
      "cell_type": "code",
      "metadata": {
        "id": "eaiCEUqI5Go7",
        "colab": {
          "base_uri": "https://localhost:8080/"
        },
        "outputId": "322fd374-2c3c-4f07-e0b0-f3154ddefbac"
      },
      "source": [
        "!cat resumen.txt"
      ],
      "id": "eaiCEUqI5Go7",
      "execution_count": 33,
      "outputs": [
        {
          "output_type": "stream",
          "text": [
            "En este documento se presenta ...\n",
            "... mejores resultados que los reportados.\n"
          ],
          "name": "stdout"
        }
      ]
    },
    {
      "cell_type": "code",
      "metadata": {
        "id": "0cv4Sfwt5Go7",
        "colab": {
          "base_uri": "https://localhost:8080/"
        },
        "outputId": "fb0d5755-3bbe-418a-fe79-923371a98647"
      },
      "source": [
        "!git status"
      ],
      "id": "0cv4Sfwt5Go7",
      "execution_count": 34,
      "outputs": [
        {
          "output_type": "stream",
          "text": [
            "On branch main\n",
            "Your branch is ahead of 'origin/main' by 1 commit.\n",
            "  (use \"git push\" to publish your local commits)\n",
            "\n",
            "Changes not staged for commit:\n",
            "  (use \"git add <file>...\" to update what will be committed)\n",
            "  (use \"git checkout -- <file>...\" to discard changes in working directory)\n",
            "\n",
            "\t\u001b[31mmodified:   conclusion.txt\u001b[m\n",
            "\t\u001b[31mmodified:   resumen.txt\u001b[m\n",
            "\n",
            "no changes added to commit (use \"git add\" and/or \"git commit -a\")\n"
          ],
          "name": "stdout"
        }
      ]
    },
    {
      "cell_type": "code",
      "metadata": {
        "id": "frdgDOqB5Go8"
      },
      "source": [
        "!echo \"Desde los inicios de ...\" >> introduccion.txt"
      ],
      "id": "frdgDOqB5Go8",
      "execution_count": 35,
      "outputs": []
    },
    {
      "cell_type": "code",
      "metadata": {
        "id": "ZbZoA-wB5Go8",
        "colab": {
          "base_uri": "https://localhost:8080/"
        },
        "outputId": "3bc2a77b-f14b-4021-8c28-80406eeb744e"
      },
      "source": [
        "!git status"
      ],
      "id": "ZbZoA-wB5Go8",
      "execution_count": 36,
      "outputs": [
        {
          "output_type": "stream",
          "text": [
            "On branch main\n",
            "Your branch is ahead of 'origin/main' by 1 commit.\n",
            "  (use \"git push\" to publish your local commits)\n",
            "\n",
            "Changes not staged for commit:\n",
            "  (use \"git add <file>...\" to update what will be committed)\n",
            "  (use \"git checkout -- <file>...\" to discard changes in working directory)\n",
            "\n",
            "\t\u001b[31mmodified:   conclusion.txt\u001b[m\n",
            "\t\u001b[31mmodified:   resumen.txt\u001b[m\n",
            "\n",
            "Untracked files:\n",
            "  (use \"git add <file>...\" to include in what will be committed)\n",
            "\n",
            "\t\u001b[31mintroduccion.txt\u001b[m\n",
            "\n",
            "no changes added to commit (use \"git add\" and/or \"git commit -a\")\n"
          ],
          "name": "stdout"
        }
      ]
    },
    {
      "cell_type": "code",
      "metadata": {
        "id": "bkDDU7mO5Go8"
      },
      "source": [
        "!echo \"... se presentará en las conclusiones.\" >> introduccion.txt"
      ],
      "id": "bkDDU7mO5Go8",
      "execution_count": 37,
      "outputs": []
    },
    {
      "cell_type": "code",
      "metadata": {
        "id": "_kfByseK5Go9",
        "colab": {
          "base_uri": "https://localhost:8080/"
        },
        "outputId": "5a5d1d5d-89bb-4f08-8830-837510647a3f"
      },
      "source": [
        "!git status"
      ],
      "id": "_kfByseK5Go9",
      "execution_count": 38,
      "outputs": [
        {
          "output_type": "stream",
          "text": [
            "On branch main\n",
            "Your branch is ahead of 'origin/main' by 1 commit.\n",
            "  (use \"git push\" to publish your local commits)\n",
            "\n",
            "Changes not staged for commit:\n",
            "  (use \"git add <file>...\" to update what will be committed)\n",
            "  (use \"git checkout -- <file>...\" to discard changes in working directory)\n",
            "\n",
            "\t\u001b[31mmodified:   conclusion.txt\u001b[m\n",
            "\t\u001b[31mmodified:   resumen.txt\u001b[m\n",
            "\n",
            "Untracked files:\n",
            "  (use \"git add <file>...\" to include in what will be committed)\n",
            "\n",
            "\t\u001b[31mintroduccion.txt\u001b[m\n",
            "\n",
            "no changes added to commit (use \"git add\" and/or \"git commit -a\")\n"
          ],
          "name": "stdout"
        }
      ]
    },
    {
      "cell_type": "code",
      "metadata": {
        "id": "kgZ_zbJJ5Go9"
      },
      "source": [
        "!git add conclusion.txt"
      ],
      "id": "kgZ_zbJJ5Go9",
      "execution_count": 39,
      "outputs": []
    },
    {
      "cell_type": "code",
      "metadata": {
        "id": "5YvCwo-_5Go9",
        "colab": {
          "base_uri": "https://localhost:8080/"
        },
        "outputId": "f6e2f51e-89fe-469f-ea68-cc474614af86"
      },
      "source": [
        "!git status"
      ],
      "id": "5YvCwo-_5Go9",
      "execution_count": 40,
      "outputs": [
        {
          "output_type": "stream",
          "text": [
            "On branch main\n",
            "Your branch is ahead of 'origin/main' by 1 commit.\n",
            "  (use \"git push\" to publish your local commits)\n",
            "\n",
            "Changes to be committed:\n",
            "  (use \"git reset HEAD <file>...\" to unstage)\n",
            "\n",
            "\t\u001b[32mmodified:   conclusion.txt\u001b[m\n",
            "\n",
            "Changes not staged for commit:\n",
            "  (use \"git add <file>...\" to update what will be committed)\n",
            "  (use \"git checkout -- <file>...\" to discard changes in working directory)\n",
            "\n",
            "\t\u001b[31mmodified:   resumen.txt\u001b[m\n",
            "\n",
            "Untracked files:\n",
            "  (use \"git add <file>...\" to include in what will be committed)\n",
            "\n",
            "\t\u001b[31mintroduccion.txt\u001b[m\n",
            "\n"
          ],
          "name": "stdout"
        }
      ]
    },
    {
      "cell_type": "code",
      "metadata": {
        "id": "KJCIn54P5Go-"
      },
      "source": [
        "!echo \"... superando en tres de los cinco ...\" >> conclusion.txt"
      ],
      "id": "KJCIn54P5Go-",
      "execution_count": 41,
      "outputs": []
    },
    {
      "cell_type": "code",
      "metadata": {
        "id": "Ys3LJ-9E5Go-",
        "colab": {
          "base_uri": "https://localhost:8080/"
        },
        "outputId": "53a0f0c7-1005-4d24-dfcb-8bbcb994c8ae"
      },
      "source": [
        "!type conclusion.txt"
      ],
      "id": "Ys3LJ-9E5Go-",
      "execution_count": 42,
      "outputs": [
        {
          "output_type": "stream",
          "text": [
            "/bin/bash: line 0: type: conclusion.txt: not found\n"
          ],
          "name": "stdout"
        }
      ]
    },
    {
      "cell_type": "code",
      "metadata": {
        "id": "U9GA7hcL5Go-",
        "colab": {
          "base_uri": "https://localhost:8080/"
        },
        "outputId": "04fd45aa-fec1-4eb6-e9ea-55d5a352c21b"
      },
      "source": [
        "!git status"
      ],
      "id": "U9GA7hcL5Go-",
      "execution_count": 43,
      "outputs": [
        {
          "output_type": "stream",
          "text": [
            "On branch main\n",
            "Your branch is ahead of 'origin/main' by 1 commit.\n",
            "  (use \"git push\" to publish your local commits)\n",
            "\n",
            "Changes to be committed:\n",
            "  (use \"git reset HEAD <file>...\" to unstage)\n",
            "\n",
            "\t\u001b[32mmodified:   conclusion.txt\u001b[m\n",
            "\n",
            "Changes not staged for commit:\n",
            "  (use \"git add <file>...\" to update what will be committed)\n",
            "  (use \"git checkout -- <file>...\" to discard changes in working directory)\n",
            "\n",
            "\t\u001b[31mmodified:   conclusion.txt\u001b[m\n",
            "\t\u001b[31mmodified:   resumen.txt\u001b[m\n",
            "\n",
            "Untracked files:\n",
            "  (use \"git add <file>...\" to include in what will be committed)\n",
            "\n",
            "\t\u001b[31mintroduccion.txt\u001b[m\n",
            "\n"
          ],
          "name": "stdout"
        }
      ]
    },
    {
      "cell_type": "code",
      "metadata": {
        "id": "z1qNCOfD5Go-",
        "colab": {
          "base_uri": "https://localhost:8080/"
        },
        "outputId": "f438df67-2166-4d05-ed5c-ab397ba9787a"
      },
      "source": [
        "!git status -s\n",
        "# ??  No rastreado (Untracked)\n",
        "# A  Preparado (Staged)\n",
        "# M  Modificado (Modified)\n",
        "    # Columna izquierda es el estado preparado\n",
        "    # Columna derecha es el estado sin preparar"
      ],
      "id": "z1qNCOfD5Go-",
      "execution_count": 44,
      "outputs": [
        {
          "output_type": "stream",
          "text": [
            "\u001b[32mM\u001b[m\u001b[31mM\u001b[m conclusion.txt\n",
            " \u001b[31mM\u001b[m resumen.txt\n",
            "\u001b[31m??\u001b[m introduccion.txt\n"
          ],
          "name": "stdout"
        }
      ]
    },
    {
      "cell_type": "code",
      "metadata": {
        "id": "EICEpfXJ5Go-"
      },
      "source": [
        "!git add introduccion.txt"
      ],
      "id": "EICEpfXJ5Go-",
      "execution_count": 45,
      "outputs": []
    },
    {
      "cell_type": "code",
      "metadata": {
        "id": "6bhNlglr5Go_",
        "colab": {
          "base_uri": "https://localhost:8080/"
        },
        "outputId": "7dc7c31f-2e91-4a6f-97b4-211201cd8b78"
      },
      "source": [
        "!git status -s"
      ],
      "id": "6bhNlglr5Go_",
      "execution_count": 46,
      "outputs": [
        {
          "output_type": "stream",
          "text": [
            "\u001b[32mM\u001b[m\u001b[31mM\u001b[m conclusion.txt\n",
            "\u001b[32mA\u001b[m  introduccion.txt\n",
            " \u001b[31mM\u001b[m resumen.txt\n"
          ],
          "name": "stdout"
        }
      ]
    },
    {
      "cell_type": "code",
      "metadata": {
        "id": "wn2ftfyQ5Go_"
      },
      "source": [
        "!git add conclusion.txt"
      ],
      "id": "wn2ftfyQ5Go_",
      "execution_count": 47,
      "outputs": []
    },
    {
      "cell_type": "code",
      "metadata": {
        "id": "HrYO2tNn5Go_",
        "colab": {
          "base_uri": "https://localhost:8080/"
        },
        "outputId": "9432d7e0-b4de-4c98-a939-2b273fe29354"
      },
      "source": [
        "!git status -s"
      ],
      "id": "HrYO2tNn5Go_",
      "execution_count": 48,
      "outputs": [
        {
          "output_type": "stream",
          "text": [
            "\u001b[32mM\u001b[m  conclusion.txt\n",
            "\u001b[32mA\u001b[m  introduccion.txt\n",
            " \u001b[31mM\u001b[m resumen.txt\n"
          ],
          "name": "stdout"
        }
      ]
    },
    {
      "cell_type": "code",
      "metadata": {
        "id": "KorMKKN15Go_"
      },
      "source": [
        "!git add resumen.txt"
      ],
      "id": "KorMKKN15Go_",
      "execution_count": 49,
      "outputs": []
    },
    {
      "cell_type": "code",
      "metadata": {
        "id": "Zct0fkbc5Go_",
        "colab": {
          "base_uri": "https://localhost:8080/"
        },
        "outputId": "d8feb173-482c-4d95-ec12-1e6c24d8e077"
      },
      "source": [
        "!git status -s"
      ],
      "id": "Zct0fkbc5Go_",
      "execution_count": 50,
      "outputs": [
        {
          "output_type": "stream",
          "text": [
            "\u001b[32mM\u001b[m  conclusion.txt\n",
            "\u001b[32mA\u001b[m  introduccion.txt\n",
            "\u001b[32mM\u001b[m  resumen.txt\n"
          ],
          "name": "stdout"
        }
      ]
    },
    {
      "cell_type": "code",
      "metadata": {
        "id": "1dBpExez5Go_",
        "colab": {
          "base_uri": "https://localhost:8080/"
        },
        "outputId": "913ec497-3185-41fb-c185-30a888653067"
      },
      "source": [
        "!git commit -m \"Se actualizó la conclusión y el resumen con los resultados y se comenzó la introduccón\""
      ],
      "id": "1dBpExez5Go_",
      "execution_count": 51,
      "outputs": [
        {
          "output_type": "stream",
          "text": [
            "[main 4ff40d5] Se actualizó la conclusión y el resumen con los resultados y se comenzó la introduccón\n",
            " 3 files changed, 5 insertions(+)\n",
            " create mode 100644 introduccion.txt\n"
          ],
          "name": "stdout"
        }
      ]
    },
    {
      "cell_type": "code",
      "metadata": {
        "id": "i8uJB_uf5GpA"
      },
      "source": [
        "!git status -s"
      ],
      "id": "i8uJB_uf5GpA",
      "execution_count": 52,
      "outputs": []
    },
    {
      "cell_type": "code",
      "metadata": {
        "id": "g0HbtJFf5GpA",
        "colab": {
          "base_uri": "https://localhost:8080/"
        },
        "outputId": "5619b7e5-00b9-4d9a-a16b-e5206636c143"
      },
      "source": [
        "!git status"
      ],
      "id": "g0HbtJFf5GpA",
      "execution_count": 53,
      "outputs": [
        {
          "output_type": "stream",
          "text": [
            "On branch main\n",
            "Your branch is ahead of 'origin/main' by 2 commits.\n",
            "  (use \"git push\" to publish your local commits)\n",
            "\n",
            "nothing to commit, working tree clean\n"
          ],
          "name": "stdout"
        }
      ]
    },
    {
      "cell_type": "markdown",
      "metadata": {
        "id": "cMCBn04Y5GpB"
      },
      "source": [
        "### Ignorar archivos\n",
        "Pg. 29\n",
        "\n",
        "En el archivo  `.gitignore` se colocan los archivos a ignorar\n",
        " "
      ],
      "id": "cMCBn04Y5GpB"
    },
    {
      "cell_type": "markdown",
      "metadata": {
        "id": "CX7FYg4t5GpB"
      },
      "source": [
        "### Ver los Cambios Preparados y No Preparados \n",
        "Pg. 30\n",
        "\n",
        "`git diff --staged`"
      ],
      "id": "CX7FYg4t5GpB"
    },
    {
      "cell_type": "markdown",
      "metadata": {
        "id": "ZPbXQSp-5GpC"
      },
      "source": [
        "### Saltar el Área de Preparación \n",
        "Pg. 34\n",
        "\n",
        "`git commit -a -m \"added new benchmarks\"`\n",
        "\n",
        "![GitCommitPush](https://github.com/GerardoMunoz/progit2-es/raw/master/jupyter-summary/imagenes/Diapositiva3.PNG)"
      ],
      "id": "ZPbXQSp-5GpC"
    },
    {
      "cell_type": "markdown",
      "metadata": {
        "id": "HjSQJ-re5GpC"
      },
      "source": [
        "### Eliminar Archivos \n",
        "Pg. 35\n",
        "\n",
        "`git rm un_archivo`\n",
        "\n"
      ],
      "id": "HjSQJ-re5GpC"
    },
    {
      "cell_type": "markdown",
      "metadata": {
        "id": "pOt6LpJg5GpD"
      },
      "source": [
        "### Cambiar el Nombre de los Archivos \n",
        "Pg. 36\n",
        "\n",
        "`git mv file_from file_to`"
      ],
      "id": "pOt6LpJg5GpD"
    },
    {
      "cell_type": "markdown",
      "metadata": {
        "id": "VMraxyUk5GpD"
      },
      "source": [
        "## Ver el Historial de Confirmaciones\n",
        "Pg. 37"
      ],
      "id": "VMraxyUk5GpD"
    },
    {
      "cell_type": "code",
      "metadata": {
        "id": "cjGPRcY35GpE",
        "colab": {
          "base_uri": "https://localhost:8080/"
        },
        "outputId": "1779b4e8-5366-448f-feda-e0e47856dfc4"
      },
      "source": [
        "!dir"
      ],
      "id": "cjGPRcY35GpE",
      "execution_count": 54,
      "outputs": [
        {
          "output_type": "stream",
          "text": [
            "conclusion.txt\tintroduccion.txt  README.md  resumen.txt\n"
          ],
          "name": "stdout"
        }
      ]
    },
    {
      "cell_type": "code",
      "metadata": {
        "id": "3rqVDOMD5GpE",
        "colab": {
          "base_uri": "https://localhost:8080/"
        },
        "outputId": "aa4502db-9ba0-4db2-fa31-940e10fdb59f"
      },
      "source": [
        "!git log"
      ],
      "id": "3rqVDOMD5GpE",
      "execution_count": 55,
      "outputs": [
        {
          "output_type": "stream",
          "text": [
            "\u001b[33mcommit 4ff40d5cf8d522323ddb4183376c058217a214e0\u001b[m\u001b[33m (\u001b[m\u001b[1;36mHEAD -> \u001b[m\u001b[1;32mmain\u001b[m\u001b[33m)\u001b[m\n",
            "Author: cambiar-por-su-nombre <cambiar.por.su.correo@gmail.com>\n",
            "Date:   Thu Apr 15 03:11:12 2021 +0000\n",
            "\n",
            "    Se actualizó la conclusión y el resumen con los resultados y se comenzó la introduccón\n",
            "\n",
            "\u001b[33mcommit 16941cb648a2aa9b97ac927c8b8555f2a219bc4e\u001b[m\n",
            "Author: cambiar-por-su-nombre <cambiar.por.su.correo@gmail.com>\n",
            "Date:   Thu Apr 15 03:11:09 2021 +0000\n",
            "\n",
            "    Versión inicial del proyecto\n",
            "\n",
            "\u001b[33mcommit 112b9d9ea1a1b0b20411a9757833d3b7e6531188\u001b[m\u001b[33m (\u001b[m\u001b[1;31morigin/main\u001b[m\u001b[33m, \u001b[m\u001b[1;31morigin/HEAD\u001b[m\u001b[33m)\u001b[m\n",
            "Author: cambiar-por-su-nombre <81787129+cambiar-por-su-nombre@users.noreply.github.com>\n",
            "Date:   Sun Apr 11 19:26:51 2021 -0500\n",
            "\n",
            "    Create README.md\n"
          ],
          "name": "stdout"
        }
      ]
    },
    {
      "cell_type": "markdown",
      "metadata": {
        "id": "Z-HurPR_dxp8"
      },
      "source": [
        "### Deshacer Cosas\n",
        "\n",
        "* `git commit --amend` permite sobrescribir la anterior confirmación.\n",
        "\n",
        "* `git reset HEAD <file>` permite deshacer la preparación.\n",
        "\n",
        "* `git checkout -- [archivo]` Se pierden los cambios que se han hecho en un archivo despúes de la última confirmación.\n",
        "\n",
        "\n",
        "\n"
      ],
      "id": "Z-HurPR_dxp8"
    },
    {
      "cell_type": "markdown",
      "metadata": {
        "id": "7zWEPVIKf1Vs"
      },
      "source": [
        "## Trabajar con Remotos\n",
        "\n",
        "Al crear un nuevo repositorio remoto en GitHub, este ofrece una serie de posibilidades para conectarse con el repositorio local. En particular no ofrece clone ya que no hay nada en el remoto.\n",
        "\n",
        "![GitHub_New](https://github.com/GerardoMunoz/progit2-es/raw/master/jupyter-summary/imagenes/GitHub_New.PNG)\n",
        "\n",
        "La sugerencia para este curso consiste en crear al menos el README.md en el repositorio remoto (GitHub) y luego clonarlo. Esto permite que el repositorio local quede configurado de una vez con el remoto.\n",
        "\n",
        "### Ver Tus Remotos\n",
        "\n",
        "Pg. 47\n",
        "\n",
        "\n",
        "![Pull Fetch](https://github.com/GerardoMunoz/progit2-es/raw/master/jupyter-summary/imagenes/Diapositiva5.PNG)"
      ],
      "id": "7zWEPVIKf1Vs"
    },
    {
      "cell_type": "code",
      "metadata": {
        "id": "qOZ5IcLegge5",
        "outputId": "9d780c24-55e4-456d-dd43-ccbb09cd364f",
        "colab": {
          "base_uri": "https://localhost:8080/"
        }
      },
      "source": [
        "!git remote"
      ],
      "id": "qOZ5IcLegge5",
      "execution_count": 56,
      "outputs": [
        {
          "output_type": "stream",
          "text": [
            "origin\n"
          ],
          "name": "stdout"
        }
      ]
    },
    {
      "cell_type": "code",
      "metadata": {
        "id": "L68VgL7QglLU",
        "outputId": "9921d041-c86c-4df5-c67f-c71c2af8fa0c",
        "colab": {
          "base_uri": "https://localhost:8080/"
        }
      },
      "source": [
        "!git remote -v"
      ],
      "id": "L68VgL7QglLU",
      "execution_count": 57,
      "outputs": [
        {
          "output_type": "stream",
          "text": [
            "origin\thttps://github.com/cambiar-por-su-nombre/TrabajosProgramacion (fetch)\n",
            "origin\thttps://github.com/cambiar-por-su-nombre/TrabajosProgramacion (push)\n"
          ],
          "name": "stdout"
        }
      ]
    },
    {
      "cell_type": "markdown",
      "metadata": {
        "id": "PepJ7ia_hqPF"
      },
      "source": [
        "### Traer y Combinar Remotos\n",
        "Pg. 49\n",
        "\n",
        "> `git fetch` solo trae datos a tu repositorio local - ni lo combina\n",
        "automáticamente con tu trabajo ni modifica el trabajo que llevas hecho. La combinación con tu\n",
        "trabajo debes hacerla manualmente cuando estés listo.\n",
        "\n",
        ">  Generalmente, al ejecutar `git pull` traerás datos del servidor del\n",
        "que clonaste originalmente y se intentará combinar automáticamente la información con el código\n",
        "en el que estás trabajando.\n",
        "\n",
        "\n"
      ],
      "id": "PepJ7ia_hqPF"
    },
    {
      "cell_type": "code",
      "metadata": {
        "id": "QcxJuUUui8C5",
        "outputId": "7d4fee86-7ad7-411c-dcd2-6e898235d19b",
        "colab": {
          "base_uri": "https://localhost:8080/"
        }
      },
      "source": [
        "!git pull"
      ],
      "id": "QcxJuUUui8C5",
      "execution_count": 58,
      "outputs": [
        {
          "output_type": "stream",
          "text": [
            "Already up to date.\n"
          ],
          "name": "stdout"
        }
      ]
    },
    {
      "cell_type": "markdown",
      "metadata": {
        "id": "SsUQhG3NjQBW"
      },
      "source": [
        "Enviar a Tus Remotos\n"
      ],
      "id": "SsUQhG3NjQBW"
    },
    {
      "cell_type": "code",
      "metadata": {
        "id": "x2ALT2nPjKA8",
        "outputId": "26555477-7155-4b51-f9f3-05412e48a3a7",
        "colab": {
          "base_uri": "https://localhost:8080/"
        }
      },
      "source": [
        "!git push"
      ],
      "id": "x2ALT2nPjKA8",
      "execution_count": 59,
      "outputs": [
        {
          "output_type": "stream",
          "text": [
            "fatal: could not read Username for 'https://github.com': No such device or address\n"
          ],
          "name": "stdout"
        }
      ]
    },
    {
      "cell_type": "markdown",
      "metadata": {
        "id": "bY_C635UjZwG"
      },
      "source": [
        "### Inspeccionar un Remoto\n",
        "Pg. 50"
      ],
      "id": "bY_C635UjZwG"
    },
    {
      "cell_type": "code",
      "metadata": {
        "id": "IP2UtUNokY3G",
        "outputId": "f3b8ecd6-3ee9-4abd-bb89-84579214baa9",
        "colab": {
          "base_uri": "https://localhost:8080/"
        }
      },
      "source": [
        "!git remote show "
      ],
      "id": "IP2UtUNokY3G",
      "execution_count": 63,
      "outputs": [
        {
          "output_type": "stream",
          "text": [
            "origin\n"
          ],
          "name": "stdout"
        }
      ]
    },
    {
      "cell_type": "code",
      "metadata": {
        "id": "nLUp3R_wkPur",
        "outputId": "16d7185f-fca0-43dc-9afe-2757740e8e7c",
        "colab": {
          "base_uri": "https://localhost:8080/"
        }
      },
      "source": [
        "!git remote show origin"
      ],
      "id": "nLUp3R_wkPur",
      "execution_count": 62,
      "outputs": [
        {
          "output_type": "stream",
          "text": [
            "* remote origin\n",
            "  Fetch URL: https://github.com/cambiar-por-su-nombre/TrabajosProgramacion\n",
            "  Push  URL: https://github.com/cambiar-por-su-nombre/TrabajosProgramacion\n",
            "  HEAD branch: main\n",
            "  Remote branch:\n",
            "    main tracked\n",
            "  Local branch configured for 'git pull':\n",
            "    main merges with remote main\n",
            "  Local ref configured for 'git push':\n",
            "    main pushes to main (fast-forwardable)\n"
          ],
          "name": "stdout"
        }
      ]
    },
    {
      "cell_type": "markdown",
      "metadata": {
        "id": "6xskBnQdktsW"
      },
      "source": [
        "## Etiquetado\n",
        "Pg 52\n",
        "\n",
        "`git tag` Permite resaltar algunas confirmaciones verdaderamente importantes."
      ],
      "id": "6xskBnQdktsW"
    },
    {
      "cell_type": "markdown",
      "metadata": {
        "id": "aABYWZTMmHY-"
      },
      "source": [
        "## Alias de Git\n",
        "Permite dar nombres cortos a comandos de git."
      ],
      "id": "aABYWZTMmHY-"
    },
    {
      "cell_type": "code",
      "metadata": {
        "id": "32xHNfaNmA5w"
      },
      "source": [
        ""
      ],
      "id": "32xHNfaNmA5w",
      "execution_count": null,
      "outputs": []
    }
  ]
}