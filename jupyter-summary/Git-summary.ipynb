{
  "nbformat": 4,
  "nbformat_minor": 5,
  "metadata": {
    "colab": {
      "name": "Git-summary.ipynb",
      "provenance": [],
      "include_colab_link": true
    },
    "kernelspec": {
      "display_name": "Python 3",
      "language": "python",
      "name": "python3"
    },
    "language_info": {
      "codemirror_mode": {
        "name": "ipython",
        "version": 3
      },
      "file_extension": ".py",
      "mimetype": "text/x-python",
      "name": "python",
      "nbconvert_exporter": "python",
      "pygments_lexer": "ipython3",
      "version": "3.9.2"
    }
  },
  "cells": [
    {
      "cell_type": "markdown",
      "metadata": {
        "id": "view-in-github",
        "colab_type": "text"
      },
      "source": [
        "<a href=\"https://colab.research.google.com/github/GerardoMunoz/progit2-es/blob/master/jupyter-summary/Git-summary.ipynb\" target=\"_parent\"><img src=\"https://colab.research.google.com/assets/colab-badge.svg\" alt=\"Open In Colab\"/></a>"
      ]
    },
    {
      "cell_type": "markdown",
      "metadata": {
        "id": "municipal-screening"
      },
      "source": [
        "# Git \n",
        "\n",
        "\n",
        "* Resumen basado en el libro 'Pro Git'\n",
        "* Escrito por 'Scott Chacon' y por  'Ben Straub'\n",
        "* Versión 2.1.22, 2021-02-09\n",
        "* https://git-scm.com/book/es/v2\n",
        "\n",
        "# Acerca del Control de Versiones\n",
        "(Pg. 9)\n",
        "Un control de versiones es un\n",
        "sistema que registra los cambios realizados en un archivo o conjunto de archivos a lo largo del\n",
        "tiempo, de modo que puedas recuperar versiones específicas más adelante. \n",
        "\n",
        "# Fundamentos de Git\n",
        "\n",
        "## Los Tres Estados\n",
        "\n",
        "(pg 16) \n",
        "Git tiene tres estados principales en los que se pueden encontrar tus archivos: \n",
        "* confirmado (**committed**), significa que los datos están almacenados de manera segura en tu base de datos local\n",
        "* modificado (**modified**), significa que has modificado el archivo, pero todavía no lo has confirmado a tu base de datos.\n",
        "* preparado (**staged**), significa que has marcado un archivo modificado en su versión actual para que vaya en tu próxima confirmación.\n"
      ],
      "id": "municipal-screening"
    },
    {
      "cell_type": "markdown",
      "metadata": {
        "id": "pvUlgFDxD6_l"
      },
      "source": [
        "![Figura 6](https://github.com/GerardoMunoz/progit2-es/raw/fd5562ab1c85dc792491d3d71469bb0ced88165e/jupyter-summary/Fig6_mod.PNG)"
      ],
      "id": "pvUlgFDxD6_l"
    },
    {
      "cell_type": "markdown",
      "metadata": {
        "id": "U2j0liTy5Gow"
      },
      "source": [
        "## Configurando Git por primera vez\n",
        "### Tu Identidad\n",
        "Pg. 20"
      ],
      "id": "U2j0liTy5Gow"
    },
    {
      "cell_type": "code",
      "metadata": {
        "id": "K4AzWIMpNmeO"
      },
      "source": [
        "!git config --list "
      ],
      "id": "K4AzWIMpNmeO",
      "execution_count": 1,
      "outputs": []
    },
    {
      "cell_type": "code",
      "metadata": {
        "id": "477bTP2m5Gow"
      },
      "source": [
        "# no olvide colocar su nombre \n",
        "!git config  --global user.name \"cambiar-por-su-nombre\""
      ],
      "id": "477bTP2m5Gow",
      "execution_count": 2,
      "outputs": []
    },
    {
      "cell_type": "code",
      "metadata": {
        "id": "pL8SXQPv5Gox"
      },
      "source": [
        "# no olvide colocar su email \n",
        "!git config  --global user.email cambiar.por.su.correo@gmail.com"
      ],
      "id": "pL8SXQPv5Gox",
      "execution_count": 3,
      "outputs": []
    },
    {
      "cell_type": "code",
      "metadata": {
        "colab": {
          "base_uri": "https://localhost:8080/"
        },
        "id": "IroeN9o65Gox",
        "outputId": "9f958050-d5e0-4d85-a29b-cfbbaf54884a"
      },
      "source": [
        "!git config --list "
      ],
      "id": "IroeN9o65Gox",
      "execution_count": 4,
      "outputs": [
        {
          "output_type": "stream",
          "text": [
            "user.name=cambiar-por-su-nombre\n",
            "user.email=cambiar.por.su.correo@gmail.com\n"
          ],
          "name": "stdout"
        }
      ]
    },
    {
      "cell_type": "code",
      "metadata": {
        "colab": {
          "base_uri": "https://localhost:8080/"
        },
        "id": "8gQBTwg35Gox",
        "outputId": "f0bfd5fd-e48d-405b-86f4-22ec795d704a"
      },
      "source": [
        "!git config user.name"
      ],
      "id": "8gQBTwg35Gox",
      "execution_count": 5,
      "outputs": [
        {
          "output_type": "stream",
          "text": [
            "cambiar-por-su-nombre\n"
          ],
          "name": "stdout"
        }
      ]
    },
    {
      "cell_type": "code",
      "metadata": {
        "colab": {
          "base_uri": "https://localhost:8080/"
        },
        "id": "vqu_2b7W5Goy",
        "outputId": "8c6507b9-abb3-4fb3-c999-a6bd80ba6483"
      },
      "source": [
        "!git config user.email"
      ],
      "id": "vqu_2b7W5Goy",
      "execution_count": 6,
      "outputs": [
        {
          "output_type": "stream",
          "text": [
            "cambiar.por.su.correo@gmail.com\n"
          ],
          "name": "stdout"
        }
      ]
    },
    {
      "cell_type": "markdown",
      "metadata": {
        "id": "KupjvV3wdJj4"
      },
      "source": [
        "### Tu Editor\n",
        "Pg. 21\n",
        "\n",
        "Más adelante veremos  que Git abre automaticamente el editor que este configurado cuando se confirman (`commit`) los cambios. El editor se configura de la siguiete forma\n",
        "\n",
        "`git config --global core.editor ` cambiar_por_su_editor\n",
        "\n",
        "Desde Jupyter es preferible no abrir ningún editor ya que Jupyter se puede ejecutar en diferentes entornos. Para evitar abrir un editor al confirmar (`commit`) veremos que se puede usar la opción `-m`   \n",
        "\n",
        "`commit -m \"Aquí escribimos la documentación del cambio\"`\n",
        "\n"
      ],
      "id": "KupjvV3wdJj4"
    },
    {
      "cell_type": "markdown",
      "metadata": {
        "id": "kKCqLTxN5Goy"
      },
      "source": [
        "### ¿Cómo obtener ayuda?\n",
        "Pg. 22"
      ],
      "id": "kKCqLTxN5Goy"
    },
    {
      "cell_type": "code",
      "metadata": {
        "id": "4Gf52rsV5Goy"
      },
      "source": [
        "#!git help"
      ],
      "id": "4Gf52rsV5Goy",
      "execution_count": 7,
      "outputs": []
    },
    {
      "cell_type": "code",
      "metadata": {
        "id": "aZtlgtsm5Goz"
      },
      "source": [
        "#!git help config "
      ],
      "id": "aZtlgtsm5Goz",
      "execution_count": 8,
      "outputs": []
    },
    {
      "cell_type": "code",
      "metadata": {
        "id": "-1WYNempdIZx"
      },
      "source": [
        ""
      ],
      "id": "-1WYNempdIZx",
      "execution_count": 8,
      "outputs": []
    },
    {
      "cell_type": "markdown",
      "metadata": {
        "id": "fGr9igEG5Goz"
      },
      "source": [
        "## Fundamentos de Git\n",
        "Pgs. 24 - 57\n",
        "\n",
        "### Obteniendo un repositorio Git\n",
        "Pg. 23\n",
        "\n",
        "![GitIniClon](https://github.com/GerardoMunoz/progit2-es/raw/master/jupyter-summary/imagenes/Diapositiva1.PNG)"
      ],
      "id": "fGr9igEG5Goz"
    },
    {
      "cell_type": "markdown",
      "metadata": {
        "id": "EujX4K06nvli"
      },
      "source": [
        "Antes de comenzar vamos a listar los archivos en la carpecta actual, utilizando el comando de linux `ls -l` "
      ],
      "id": "EujX4K06nvli"
    },
    {
      "cell_type": "code",
      "metadata": {
        "colab": {
          "base_uri": "https://localhost:8080/"
        },
        "id": "NrAXyIQ7y0Nd",
        "outputId": "56d45271-37ff-4c3c-da50-ca2e73d52f9c"
      },
      "source": [
        "!ls -l"
      ],
      "id": "NrAXyIQ7y0Nd",
      "execution_count": 9,
      "outputs": [
        {
          "output_type": "stream",
          "text": [
            "total 4\n",
            "drwxr-xr-x 1 root root 4096 Apr  7 13:36 sample_data\n"
          ],
          "name": "stdout"
        }
      ]
    },
    {
      "cell_type": "markdown",
      "metadata": {
        "id": "A39oxVgVtOqb"
      },
      "source": [
        "La rama principal de GitHub por defecto se llama `main`. Sin embargo, en Git se llama `master`. Para evitar que al clonar se cree larama `master`, es necesario indicarle el nombe de la rama con la opciòn `-b`."
      ],
      "id": "A39oxVgVtOqb"
    },
    {
      "cell_type": "code",
      "metadata": {
        "colab": {
          "base_uri": "https://localhost:8080/"
        },
        "id": "OrwRAi0dyfLM",
        "outputId": "8a2d411f-d081-48e9-ad4c-7e0c9b493346"
      },
      "source": [
        "!git clone -b main https://github.com/cambiar-por-su-nombre/TrabajosProgramacion"
      ],
      "id": "OrwRAi0dyfLM",
      "execution_count": 10,
      "outputs": [
        {
          "output_type": "stream",
          "text": [
            "Cloning into 'TrabajosProgramacion'...\n",
            "remote: Enumerating objects: 3, done.\u001b[K\n",
            "remote: Counting objects: 100% (3/3), done.\u001b[K\n",
            "remote: Total 3 (delta 0), reused 0 (delta 0), pack-reused 0\u001b[K\n",
            "Unpacking objects: 100% (3/3), done.\n"
          ],
          "name": "stdout"
        }
      ]
    },
    {
      "cell_type": "code",
      "metadata": {
        "colab": {
          "base_uri": "https://localhost:8080/"
        },
        "id": "fClKrK3Py4ak",
        "outputId": "08411dc8-a2dc-42e8-988a-c4921b7c382a"
      },
      "source": [
        "!ls -l"
      ],
      "id": "fClKrK3Py4ak",
      "execution_count": 11,
      "outputs": [
        {
          "output_type": "stream",
          "text": [
            "total 8\n",
            "drwxr-xr-x 1 root root 4096 Apr  7 13:36 sample_data\n",
            "drwxr-xr-x 3 root root 4096 Apr 11 22:43 TrabajosProgramacion\n"
          ],
          "name": "stdout"
        }
      ]
    },
    {
      "cell_type": "code",
      "metadata": {
        "colab": {
          "base_uri": "https://localhost:8080/"
        },
        "id": "CS0oGUdBzAo9",
        "outputId": "cb517933-b4ea-45ff-9d9f-9379dc8c5c43"
      },
      "source": [
        "%cd TrabajosProgramacion"
      ],
      "id": "CS0oGUdBzAo9",
      "execution_count": 12,
      "outputs": [
        {
          "output_type": "stream",
          "text": [
            "/content/TrabajosProgramacion\n"
          ],
          "name": "stdout"
        }
      ]
    },
    {
      "cell_type": "markdown",
      "metadata": {
        "id": "XBT6mo_y9pUj"
      },
      "source": [
        "## Guardando cambios en el Repositorio\n",
        "Pg. 24\n",
        "\n",
        "### Revisando el Estado de tus Archivos\n",
        "\n"
      ],
      "id": "XBT6mo_y9pUj"
    },
    {
      "cell_type": "code",
      "metadata": {
        "colab": {
          "base_uri": "https://localhost:8080/"
        },
        "id": "7pN2xohOyHv7",
        "outputId": "2d44e1f9-d6cd-4a39-e945-787efdf79a39"
      },
      "source": [
        "!git status "
      ],
      "id": "7pN2xohOyHv7",
      "execution_count": 13,
      "outputs": [
        {
          "output_type": "stream",
          "text": [
            "On branch main\n",
            "Your branch is up to date with 'origin/main'.\n",
            "\n",
            "nothing to commit, working tree clean\n"
          ],
          "name": "stdout"
        }
      ]
    },
    {
      "cell_type": "code",
      "metadata": {
        "colab": {
          "base_uri": "https://localhost:8080/"
        },
        "id": "dzr1b28e0Ude",
        "outputId": "322222a5-fa14-472d-91cd-12e8ee1e2ec4"
      },
      "source": [
        "!ls -l"
      ],
      "id": "dzr1b28e0Ude",
      "execution_count": 14,
      "outputs": [
        {
          "output_type": "stream",
          "text": [
            "total 4\n",
            "-rw-r--r-- 1 root root 23 Apr 11 22:43 README.md\n"
          ],
          "name": "stdout"
        }
      ]
    },
    {
      "cell_type": "code",
      "metadata": {
        "colab": {
          "base_uri": "https://localhost:8080/"
        },
        "id": "7wSUmoAC0UaG",
        "outputId": "2ce127d7-1ea1-40dd-9c22-665064a5976a"
      },
      "source": [
        "!ls -al"
      ],
      "id": "7wSUmoAC0UaG",
      "execution_count": 15,
      "outputs": [
        {
          "output_type": "stream",
          "text": [
            "total 16\n",
            "drwxr-xr-x 3 root root 4096 Apr 11 22:43 .\n",
            "drwxr-xr-x 1 root root 4096 Apr 11 22:43 ..\n",
            "drwxr-xr-x 8 root root 4096 Apr 11 22:43 .git\n",
            "-rw-r--r-- 1 root root   23 Apr 11 22:43 README.md\n"
          ],
          "name": "stdout"
        }
      ]
    },
    {
      "cell_type": "code",
      "metadata": {
        "colab": {
          "base_uri": "https://localhost:8080/"
        },
        "id": "zjJNVS-r0UWt",
        "outputId": "b9d49d4c-84d0-4a23-b99d-7061d68eefae"
      },
      "source": [
        "!ls .git -al\n"
      ],
      "id": "zjJNVS-r0UWt",
      "execution_count": 16,
      "outputs": [
        {
          "output_type": "stream",
          "text": [
            "total 52\n",
            "drwxr-xr-x 8 root root 4096 Apr 11 22:43 .\n",
            "drwxr-xr-x 3 root root 4096 Apr 11 22:43 ..\n",
            "drwxr-xr-x 2 root root 4096 Apr 11 22:43 branches\n",
            "-rw-r--r-- 1 root root  282 Apr 11 22:43 config\n",
            "-rw-r--r-- 1 root root   73 Apr 11 22:43 description\n",
            "-rw-r--r-- 1 root root   21 Apr 11 22:43 HEAD\n",
            "drwxr-xr-x 2 root root 4096 Apr 11 22:43 hooks\n",
            "-rw-r--r-- 1 root root  137 Apr 11 22:43 index\n",
            "drwxr-xr-x 2 root root 4096 Apr 11 22:43 info\n",
            "drwxr-xr-x 3 root root 4096 Apr 11 22:43 logs\n",
            "drwxr-xr-x 7 root root 4096 Apr 11 22:43 objects\n",
            "-rw-r--r-- 1 root root  112 Apr 11 22:43 packed-refs\n",
            "drwxr-xr-x 5 root root 4096 Apr 11 22:43 refs\n"
          ],
          "name": "stdout"
        }
      ]
    },
    {
      "cell_type": "markdown",
      "metadata": {
        "id": "laUURKpc_01B"
      },
      "source": [
        "### Rastrear Archivos Nuevos\n",
        "Pg. 26\n",
        "\n",
        "![GitAdd](https://github.com/GerardoMunoz/progit2-es/raw/master/jupyter-summary/imagenes/Diapositiva2.PNG)\n"
      ],
      "id": "laUURKpc_01B"
    },
    {
      "cell_type": "markdown",
      "metadata": {
        "id": "7Q-6F9c6mkUN"
      },
      "source": [
        "### Creando un primer archivo (`concluciones.txt`)\n",
        "\n",
        "Entra las muchísimas opciones que tenemos para crear un archivo, vamos a usar una que tiene Linux para crear archivos de texto. Esta opción consiste en el comando `echo`. "
      ],
      "id": "7Q-6F9c6mkUN"
    },
    {
      "cell_type": "code",
      "metadata": {
        "id": "TrJrRTmp0UTL"
      },
      "source": [
        ""
      ],
      "id": "TrJrRTmp0UTL",
      "execution_count": 16,
      "outputs": []
    },
    {
      "cell_type": "code",
      "metadata": {
        "id": "hHLrtvP-5Go2"
      },
      "source": [
        "# `echo ... > ...` permite crear un archivo \n",
        "!echo \"Finalmente podemos concluir que ...\" > conclusion.txt"
      ],
      "id": "hHLrtvP-5Go2",
      "execution_count": 17,
      "outputs": []
    },
    {
      "cell_type": "code",
      "metadata": {
        "id": "mXrRRpO85Go2",
        "colab": {
          "base_uri": "https://localhost:8080/"
        },
        "outputId": "bf8146f3-0dd7-4c26-def8-16be2b376b6e"
      },
      "source": [
        "!ls -l"
      ],
      "id": "mXrRRpO85Go2",
      "execution_count": 18,
      "outputs": [
        {
          "output_type": "stream",
          "text": [
            "total 8\n",
            "-rw-r--r-- 1 root root 36 Apr 11 22:43 conclusion.txt\n",
            "-rw-r--r-- 1 root root 23 Apr 11 22:43 README.md\n"
          ],
          "name": "stdout"
        }
      ]
    },
    {
      "cell_type": "code",
      "metadata": {
        "id": "qfxf_nbi5Go2",
        "colab": {
          "base_uri": "https://localhost:8080/"
        },
        "outputId": "71d00807-582a-41b7-99de-36114e607c27"
      },
      "source": [
        "# `cat ...` permite crear un archivo \n",
        "!cat conclusion.txt"
      ],
      "id": "qfxf_nbi5Go2",
      "execution_count": 19,
      "outputs": [
        {
          "output_type": "stream",
          "text": [
            "Finalmente podemos concluir que ...\n"
          ],
          "name": "stdout"
        }
      ]
    },
    {
      "cell_type": "code",
      "metadata": {
        "id": "OZ8NOc0G5Go3",
        "colab": {
          "base_uri": "https://localhost:8080/"
        },
        "outputId": "5358ed36-5f29-4ae8-9055-cfa0623db040"
      },
      "source": [
        "!git status"
      ],
      "id": "OZ8NOc0G5Go3",
      "execution_count": 20,
      "outputs": [
        {
          "output_type": "stream",
          "text": [
            "On branch main\n",
            "Your branch is up to date with 'origin/main'.\n",
            "\n",
            "Untracked files:\n",
            "  (use \"git add <file>...\" to include in what will be committed)\n",
            "\n",
            "\t\u001b[31mconclusion.txt\u001b[m\n",
            "\n",
            "nothing added to commit but untracked files present (use \"git add\" to track)\n"
          ],
          "name": "stdout"
        }
      ]
    },
    {
      "cell_type": "code",
      "metadata": {
        "id": "wxR30VTH5Go4"
      },
      "source": [
        "!git add conclusion.txt"
      ],
      "id": "wxR30VTH5Go4",
      "execution_count": 21,
      "outputs": []
    },
    {
      "cell_type": "code",
      "metadata": {
        "id": "_p3GYWxy5Go4",
        "colab": {
          "base_uri": "https://localhost:8080/"
        },
        "outputId": "0a74a6ae-2dc4-4b22-f0a9-c9db2d3f1334"
      },
      "source": [
        "!git status"
      ],
      "id": "_p3GYWxy5Go4",
      "execution_count": 22,
      "outputs": [
        {
          "output_type": "stream",
          "text": [
            "On branch main\n",
            "Your branch is up to date with 'origin/main'.\n",
            "\n",
            "Changes to be committed:\n",
            "  (use \"git reset HEAD <file>...\" to unstage)\n",
            "\n",
            "\t\u001b[32mnew file:   conclusion.txt\u001b[m\n",
            "\n"
          ],
          "name": "stdout"
        }
      ]
    },
    {
      "cell_type": "markdown",
      "metadata": {
        "id": "pbiwHmDH5Go4"
      },
      "source": [
        "### Creando un segundo archivo (`resumen.txt`)"
      ],
      "id": "pbiwHmDH5Go4"
    },
    {
      "cell_type": "code",
      "metadata": {
        "id": "Y7SHGhDi5Go4"
      },
      "source": [
        "# Se puede copiar un archivo en la carpeta o crearlo desde cualquier progrma\n",
        "!echo \"En este documento se presenta ...\" > resumen.txt"
      ],
      "id": "Y7SHGhDi5Go4",
      "execution_count": 23,
      "outputs": []
    },
    {
      "cell_type": "code",
      "metadata": {
        "id": "iV6l0auz5Go4",
        "colab": {
          "base_uri": "https://localhost:8080/"
        },
        "outputId": "399dcf16-4a3e-4560-fabe-5b8edae031cc"
      },
      "source": [
        "!git status"
      ],
      "id": "iV6l0auz5Go4",
      "execution_count": 24,
      "outputs": [
        {
          "output_type": "stream",
          "text": [
            "On branch main\n",
            "Your branch is up to date with 'origin/main'.\n",
            "\n",
            "Changes to be committed:\n",
            "  (use \"git reset HEAD <file>...\" to unstage)\n",
            "\n",
            "\t\u001b[32mnew file:   conclusion.txt\u001b[m\n",
            "\n",
            "Untracked files:\n",
            "  (use \"git add <file>...\" to include in what will be committed)\n",
            "\n",
            "\t\u001b[31mresumen.txt\u001b[m\n",
            "\n"
          ],
          "name": "stdout"
        }
      ]
    },
    {
      "cell_type": "code",
      "metadata": {
        "id": "ZRDWCb7C5Go5"
      },
      "source": [
        "!git add resumen.txt"
      ],
      "id": "ZRDWCb7C5Go5",
      "execution_count": 25,
      "outputs": []
    },
    {
      "cell_type": "code",
      "metadata": {
        "id": "lScKRw7x5Go5",
        "colab": {
          "base_uri": "https://localhost:8080/"
        },
        "outputId": "02384c22-8a93-444c-d04f-dbff73f948c3"
      },
      "source": [
        "!git status"
      ],
      "id": "lScKRw7x5Go5",
      "execution_count": 26,
      "outputs": [
        {
          "output_type": "stream",
          "text": [
            "On branch main\n",
            "Your branch is up to date with 'origin/main'.\n",
            "\n",
            "Changes to be committed:\n",
            "  (use \"git reset HEAD <file>...\" to unstage)\n",
            "\n",
            "\t\u001b[32mnew file:   conclusion.txt\u001b[m\n",
            "\t\u001b[32mnew file:   resumen.txt\u001b[m\n",
            "\n"
          ],
          "name": "stdout"
        }
      ]
    },
    {
      "cell_type": "markdown",
      "metadata": {
        "id": "M8nCVNSp5Go5"
      },
      "source": [
        "## Confirmando (`commit`)"
      ],
      "id": "M8nCVNSp5Go5"
    },
    {
      "cell_type": "markdown",
      "metadata": {
        "id": "SxPHz4c4xRVu"
      },
      "source": [
        "![GitCommitPush](https://github.com/GerardoMunoz/progit2-es/raw/master/jupyter-summary/imagenes/Diapositiva3.PNG)"
      ],
      "id": "SxPHz4c4xRVu"
    },
    {
      "cell_type": "code",
      "metadata": {
        "id": "sg8pMXlC5Go5",
        "colab": {
          "base_uri": "https://localhost:8080/"
        },
        "outputId": "ae8ce816-f23f-42f5-b64a-f515214465ee"
      },
      "source": [
        "!git commit -m \"Versión inicial del proyecto\"\n"
      ],
      "id": "sg8pMXlC5Go5",
      "execution_count": 27,
      "outputs": [
        {
          "output_type": "stream",
          "text": [
            "[main bf879fc] Versión inicial del proyecto\n",
            " 2 files changed, 2 insertions(+)\n",
            " create mode 100644 conclusion.txt\n",
            " create mode 100644 resumen.txt\n"
          ],
          "name": "stdout"
        }
      ]
    },
    {
      "cell_type": "code",
      "metadata": {
        "id": "loQUUtMG5Go6",
        "colab": {
          "base_uri": "https://localhost:8080/"
        },
        "outputId": "8e8e7e3c-1ea7-441d-e4c7-e578e149a944"
      },
      "source": [
        "!git status"
      ],
      "id": "loQUUtMG5Go6",
      "execution_count": 28,
      "outputs": [
        {
          "output_type": "stream",
          "text": [
            "On branch main\n",
            "Your branch is ahead of 'origin/main' by 1 commit.\n",
            "  (use \"git push\" to publish your local commits)\n",
            "\n",
            "nothing to commit, working tree clean\n"
          ],
          "name": "stdout"
        }
      ]
    },
    {
      "cell_type": "markdown",
      "metadata": {
        "id": "Yb3NT9Nh5Go6"
      },
      "source": [
        "## Modificando y preparando archivos \n",
        "Pg. 26"
      ],
      "id": "Yb3NT9Nh5Go6"
    },
    {
      "cell_type": "code",
      "metadata": {
        "id": "VXhYdnML5Go6"
      },
      "source": [
        "!echo \"... en este aspecto mejoró 3% respecto ...\" >> conclusion.txt"
      ],
      "id": "VXhYdnML5Go6",
      "execution_count": 29,
      "outputs": []
    },
    {
      "cell_type": "code",
      "metadata": {
        "id": "YIVjZtDc5Go6",
        "colab": {
          "base_uri": "https://localhost:8080/"
        },
        "outputId": "1aef2e0d-ab00-4cc0-c8b0-92c750e3a122"
      },
      "source": [
        "!type conclusion.txt"
      ],
      "id": "YIVjZtDc5Go6",
      "execution_count": 30,
      "outputs": [
        {
          "output_type": "stream",
          "text": [
            "/bin/bash: line 0: type: conclusion.txt: not found\n"
          ],
          "name": "stdout"
        }
      ]
    },
    {
      "cell_type": "code",
      "metadata": {
        "id": "-sAtfMJb5Go7",
        "colab": {
          "base_uri": "https://localhost:8080/"
        },
        "outputId": "e685aa74-684e-48d6-fc6e-8ea8f9d66ec0"
      },
      "source": [
        "!git status"
      ],
      "id": "-sAtfMJb5Go7",
      "execution_count": 31,
      "outputs": [
        {
          "output_type": "stream",
          "text": [
            "On branch main\n",
            "Your branch is ahead of 'origin/main' by 1 commit.\n",
            "  (use \"git push\" to publish your local commits)\n",
            "\n",
            "Changes not staged for commit:\n",
            "  (use \"git add <file>...\" to update what will be committed)\n",
            "  (use \"git checkout -- <file>...\" to discard changes in working directory)\n",
            "\n",
            "\t\u001b[31mmodified:   conclusion.txt\u001b[m\n",
            "\n",
            "no changes added to commit (use \"git add\" and/or \"git commit -a\")\n"
          ],
          "name": "stdout"
        }
      ]
    },
    {
      "cell_type": "code",
      "metadata": {
        "id": "7FMKkajG5Go7"
      },
      "source": [
        "!echo \"... mejores resultados que los reportados.\" >> resumen.txt"
      ],
      "id": "7FMKkajG5Go7",
      "execution_count": 32,
      "outputs": []
    },
    {
      "cell_type": "code",
      "metadata": {
        "id": "eaiCEUqI5Go7",
        "colab": {
          "base_uri": "https://localhost:8080/"
        },
        "outputId": "f346b805-4dc9-4ce0-d2af-da779f3d44ce"
      },
      "source": [
        "!cat resumen.txt"
      ],
      "id": "eaiCEUqI5Go7",
      "execution_count": 33,
      "outputs": [
        {
          "output_type": "stream",
          "text": [
            "En este documento se presenta ...\n",
            "... mejores resultados que los reportados.\n"
          ],
          "name": "stdout"
        }
      ]
    },
    {
      "cell_type": "code",
      "metadata": {
        "id": "0cv4Sfwt5Go7",
        "colab": {
          "base_uri": "https://localhost:8080/"
        },
        "outputId": "0daeaf9f-ef49-4ce5-c16c-3631808a9c9e"
      },
      "source": [
        "!git status"
      ],
      "id": "0cv4Sfwt5Go7",
      "execution_count": 34,
      "outputs": [
        {
          "output_type": "stream",
          "text": [
            "On branch main\n",
            "Your branch is ahead of 'origin/main' by 1 commit.\n",
            "  (use \"git push\" to publish your local commits)\n",
            "\n",
            "Changes not staged for commit:\n",
            "  (use \"git add <file>...\" to update what will be committed)\n",
            "  (use \"git checkout -- <file>...\" to discard changes in working directory)\n",
            "\n",
            "\t\u001b[31mmodified:   conclusion.txt\u001b[m\n",
            "\t\u001b[31mmodified:   resumen.txt\u001b[m\n",
            "\n",
            "no changes added to commit (use \"git add\" and/or \"git commit -a\")\n"
          ],
          "name": "stdout"
        }
      ]
    },
    {
      "cell_type": "code",
      "metadata": {
        "id": "frdgDOqB5Go8"
      },
      "source": [
        "!echo \"Desde los inicios de ...\" >> introduccion.txt"
      ],
      "id": "frdgDOqB5Go8",
      "execution_count": 35,
      "outputs": []
    },
    {
      "cell_type": "code",
      "metadata": {
        "id": "ZbZoA-wB5Go8",
        "colab": {
          "base_uri": "https://localhost:8080/"
        },
        "outputId": "d86b99ac-cd90-46f8-d3d5-40ac49fa4b99"
      },
      "source": [
        "!git status"
      ],
      "id": "ZbZoA-wB5Go8",
      "execution_count": 36,
      "outputs": [
        {
          "output_type": "stream",
          "text": [
            "On branch main\n",
            "Your branch is ahead of 'origin/main' by 1 commit.\n",
            "  (use \"git push\" to publish your local commits)\n",
            "\n",
            "Changes not staged for commit:\n",
            "  (use \"git add <file>...\" to update what will be committed)\n",
            "  (use \"git checkout -- <file>...\" to discard changes in working directory)\n",
            "\n",
            "\t\u001b[31mmodified:   conclusion.txt\u001b[m\n",
            "\t\u001b[31mmodified:   resumen.txt\u001b[m\n",
            "\n",
            "Untracked files:\n",
            "  (use \"git add <file>...\" to include in what will be committed)\n",
            "\n",
            "\t\u001b[31mintroduccion.txt\u001b[m\n",
            "\n",
            "no changes added to commit (use \"git add\" and/or \"git commit -a\")\n"
          ],
          "name": "stdout"
        }
      ]
    },
    {
      "cell_type": "code",
      "metadata": {
        "id": "bkDDU7mO5Go8"
      },
      "source": [
        "!echo \"... se presentará en las conclusiones.\" >> introduccion.txt"
      ],
      "id": "bkDDU7mO5Go8",
      "execution_count": 37,
      "outputs": []
    },
    {
      "cell_type": "code",
      "metadata": {
        "id": "_kfByseK5Go9",
        "colab": {
          "base_uri": "https://localhost:8080/"
        },
        "outputId": "39ebee4c-4a4c-4ed7-f902-f791209d6dc2"
      },
      "source": [
        "!git status"
      ],
      "id": "_kfByseK5Go9",
      "execution_count": 38,
      "outputs": [
        {
          "output_type": "stream",
          "text": [
            "On branch main\n",
            "Your branch is ahead of 'origin/main' by 1 commit.\n",
            "  (use \"git push\" to publish your local commits)\n",
            "\n",
            "Changes not staged for commit:\n",
            "  (use \"git add <file>...\" to update what will be committed)\n",
            "  (use \"git checkout -- <file>...\" to discard changes in working directory)\n",
            "\n",
            "\t\u001b[31mmodified:   conclusion.txt\u001b[m\n",
            "\t\u001b[31mmodified:   resumen.txt\u001b[m\n",
            "\n",
            "Untracked files:\n",
            "  (use \"git add <file>...\" to include in what will be committed)\n",
            "\n",
            "\t\u001b[31mintroduccion.txt\u001b[m\n",
            "\n",
            "no changes added to commit (use \"git add\" and/or \"git commit -a\")\n"
          ],
          "name": "stdout"
        }
      ]
    },
    {
      "cell_type": "code",
      "metadata": {
        "id": "kgZ_zbJJ5Go9"
      },
      "source": [
        "!git add conclusion.txt"
      ],
      "id": "kgZ_zbJJ5Go9",
      "execution_count": 39,
      "outputs": []
    },
    {
      "cell_type": "code",
      "metadata": {
        "id": "5YvCwo-_5Go9",
        "colab": {
          "base_uri": "https://localhost:8080/"
        },
        "outputId": "1c399076-bb39-4ba0-f8ad-1af15925d9ce"
      },
      "source": [
        "!git status"
      ],
      "id": "5YvCwo-_5Go9",
      "execution_count": 40,
      "outputs": [
        {
          "output_type": "stream",
          "text": [
            "On branch main\n",
            "Your branch is ahead of 'origin/main' by 1 commit.\n",
            "  (use \"git push\" to publish your local commits)\n",
            "\n",
            "Changes to be committed:\n",
            "  (use \"git reset HEAD <file>...\" to unstage)\n",
            "\n",
            "\t\u001b[32mmodified:   conclusion.txt\u001b[m\n",
            "\n",
            "Changes not staged for commit:\n",
            "  (use \"git add <file>...\" to update what will be committed)\n",
            "  (use \"git checkout -- <file>...\" to discard changes in working directory)\n",
            "\n",
            "\t\u001b[31mmodified:   resumen.txt\u001b[m\n",
            "\n",
            "Untracked files:\n",
            "  (use \"git add <file>...\" to include in what will be committed)\n",
            "\n",
            "\t\u001b[31mintroduccion.txt\u001b[m\n",
            "\n"
          ],
          "name": "stdout"
        }
      ]
    },
    {
      "cell_type": "code",
      "metadata": {
        "id": "KJCIn54P5Go-"
      },
      "source": [
        "!echo \"... superando en tres de los cinco ...\" >> conclusion.txt"
      ],
      "id": "KJCIn54P5Go-",
      "execution_count": 41,
      "outputs": []
    },
    {
      "cell_type": "code",
      "metadata": {
        "id": "Ys3LJ-9E5Go-",
        "colab": {
          "base_uri": "https://localhost:8080/"
        },
        "outputId": "c654b82d-2ed3-418b-dec4-ffeb4cc4cbdc"
      },
      "source": [
        "!type conclusion.txt"
      ],
      "id": "Ys3LJ-9E5Go-",
      "execution_count": 42,
      "outputs": [
        {
          "output_type": "stream",
          "text": [
            "/bin/bash: line 0: type: conclusion.txt: not found\n"
          ],
          "name": "stdout"
        }
      ]
    },
    {
      "cell_type": "code",
      "metadata": {
        "id": "U9GA7hcL5Go-",
        "colab": {
          "base_uri": "https://localhost:8080/"
        },
        "outputId": "0114eed3-0f2f-44af-c239-6171bf7f608c"
      },
      "source": [
        "!git status"
      ],
      "id": "U9GA7hcL5Go-",
      "execution_count": 43,
      "outputs": [
        {
          "output_type": "stream",
          "text": [
            "On branch main\n",
            "Your branch is ahead of 'origin/main' by 1 commit.\n",
            "  (use \"git push\" to publish your local commits)\n",
            "\n",
            "Changes to be committed:\n",
            "  (use \"git reset HEAD <file>...\" to unstage)\n",
            "\n",
            "\t\u001b[32mmodified:   conclusion.txt\u001b[m\n",
            "\n",
            "Changes not staged for commit:\n",
            "  (use \"git add <file>...\" to update what will be committed)\n",
            "  (use \"git checkout -- <file>...\" to discard changes in working directory)\n",
            "\n",
            "\t\u001b[31mmodified:   conclusion.txt\u001b[m\n",
            "\t\u001b[31mmodified:   resumen.txt\u001b[m\n",
            "\n",
            "Untracked files:\n",
            "  (use \"git add <file>...\" to include in what will be committed)\n",
            "\n",
            "\t\u001b[31mintroduccion.txt\u001b[m\n",
            "\n"
          ],
          "name": "stdout"
        }
      ]
    },
    {
      "cell_type": "code",
      "metadata": {
        "id": "z1qNCOfD5Go-",
        "colab": {
          "base_uri": "https://localhost:8080/"
        },
        "outputId": "affdc3e1-151b-409a-f17a-22983b283738"
      },
      "source": [
        "!git status -s\n",
        "# ??  No rastreado (Untracked)\n",
        "# A  Preparado (Staged)\n",
        "# M  Modificado (Modified)\n",
        "    # Columna izquierda es el estado preparado\n",
        "    # Columna derecha es el estado sin preparar"
      ],
      "id": "z1qNCOfD5Go-",
      "execution_count": 44,
      "outputs": [
        {
          "output_type": "stream",
          "text": [
            "\u001b[32mM\u001b[m\u001b[31mM\u001b[m conclusion.txt\n",
            " \u001b[31mM\u001b[m resumen.txt\n",
            "\u001b[31m??\u001b[m introduccion.txt\n"
          ],
          "name": "stdout"
        }
      ]
    },
    {
      "cell_type": "code",
      "metadata": {
        "id": "EICEpfXJ5Go-"
      },
      "source": [
        "!git add introduccion.txt"
      ],
      "id": "EICEpfXJ5Go-",
      "execution_count": 45,
      "outputs": []
    },
    {
      "cell_type": "code",
      "metadata": {
        "id": "6bhNlglr5Go_",
        "colab": {
          "base_uri": "https://localhost:8080/"
        },
        "outputId": "aa102201-0280-4267-9523-696e6ed7b016"
      },
      "source": [
        "!git status -s"
      ],
      "id": "6bhNlglr5Go_",
      "execution_count": 46,
      "outputs": [
        {
          "output_type": "stream",
          "text": [
            "\u001b[32mM\u001b[m\u001b[31mM\u001b[m conclusion.txt\n",
            "\u001b[32mA\u001b[m  introduccion.txt\n",
            " \u001b[31mM\u001b[m resumen.txt\n"
          ],
          "name": "stdout"
        }
      ]
    },
    {
      "cell_type": "code",
      "metadata": {
        "id": "wn2ftfyQ5Go_"
      },
      "source": [
        "!git add conclusion.txt"
      ],
      "id": "wn2ftfyQ5Go_",
      "execution_count": 47,
      "outputs": []
    },
    {
      "cell_type": "code",
      "metadata": {
        "id": "HrYO2tNn5Go_",
        "colab": {
          "base_uri": "https://localhost:8080/"
        },
        "outputId": "ede0fe8d-af31-43a3-a681-b57d4a025d41"
      },
      "source": [
        "!git status -s"
      ],
      "id": "HrYO2tNn5Go_",
      "execution_count": 48,
      "outputs": [
        {
          "output_type": "stream",
          "text": [
            "\u001b[32mM\u001b[m  conclusion.txt\n",
            "\u001b[32mA\u001b[m  introduccion.txt\n",
            " \u001b[31mM\u001b[m resumen.txt\n"
          ],
          "name": "stdout"
        }
      ]
    },
    {
      "cell_type": "code",
      "metadata": {
        "id": "KorMKKN15Go_"
      },
      "source": [
        "!git add resumen.txt"
      ],
      "id": "KorMKKN15Go_",
      "execution_count": 49,
      "outputs": []
    },
    {
      "cell_type": "code",
      "metadata": {
        "id": "Zct0fkbc5Go_",
        "colab": {
          "base_uri": "https://localhost:8080/"
        },
        "outputId": "d7e35877-3e40-4ca9-8103-5feef3aee645"
      },
      "source": [
        "!git status -s"
      ],
      "id": "Zct0fkbc5Go_",
      "execution_count": 50,
      "outputs": [
        {
          "output_type": "stream",
          "text": [
            "\u001b[32mM\u001b[m  conclusion.txt\n",
            "\u001b[32mA\u001b[m  introduccion.txt\n",
            "\u001b[32mM\u001b[m  resumen.txt\n"
          ],
          "name": "stdout"
        }
      ]
    },
    {
      "cell_type": "code",
      "metadata": {
        "id": "1dBpExez5Go_",
        "colab": {
          "base_uri": "https://localhost:8080/"
        },
        "outputId": "cd5eecc6-83a2-4b92-9d92-12f8cf08a956"
      },
      "source": [
        "!git commit -m \"Se actualizó la conclusión y el resumen con los resultados y se comenzó la introduccón\""
      ],
      "id": "1dBpExez5Go_",
      "execution_count": 51,
      "outputs": [
        {
          "output_type": "stream",
          "text": [
            "[main f509a91] Se actualizó la conclusión y el resumen con los resultados y se comenzó la introduccón\n",
            " 3 files changed, 5 insertions(+)\n",
            " create mode 100644 introduccion.txt\n"
          ],
          "name": "stdout"
        }
      ]
    },
    {
      "cell_type": "code",
      "metadata": {
        "id": "i8uJB_uf5GpA"
      },
      "source": [
        "!git status -s"
      ],
      "id": "i8uJB_uf5GpA",
      "execution_count": 52,
      "outputs": []
    },
    {
      "cell_type": "markdown",
      "metadata": {
        "id": "qWTqzXCM5GpA"
      },
      "source": [
        "### Guardando cambios en el Repositorio\n",
        "Pg. 24"
      ],
      "id": "qWTqzXCM5GpA"
    },
    {
      "cell_type": "code",
      "metadata": {
        "id": "g0HbtJFf5GpA",
        "colab": {
          "base_uri": "https://localhost:8080/"
        },
        "outputId": "997b5b23-9114-4d98-c5ed-84ffa7dbe0e5"
      },
      "source": [
        "!git status"
      ],
      "id": "g0HbtJFf5GpA",
      "execution_count": 53,
      "outputs": [
        {
          "output_type": "stream",
          "text": [
            "On branch main\n",
            "Your branch is ahead of 'origin/main' by 2 commits.\n",
            "  (use \"git push\" to publish your local commits)\n",
            "\n",
            "nothing to commit, working tree clean\n"
          ],
          "name": "stdout"
        }
      ]
    },
    {
      "cell_type": "markdown",
      "metadata": {
        "id": "rSB8iEO75GpA"
      },
      "source": [
        "## Ver el Historial de Confirmaciones\n",
        "Pg. 37"
      ],
      "id": "rSB8iEO75GpA"
    },
    {
      "cell_type": "code",
      "metadata": {
        "id": "JQOsArea5GpA",
        "colab": {
          "base_uri": "https://localhost:8080/"
        },
        "outputId": "6bb8de90-5d87-4830-ed81-30bbcdfa4320"
      },
      "source": [
        "!git log"
      ],
      "id": "JQOsArea5GpA",
      "execution_count": 54,
      "outputs": [
        {
          "output_type": "stream",
          "text": [
            "\u001b[33mcommit f509a915dc4898786e9ec8c22d347994f5cc12c6\u001b[m\u001b[33m (\u001b[m\u001b[1;36mHEAD -> \u001b[m\u001b[1;32mmain\u001b[m\u001b[33m)\u001b[m\n",
            "Author: cambiar-por-su-nombre <cambiar.por.su.correo@gmail.com>\n",
            "Date:   Sun Apr 11 22:43:55 2021 +0000\n",
            "\n",
            "    Se actualizó la conclusión y el resumen con los resultados y se comenzó la introduccón\n",
            "\n",
            "\u001b[33mcommit bf879fcc5d3c32b756d8b2e546fdfbfe02a9dae6\u001b[m\n",
            "Author: cambiar-por-su-nombre <cambiar.por.su.correo@gmail.com>\n",
            "Date:   Sun Apr 11 22:43:52 2021 +0000\n",
            "\n",
            "    Versión inicial del proyecto\n",
            "\n",
            "\u001b[33mcommit 857540122b4fb51938d42e6524bec326cf8bcc72\u001b[m\u001b[33m (\u001b[m\u001b[1;31morigin/main\u001b[m\u001b[33m, \u001b[m\u001b[1;31morigin/HEAD\u001b[m\u001b[33m)\u001b[m\n",
            "Author: cambiar-por-su-nombre <81787129+cambiar-por-su-nombre@users.noreply.github.com>\n",
            "Date:   Sun Apr 4 20:43:31 2021 -0500\n",
            "\n",
            "    Create README.md\n"
          ],
          "name": "stdout"
        }
      ]
    },
    {
      "cell_type": "markdown",
      "metadata": {
        "id": "cMCBn04Y5GpB"
      },
      "source": [
        "### Ignorar archivos\n",
        "Pg. 29\n",
        "\n",
        "En el archivo  `.gitignore` se colocan los archivos a ignorar\n",
        " "
      ],
      "id": "cMCBn04Y5GpB"
    },
    {
      "cell_type": "markdown",
      "metadata": {
        "id": "CX7FYg4t5GpB"
      },
      "source": [
        "### Ver los Cambios Preparados y No Preparados \n",
        "Pg. 30\n",
        "\n",
        "`git diff --staged`"
      ],
      "id": "CX7FYg4t5GpB"
    },
    {
      "cell_type": "markdown",
      "metadata": {
        "id": "tEqS8lEe5GpB"
      },
      "source": [
        "### Confirmar tus Cambios \n",
        "Pg. 33\n",
        "\n",
        "`git commit`\n",
        "\n"
      ],
      "id": "tEqS8lEe5GpB"
    },
    {
      "cell_type": "markdown",
      "metadata": {
        "id": "ZPbXQSp-5GpC"
      },
      "source": [
        "### Saltar el Área de Preparación \n",
        "Pg. 34\n",
        "\n",
        "`git commit -a -m \"added new benchmarks\"`\n",
        "\n",
        "![image.png](attachment:image.png)"
      ],
      "id": "ZPbXQSp-5GpC"
    },
    {
      "cell_type": "markdown",
      "metadata": {
        "id": "HjSQJ-re5GpC"
      },
      "source": [
        "### Eliminar Archivos \n",
        "Pg. 35\n",
        "\n",
        "`git rm un_archivo`\n",
        "\n"
      ],
      "id": "HjSQJ-re5GpC"
    },
    {
      "cell_type": "markdown",
      "metadata": {
        "id": "pOt6LpJg5GpD"
      },
      "source": [
        "### Cambiar el Nombre de los Archivos \n",
        "Pg. 36\n",
        "\n",
        "`git mv file_from file_to`"
      ],
      "id": "pOt6LpJg5GpD"
    },
    {
      "cell_type": "markdown",
      "metadata": {
        "id": "VMraxyUk5GpD"
      },
      "source": [
        "## Ver el Historial de Confirmaciones\n",
        "Pg. 37"
      ],
      "id": "VMraxyUk5GpD"
    },
    {
      "cell_type": "code",
      "metadata": {
        "id": "mHOpKyQ75GpD",
        "colab": {
          "base_uri": "https://localhost:8080/"
        },
        "outputId": "f34f9295-cf5c-4029-eba8-25ef74c86c1a"
      },
      "source": [
        "!git clone https://github.com/schacon/simplegit-progit"
      ],
      "id": "mHOpKyQ75GpD",
      "execution_count": 55,
      "outputs": [
        {
          "output_type": "stream",
          "text": [
            "Cloning into 'simplegit-progit'...\n",
            "remote: Enumerating objects: 13, done.\u001b[K\n",
            "remote: Total 13 (delta 0), reused 0 (delta 0), pack-reused 13\u001b[K\n",
            "Unpacking objects: 100% (13/13), done.\n"
          ],
          "name": "stdout"
        }
      ]
    },
    {
      "cell_type": "code",
      "metadata": {
        "id": "cjGPRcY35GpE",
        "colab": {
          "base_uri": "https://localhost:8080/"
        },
        "outputId": "bc003952-1fe4-4e4d-a5fd-1aef1c9f172f"
      },
      "source": [
        "!dir"
      ],
      "id": "cjGPRcY35GpE",
      "execution_count": 56,
      "outputs": [
        {
          "output_type": "stream",
          "text": [
            "conclusion.txt\tintroduccion.txt  README.md  resumen.txt  simplegit-progit\n"
          ],
          "name": "stdout"
        }
      ]
    },
    {
      "cell_type": "code",
      "metadata": {
        "id": "3rqVDOMD5GpE",
        "colab": {
          "base_uri": "https://localhost:8080/"
        },
        "outputId": "9ad36e9e-31ff-442f-913d-72c3f9b7a8b0"
      },
      "source": [
        "!git log"
      ],
      "id": "3rqVDOMD5GpE",
      "execution_count": 57,
      "outputs": [
        {
          "output_type": "stream",
          "text": [
            "\u001b[33mcommit f509a915dc4898786e9ec8c22d347994f5cc12c6\u001b[m\u001b[33m (\u001b[m\u001b[1;36mHEAD -> \u001b[m\u001b[1;32mmain\u001b[m\u001b[33m)\u001b[m\n",
            "Author: cambiar-por-su-nombre <cambiar.por.su.correo@gmail.com>\n",
            "Date:   Sun Apr 11 22:43:55 2021 +0000\n",
            "\n",
            "    Se actualizó la conclusión y el resumen con los resultados y se comenzó la introduccón\n",
            "\n",
            "\u001b[33mcommit bf879fcc5d3c32b756d8b2e546fdfbfe02a9dae6\u001b[m\n",
            "Author: cambiar-por-su-nombre <cambiar.por.su.correo@gmail.com>\n",
            "Date:   Sun Apr 11 22:43:52 2021 +0000\n",
            "\n",
            "    Versión inicial del proyecto\n",
            "\n",
            "\u001b[33mcommit 857540122b4fb51938d42e6524bec326cf8bcc72\u001b[m\u001b[33m (\u001b[m\u001b[1;31morigin/main\u001b[m\u001b[33m, \u001b[m\u001b[1;31morigin/HEAD\u001b[m\u001b[33m)\u001b[m\n",
            "Author: cambiar-por-su-nombre <81787129+cambiar-por-su-nombre@users.noreply.github.com>\n",
            "Date:   Sun Apr 4 20:43:31 2021 -0500\n",
            "\n",
            "    Create README.md\n"
          ],
          "name": "stdout"
        }
      ]
    },
    {
      "cell_type": "code",
      "metadata": {
        "id": "8ZDQnJ2v5GpE",
        "colab": {
          "base_uri": "https://localhost:8080/"
        },
        "outputId": "3e4eca60-e2bd-4ace-8f8a-558803d56c6e"
      },
      "source": [
        "%cd simplegit-progit"
      ],
      "id": "8ZDQnJ2v5GpE",
      "execution_count": 58,
      "outputs": [
        {
          "output_type": "stream",
          "text": [
            "/content/TrabajosProgramacion/simplegit-progit\n"
          ],
          "name": "stdout"
        }
      ]
    },
    {
      "cell_type": "code",
      "metadata": {
        "id": "Y8qGr2Jc5GpE",
        "colab": {
          "base_uri": "https://localhost:8080/"
        },
        "outputId": "279fc7ab-7257-4989-f0b0-713266f7594f"
      },
      "source": [
        "!dir"
      ],
      "id": "Y8qGr2Jc5GpE",
      "execution_count": 59,
      "outputs": [
        {
          "output_type": "stream",
          "text": [
            "lib  Rakefile  README\n"
          ],
          "name": "stdout"
        }
      ]
    },
    {
      "cell_type": "code",
      "metadata": {
        "id": "snZDZELT5GpF",
        "colab": {
          "base_uri": "https://localhost:8080/"
        },
        "outputId": "ac814005-45bb-49c2-b124-5684668b7cc9"
      },
      "source": [
        "!dir lib"
      ],
      "id": "snZDZELT5GpF",
      "execution_count": 60,
      "outputs": [
        {
          "output_type": "stream",
          "text": [
            "simplegit.rb\n"
          ],
          "name": "stdout"
        }
      ]
    },
    {
      "cell_type": "code",
      "metadata": {
        "id": "YbmAyWKr5GpF",
        "colab": {
          "base_uri": "https://localhost:8080/"
        },
        "outputId": "ac4d40b1-a441-4b3c-8126-d047dde7e679"
      },
      "source": [
        "!git log"
      ],
      "id": "YbmAyWKr5GpF",
      "execution_count": 61,
      "outputs": [
        {
          "output_type": "stream",
          "text": [
            "\u001b[33mcommit ca82a6dff817ec66f44342007202690a93763949\u001b[m\u001b[33m (\u001b[m\u001b[1;36mHEAD -> \u001b[m\u001b[1;32mmaster\u001b[m\u001b[33m, \u001b[m\u001b[1;31morigin/master\u001b[m\u001b[33m, \u001b[m\u001b[1;31morigin/HEAD\u001b[m\u001b[33m)\u001b[m\n",
            "Author: Scott Chacon <schacon@gmail.com>\n",
            "Date:   Mon Mar 17 21:52:11 2008 -0700\n",
            "\n",
            "    changed the verison number\n",
            "\n",
            "\u001b[33mcommit 085bb3bcb608e1e8451d4b2432f8ecbe6306e7e7\u001b[m\n",
            "Author: Scott Chacon <schacon@gmail.com>\n",
            "Date:   Sat Mar 15 16:40:33 2008 -0700\n",
            "\n",
            "    removed unnecessary test code\n",
            "\n",
            "\u001b[33mcommit a11bef06a3f659402fe7563abf99ad00de2209e6\u001b[m\n",
            "Author: Scott Chacon <schacon@gmail.com>\n",
            "Date:   Sat Mar 15 10:31:28 2008 -0700\n",
            "\n",
            "    first commit\n"
          ],
          "name": "stdout"
        }
      ]
    },
    {
      "cell_type": "code",
      "metadata": {
        "id": "8kIkPz2Y5GpF",
        "colab": {
          "base_uri": "https://localhost:8080/"
        },
        "outputId": "1e52ef7f-da78-4fe1-e0b9-1683ddc86ce6"
      },
      "source": [
        "!git log -p -2"
      ],
      "id": "8kIkPz2Y5GpF",
      "execution_count": 62,
      "outputs": [
        {
          "output_type": "stream",
          "text": [
            "\u001b[33mcommit ca82a6dff817ec66f44342007202690a93763949\u001b[m\u001b[33m (\u001b[m\u001b[1;36mHEAD -> \u001b[m\u001b[1;32mmaster\u001b[m\u001b[33m, \u001b[m\u001b[1;31morigin/master\u001b[m\u001b[33m, \u001b[m\u001b[1;31morigin/HEAD\u001b[m\u001b[33m)\u001b[m\n",
            "Author: Scott Chacon <schacon@gmail.com>\n",
            "Date:   Mon Mar 17 21:52:11 2008 -0700\n",
            "\n",
            "    changed the verison number\n",
            "\n",
            "\u001b[1mdiff --git a/Rakefile b/Rakefile\u001b[m\n",
            "\u001b[1mindex a874b73..8f94139 100644\u001b[m\n",
            "\u001b[1m--- a/Rakefile\u001b[m\n",
            "\u001b[1m+++ b/Rakefile\u001b[m\n",
            "\u001b[36m@@ -5,7 +5,7 @@\u001b[m \u001b[mrequire 'rake/gempackagetask'\u001b[m\n",
            " spec = Gem::Specification.new do |s|\u001b[m\n",
            "     s.platform  =   Gem::Platform::RUBY\u001b[m\n",
            "     s.name      =   \"simplegit\"\u001b[m\n",
            "\u001b[31m-    s.version   =   \"0.1.0\"\u001b[m\n",
            "\u001b[32m+\u001b[m\u001b[32m    s.version   =   \"0.1.1\"\u001b[m\n",
            "     s.author    =   \"Scott Chacon\"\u001b[m\n",
            "     s.email     =   \"schacon@gmail.com\"\u001b[m\n",
            "     s.summary   =   \"A simple gem for using Git in Ruby code.\"\u001b[m\n",
            "\n",
            "\u001b[33mcommit 085bb3bcb608e1e8451d4b2432f8ecbe6306e7e7\u001b[m\n",
            "Author: Scott Chacon <schacon@gmail.com>\n",
            "Date:   Sat Mar 15 16:40:33 2008 -0700\n",
            "\n",
            "    removed unnecessary test code\n",
            "\n",
            "\u001b[1mdiff --git a/lib/simplegit.rb b/lib/simplegit.rb\u001b[m\n",
            "\u001b[1mindex a0a60ae..47c6340 100644\u001b[m\n",
            "\u001b[1m--- a/lib/simplegit.rb\u001b[m\n",
            "\u001b[1m+++ b/lib/simplegit.rb\u001b[m\n",
            "\u001b[36m@@ -18,8 +18,3 @@\u001b[m \u001b[mclass SimpleGit\u001b[m\n",
            "     end\u001b[m\n",
            "   \u001b[m\n",
            " end\u001b[m\n",
            "\u001b[31m-\u001b[m\n",
            "\u001b[31m-if $0 == __FILE__\u001b[m\n",
            "\u001b[31m-  git = SimpleGit.new\u001b[m\n",
            "\u001b[31m-  puts git.show\u001b[m\n",
            "\u001b[31m-end\u001b[m\n",
            "\\ No newline at end of file\u001b[m\n"
          ],
          "name": "stdout"
        }
      ]
    },
    {
      "cell_type": "markdown",
      "metadata": {
        "id": "c9cUiwyp5GpF"
      },
      "source": [
        "## Trabajar con remotos\n"
      ],
      "id": "c9cUiwyp5GpF"
    },
    {
      "cell_type": "markdown",
      "metadata": {
        "id": "dGEYogoP5GpF"
      },
      "source": [
        ""
      ],
      "id": "dGEYogoP5GpF"
    },
    {
      "cell_type": "markdown",
      "metadata": {
        "id": "6daallbs5GpJ"
      },
      "source": [
        ""
      ],
      "id": "6daallbs5GpJ"
    },
    {
      "cell_type": "markdown",
      "metadata": {
        "id": "LT8UZFPw5GpJ"
      },
      "source": [
        ""
      ],
      "id": "LT8UZFPw5GpJ"
    },
    {
      "cell_type": "markdown",
      "metadata": {
        "id": "RDuLygHn5GpK"
      },
      "source": [
        ""
      ],
      "id": "RDuLygHn5GpK"
    },
    {
      "cell_type": "markdown",
      "metadata": {
        "id": "QMO-Y8PW5GpK"
      },
      "source": [
        ""
      ],
      "id": "QMO-Y8PW5GpK"
    },
    {
      "cell_type": "markdown",
      "metadata": {
        "id": "buoU7JCG5GpK"
      },
      "source": [
        ""
      ],
      "id": "buoU7JCG5GpK"
    },
    {
      "cell_type": "markdown",
      "metadata": {
        "id": "RAz_1Axk5GpK"
      },
      "source": [
        ""
      ],
      "id": "RAz_1Axk5GpK"
    },
    {
      "cell_type": "markdown",
      "metadata": {
        "id": "lZF-1dcn5GpK"
      },
      "source": [
        ""
      ],
      "id": "lZF-1dcn5GpK"
    },
    {
      "cell_type": "markdown",
      "metadata": {
        "id": "s3IjAnBy5GpK"
      },
      "source": [
        ""
      ],
      "id": "s3IjAnBy5GpK"
    },
    {
      "cell_type": "markdown",
      "metadata": {
        "id": "VO4_GpuY5GpL"
      },
      "source": [
        ""
      ],
      "id": "VO4_GpuY5GpL"
    },
    {
      "cell_type": "markdown",
      "metadata": {
        "id": "IxfQbwjD5GpL"
      },
      "source": [
        ""
      ],
      "id": "IxfQbwjD5GpL"
    },
    {
      "cell_type": "markdown",
      "metadata": {
        "id": "-vWLrXui5GpL"
      },
      "source": [
        ""
      ],
      "id": "-vWLrXui5GpL"
    },
    {
      "cell_type": "markdown",
      "metadata": {
        "id": "YKvDinVb5GpL"
      },
      "source": [
        ""
      ],
      "id": "YKvDinVb5GpL"
    },
    {
      "cell_type": "markdown",
      "metadata": {
        "id": "xJ4O95aW5GpL"
      },
      "source": [
        ""
      ],
      "id": "xJ4O95aW5GpL"
    },
    {
      "cell_type": "markdown",
      "metadata": {
        "id": "9i_y0wCy5GpL"
      },
      "source": [
        ""
      ],
      "id": "9i_y0wCy5GpL"
    },
    {
      "cell_type": "markdown",
      "metadata": {
        "id": "dgp7hG5X5GpL"
      },
      "source": [
        ""
      ],
      "id": "dgp7hG5X5GpL"
    },
    {
      "cell_type": "markdown",
      "metadata": {
        "id": "KXqvB-Vq5GpM"
      },
      "source": [
        ""
      ],
      "id": "KXqvB-Vq5GpM"
    },
    {
      "cell_type": "code",
      "metadata": {
        "id": "Wg_cuRaR5GpM"
      },
      "source": [
        ""
      ],
      "id": "Wg_cuRaR5GpM",
      "execution_count": 62,
      "outputs": []
    },
    {
      "cell_type": "code",
      "metadata": {
        "id": "H4xyVUHr5GpM"
      },
      "source": [
        ""
      ],
      "id": "H4xyVUHr5GpM",
      "execution_count": 62,
      "outputs": []
    },
    {
      "cell_type": "code",
      "metadata": {
        "id": "3msdQRML5GpM"
      },
      "source": [
        ""
      ],
      "id": "3msdQRML5GpM",
      "execution_count": 62,
      "outputs": []
    },
    {
      "cell_type": "code",
      "metadata": {
        "id": "E4_MzFhv5GpM"
      },
      "source": [
        ""
      ],
      "id": "E4_MzFhv5GpM",
      "execution_count": 62,
      "outputs": []
    },
    {
      "cell_type": "code",
      "metadata": {
        "id": "bp36bMWu5GpN"
      },
      "source": [
        ""
      ],
      "id": "bp36bMWu5GpN",
      "execution_count": 62,
      "outputs": []
    },
    {
      "cell_type": "code",
      "metadata": {
        "id": "qzCBkHW75GpN"
      },
      "source": [
        ""
      ],
      "id": "qzCBkHW75GpN",
      "execution_count": 62,
      "outputs": []
    },
    {
      "cell_type": "code",
      "metadata": {
        "id": "GkRr3g3m0UPa"
      },
      "source": [
        ""
      ],
      "id": "GkRr3g3m0UPa",
      "execution_count": 62,
      "outputs": []
    },
    {
      "cell_type": "code",
      "metadata": {
        "id": "Xo3N6M2S0UJZ"
      },
      "source": [
        ""
      ],
      "id": "Xo3N6M2S0UJZ",
      "execution_count": 62,
      "outputs": []
    }
  ]
}