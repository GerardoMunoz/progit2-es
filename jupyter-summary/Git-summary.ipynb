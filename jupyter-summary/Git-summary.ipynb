{
  "nbformat": 4,
  "nbformat_minor": 5,
  "metadata": {
    "kernelspec": {
      "display_name": "Python 3",
      "language": "python",
      "name": "python3"
    },
    "language_info": {
      "codemirror_mode": {
        "name": "ipython",
        "version": 3
      },
      "file_extension": ".py",
      "mimetype": "text/x-python",
      "name": "python",
      "nbconvert_exporter": "python",
      "pygments_lexer": "ipython3",
      "version": "3.9.2"
    },
    "colab": {
      "name": "Git-summary.ipynb",
      "provenance": []
    }
  },
  "cells": [
    {
      "cell_type": "markdown",
      "metadata": {
        "id": "municipal-screening"
      },
      "source": [
        "# Git \n",
        "\n",
        "\n",
        "* Resumen basado en el libro 'Pro Git'\n",
        "* Escrito por 'Scott Chacon' y por  'Ben Straub'\n",
        "* Versión 2.1.22, 2021-02-09\n",
        "* https://git-scm.com/book/es/v2\n",
        "\n",
        "# Acerca del Control de Versiones\n",
        "(Pg. 9)\n",
        "Un control de versiones es un\n",
        "sistema que registra los cambios realizados en un archivo o conjunto de archivos a lo largo del\n",
        "tiempo, de modo que puedas recuperar versiones específicas más adelante. \n",
        "\n",
        "# Fundamentos de Git\n",
        "\n",
        "## Los Tres Estados\n",
        "\n",
        "(pg 16) \n",
        "Git tiene tres estados principales en los que se pueden encontrar tus archivos: \n",
        "* confirmado (**committed**), significa que los datos están almacenados de manera segura en tu base de datos local\n",
        "* modificado (**modified**), significa que has modificado el archivo, pero todavía no lo has confirmado a tu base de datos.\n",
        "* preparado (**staged**), significa que has marcado un archivo modificado en su versión actual para que vaya en tu próxima confirmación.\n"
      ],
      "id": "municipal-screening"
    },
    {
      "cell_type": "markdown",
      "metadata": {
        "id": "pvUlgFDxD6_l"
      },
      "source": [
        "![Figura 6](https://github.com/GerardoMunoz/progit2-es/raw/fd5562ab1c85dc792491d3d71469bb0ced88165e/jupyter-summary/Fig6_mod.PNG)"
      ],
      "id": "pvUlgFDxD6_l"
    },
    {
      "cell_type": "markdown",
      "metadata": {
        "id": "U2j0liTy5Gow"
      },
      "source": [
        "## Configurando Git por primera vez\n",
        "### Tu Identidad\n",
        "Pg. 20"
      ],
      "id": "U2j0liTy5Gow"
    },
    {
      "cell_type": "code",
      "metadata": {
        "id": "K4AzWIMpNmeO"
      },
      "source": [
        "!git config --list "
      ],
      "id": "K4AzWIMpNmeO",
      "execution_count": null,
      "outputs": []
    },
    {
      "cell_type": "code",
      "metadata": {
        "id": "477bTP2m5Gow"
      },
      "source": [
        "# no olvide colocar su nombre y quitar la Ñ\n",
        "!gitÑ config  --global user.name \"cambiar-por-su-nombre\""
      ],
      "id": "477bTP2m5Gow",
      "execution_count": null,
      "outputs": []
    },
    {
      "cell_type": "code",
      "metadata": {
        "id": "pL8SXQPv5Gox"
      },
      "source": [
        "# no olvide colocar su email y quitar la Ñ\n",
        "!gitÑ config  --global user.email cambiar.por.su.correo@gmail.com"
      ],
      "id": "pL8SXQPv5Gox",
      "execution_count": null,
      "outputs": []
    },
    {
      "cell_type": "code",
      "metadata": {
        "id": "IroeN9o65Gox",
        "outputId": "ebb9b927-b184-4043-b306-e5d9cc44cea0"
      },
      "source": [
        "!git config --list "
      ],
      "id": "IroeN9o65Gox",
      "execution_count": null,
      "outputs": [
        {
          "output_type": "stream",
          "text": [
            "diff.astextplain.textconv=astextplain\n",
            "filter.lfs.clean=git-lfs clean -- %f\n",
            "filter.lfs.smudge=git-lfs smudge -- %f\n",
            "filter.lfs.process=git-lfs filter-process\n",
            "filter.lfs.required=true\n",
            "http.sslbackend=openssl\n",
            "http.sslcainfo=C:/Program Files/Git/mingw64/ssl/certs/ca-bundle.crt\n",
            "core.autocrlf=true\n",
            "core.fscache=true\n",
            "core.symlinks=false\n",
            "pull.rebase=false\n",
            "credential.helper=manager-core\n",
            "credential.https://dev.azure.com.usehttppath=true\n",
            "init.defaultbranch=master\n",
            "core.editor=\"C:\\Users\\Azul\\AppData\\Local\\Programs\\Microsoft VS Code\\Code.exe\" --wait\n",
            "user.name=Mi Nombre\n",
            "user.email=micorreo@ejemplo.com\n"
          ],
          "name": "stdout"
        }
      ]
    },
    {
      "cell_type": "code",
      "metadata": {
        "id": "8gQBTwg35Gox",
        "outputId": "2f07c889-7d4f-4ce6-d4dd-a5c2723752cb"
      },
      "source": [
        "!git config user.name"
      ],
      "id": "8gQBTwg35Gox",
      "execution_count": null,
      "outputs": [
        {
          "output_type": "stream",
          "text": [
            "Mi Nombre\n"
          ],
          "name": "stdout"
        }
      ]
    },
    {
      "cell_type": "code",
      "metadata": {
        "id": "vqu_2b7W5Goy",
        "outputId": "f99ed5d2-eac7-42e7-c65c-c10d455bab6c"
      },
      "source": [
        "!git config user.email"
      ],
      "id": "vqu_2b7W5Goy",
      "execution_count": null,
      "outputs": [
        {
          "output_type": "stream",
          "text": [
            "micorreo@ejemplo.com\n"
          ],
          "name": "stdout"
        }
      ]
    }
  ]
}