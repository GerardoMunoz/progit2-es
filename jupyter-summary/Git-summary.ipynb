{
  "nbformat": 4,
  "nbformat_minor": 5,
  "metadata": {
    "colab": {
      "name": "Git-summary.ipynb",
      "provenance": [],
      "include_colab_link": true
    },
    "kernelspec": {
      "display_name": "Python 3",
      "language": "python",
      "name": "python3"
    },
    "language_info": {
      "codemirror_mode": {
        "name": "ipython",
        "version": 3
      },
      "file_extension": ".py",
      "mimetype": "text/x-python",
      "name": "python",
      "nbconvert_exporter": "python",
      "pygments_lexer": "ipython3",
      "version": "3.9.2"
    }
  },
  "cells": [
    {
      "cell_type": "markdown",
      "metadata": {
        "id": "view-in-github",
        "colab_type": "text"
      },
      "source": [
        "<a href=\"https://colab.research.google.com/github/GerardoMunoz/progit2-es/blob/master/jupyter-summary/Git-summary.ipynb\" target=\"_parent\"><img src=\"https://colab.research.google.com/assets/colab-badge.svg\" alt=\"Open In Colab\"/></a>"
      ]
    },
    {
      "cell_type": "markdown",
      "metadata": {
        "id": "municipal-screening"
      },
      "source": [
        "# Git \n",
        "\n",
        "\n",
        "* Resumen basado en el libro 'Pro Git'\n",
        "* Escrito por 'Scott Chacon' y por  'Ben Straub'\n",
        "* Versión 2.1.22, 2021-02-09\n",
        "* https://git-scm.com/book/es/v2\n",
        "\n",
        "# Acerca del Control de Versiones\n",
        "(Pg. 9)\n",
        "Un control de versiones es un\n",
        "sistema que registra los cambios realizados en un archivo o conjunto de archivos a lo largo del\n",
        "tiempo, de modo que puedas recuperar versiones específicas más adelante. \n",
        "\n",
        "# Fundamentos de Git\n",
        "\n",
        "## Los Tres Estados\n",
        "\n",
        "(pg 16) \n",
        "Git tiene tres estados principales en los que se pueden encontrar tus archivos: \n",
        "* confirmado (**committed**), significa que los datos están almacenados de manera segura en tu base de datos local\n",
        "* modificado (**modified**), significa que has modificado el archivo, pero todavía no lo has confirmado a tu base de datos.\n",
        "* preparado (**staged**), significa que has marcado un archivo modificado en su versión actual para que vaya en tu próxima confirmación.\n"
      ],
      "id": "municipal-screening"
    },
    {
      "cell_type": "markdown",
      "metadata": {
        "id": "pvUlgFDxD6_l"
      },
      "source": [
        "![Figura 6](https://github.com/GerardoMunoz/progit2-es/raw/fd5562ab1c85dc792491d3d71469bb0ced88165e/jupyter-summary/Fig6_mod.PNG)"
      ],
      "id": "pvUlgFDxD6_l"
    },
    {
      "cell_type": "markdown",
      "metadata": {
        "id": "U2j0liTy5Gow"
      },
      "source": [
        "## Configurando Git por primera vez\n",
        "### Tu Identidad\n",
        "Pg. 20"
      ],
      "id": "U2j0liTy5Gow"
    },
    {
      "cell_type": "code",
      "metadata": {
        "id": "K4AzWIMpNmeO"
      },
      "source": [
        "!git config --list "
      ],
      "id": "K4AzWIMpNmeO",
      "execution_count": null,
      "outputs": []
    },
    {
      "cell_type": "code",
      "metadata": {
        "id": "477bTP2m5Gow"
      },
      "source": [
        "# no olvide colocar su nombre \n",
        "!git config  --global user.name \"cambiar-por-su-nombre\""
      ],
      "id": "477bTP2m5Gow",
      "execution_count": null,
      "outputs": []
    },
    {
      "cell_type": "code",
      "metadata": {
        "id": "pL8SXQPv5Gox"
      },
      "source": [
        "# no olvide colocar su email \n",
        "!git config  --global user.email cambiar.por.su.correo@gmail.com"
      ],
      "id": "pL8SXQPv5Gox",
      "execution_count": null,
      "outputs": []
    },
    {
      "cell_type": "code",
      "metadata": {
        "colab": {
          "base_uri": "https://localhost:8080/"
        },
        "id": "IroeN9o65Gox",
        "outputId": "eaa5def9-6aa0-4c63-ca8f-e8b3d9d96d6a"
      },
      "source": [
        "!git config --list "
      ],
      "id": "IroeN9o65Gox",
      "execution_count": null,
      "outputs": [
        {
          "output_type": "stream",
          "text": [
            "user.name=cambiar-por-su-nombre\n",
            "user.email=cambiar.por.su.correo@gmail.com\n"
          ],
          "name": "stdout"
        }
      ]
    },
    {
      "cell_type": "code",
      "metadata": {
        "colab": {
          "base_uri": "https://localhost:8080/"
        },
        "id": "8gQBTwg35Gox",
        "outputId": "87de764d-c195-4a8f-ac91-fbd7fb2e70b3"
      },
      "source": [
        "!git config user.name"
      ],
      "id": "8gQBTwg35Gox",
      "execution_count": null,
      "outputs": [
        {
          "output_type": "stream",
          "text": [
            "cambiar-por-su-nombre\n"
          ],
          "name": "stdout"
        }
      ]
    },
    {
      "cell_type": "code",
      "metadata": {
        "colab": {
          "base_uri": "https://localhost:8080/"
        },
        "id": "vqu_2b7W5Goy",
        "outputId": "5486f125-1a50-44f3-cde1-b8cdc2a5c60b"
      },
      "source": [
        "!git config user.email"
      ],
      "id": "vqu_2b7W5Goy",
      "execution_count": null,
      "outputs": [
        {
          "output_type": "stream",
          "text": [
            "cambiar.por.su.correo@gmail.com\n"
          ],
          "name": "stdout"
        }
      ]
    },
    {
      "cell_type": "markdown",
      "metadata": {
        "id": "KupjvV3wdJj4"
      },
      "source": [
        "### Tu Editor\n",
        "Pg. 21\n",
        "\n",
        "Más adelante veremos  que Git abre automaticamente el editor que este configurado cuando se confirman (`commit`) los cambios. El editor se configura de la siguiete forma\n",
        "\n",
        "`git config --global core.editor ` cambiar_por_su_editor\n",
        "\n",
        "Desde Jupyter es preferible no abrir ningún editor ya que Jupyter se puede ejecutar en diferentes entornos. Para evitar abrir un editor al confirmar (`commit`) veremos que se puede usar la opción `-m`   \n",
        "\n",
        "`commit -m \"Aquí escribimos la documentación del cambio\"`\n",
        "\n"
      ],
      "id": "KupjvV3wdJj4"
    },
    {
      "cell_type": "markdown",
      "metadata": {
        "id": "kKCqLTxN5Goy"
      },
      "source": [
        "### ¿Cómo obtener ayuda?\n",
        "Pg. 22"
      ],
      "id": "kKCqLTxN5Goy"
    },
    {
      "cell_type": "code",
      "metadata": {
        "id": "4Gf52rsV5Goy"
      },
      "source": [
        "#!git help"
      ],
      "id": "4Gf52rsV5Goy",
      "execution_count": null,
      "outputs": []
    },
    {
      "cell_type": "code",
      "metadata": {
        "id": "aZtlgtsm5Goz"
      },
      "source": [
        "#!git help config "
      ],
      "id": "aZtlgtsm5Goz",
      "execution_count": null,
      "outputs": []
    },
    {
      "cell_type": "code",
      "metadata": {
        "id": "-1WYNempdIZx"
      },
      "source": [
        ""
      ],
      "id": "-1WYNempdIZx",
      "execution_count": null,
      "outputs": []
    },
    {
      "cell_type": "markdown",
      "metadata": {
        "id": "fGr9igEG5Goz"
      },
      "source": [
        "## Fundamentos de Git\n",
        "Pgs. 24 - 57\n",
        "\n",
        "### Obteniendo un repositorio Git\n",
        "Pg. 23\n",
        "\n",
        "![GitIniClon](https://github.com/GerardoMunoz/progit2-es/raw/master/jupyter-summary/imagenes/Diapositiva1.PNG)"
      ],
      "id": "fGr9igEG5Goz"
    },
    {
      "cell_type": "markdown",
      "metadata": {
        "id": "EujX4K06nvli"
      },
      "source": [
        "Antes de comenzar vamos a listar los archivos en la carpecta actual, utilizando el comando de linux `ls -l` "
      ],
      "id": "EujX4K06nvli"
    },
    {
      "cell_type": "code",
      "metadata": {
        "colab": {
          "base_uri": "https://localhost:8080/"
        },
        "id": "NrAXyIQ7y0Nd",
        "outputId": "15cfce7d-e30a-4f3b-a6df-3b97da348cce"
      },
      "source": [
        "!ls -l"
      ],
      "id": "NrAXyIQ7y0Nd",
      "execution_count": null,
      "outputs": [
        {
          "output_type": "stream",
          "text": [
            "total 4\n",
            "drwxr-xr-x 1 root root 4096 Apr  7 13:36 sample_data\n"
          ],
          "name": "stdout"
        }
      ]
    },
    {
      "cell_type": "markdown",
      "metadata": {
        "id": "A39oxVgVtOqb"
      },
      "source": [
        "La rama principal de GitHub por defecto se llama `main`. Sin embargo, en Git se llama `master`. Para evitar que al clonar se cree larama `master`, es necesario indicarle el nombe de la rama con la opciòn `-b`."
      ],
      "id": "A39oxVgVtOqb"
    },
    {
      "cell_type": "code",
      "metadata": {
        "colab": {
          "base_uri": "https://localhost:8080/"
        },
        "id": "OrwRAi0dyfLM",
        "outputId": "aae68c09-ba4d-4ac9-a03a-addc4a36fd7f"
      },
      "source": [
        "!git clone -b main https://github.com/cambiar-por-su-nombre/TrabajosProgramacion"
      ],
      "id": "OrwRAi0dyfLM",
      "execution_count": null,
      "outputs": [
        {
          "output_type": "stream",
          "text": [
            "Cloning into 'TrabajosProgramacion'...\n",
            "remote: Enumerating objects: 3, done.\u001b[K\n",
            "remote: Counting objects: 100% (3/3), done.\u001b[K\n",
            "remote: Total 3 (delta 0), reused 0 (delta 0), pack-reused 0\u001b[K\n",
            "Unpacking objects: 100% (3/3), done.\n"
          ],
          "name": "stdout"
        }
      ]
    },
    {
      "cell_type": "code",
      "metadata": {
        "colab": {
          "base_uri": "https://localhost:8080/"
        },
        "id": "fClKrK3Py4ak",
        "outputId": "fb310dc5-0818-4cbc-cd48-7d4dcee5f750"
      },
      "source": [
        "!ls -l"
      ],
      "id": "fClKrK3Py4ak",
      "execution_count": null,
      "outputs": [
        {
          "output_type": "stream",
          "text": [
            "total 8\n",
            "drwxr-xr-x 1 root root 4096 Apr  7 13:36 sample_data\n",
            "drwxr-xr-x 3 root root 4096 Apr 12 00:33 TrabajosProgramacion\n"
          ],
          "name": "stdout"
        }
      ]
    },
    {
      "cell_type": "code",
      "metadata": {
        "colab": {
          "base_uri": "https://localhost:8080/"
        },
        "id": "CS0oGUdBzAo9",
        "outputId": "63d34323-5a51-4895-8404-5d4c2d3200a9"
      },
      "source": [
        "%cd TrabajosProgramacion"
      ],
      "id": "CS0oGUdBzAo9",
      "execution_count": null,
      "outputs": [
        {
          "output_type": "stream",
          "text": [
            "/content/TrabajosProgramacion\n"
          ],
          "name": "stdout"
        }
      ]
    },
    {
      "cell_type": "markdown",
      "metadata": {
        "id": "XBT6mo_y9pUj"
      },
      "source": [
        "## Guardando cambios en el Repositorio\n",
        "Pg. 24\n",
        "\n",
        "### Revisando el Estado de tus Archivos\n",
        "\n"
      ],
      "id": "XBT6mo_y9pUj"
    },
    {
      "cell_type": "code",
      "metadata": {
        "colab": {
          "base_uri": "https://localhost:8080/"
        },
        "id": "7pN2xohOyHv7",
        "outputId": "8328f004-a708-4e93-de7a-9c9d3e40c58b"
      },
      "source": [
        "!git status "
      ],
      "id": "7pN2xohOyHv7",
      "execution_count": null,
      "outputs": [
        {
          "output_type": "stream",
          "text": [
            "On branch main\n",
            "Your branch is up to date with 'origin/main'.\n",
            "\n",
            "nothing to commit, working tree clean\n"
          ],
          "name": "stdout"
        }
      ]
    },
    {
      "cell_type": "code",
      "metadata": {
        "colab": {
          "base_uri": "https://localhost:8080/"
        },
        "id": "dzr1b28e0Ude",
        "outputId": "36e4239e-5803-4a6a-9225-d2b84ae95ae4"
      },
      "source": [
        "!ls -l"
      ],
      "id": "dzr1b28e0Ude",
      "execution_count": null,
      "outputs": [
        {
          "output_type": "stream",
          "text": [
            "total 4\n",
            "-rw-r--r-- 1 root root 23 Apr 12 00:33 README.md\n"
          ],
          "name": "stdout"
        }
      ]
    },
    {
      "cell_type": "code",
      "metadata": {
        "colab": {
          "base_uri": "https://localhost:8080/"
        },
        "id": "7wSUmoAC0UaG",
        "outputId": "f77ac22f-2a37-4066-c9c1-aa542d13daef"
      },
      "source": [
        "!ls -al"
      ],
      "id": "7wSUmoAC0UaG",
      "execution_count": null,
      "outputs": [
        {
          "output_type": "stream",
          "text": [
            "total 16\n",
            "drwxr-xr-x 3 root root 4096 Apr 12 00:33 .\n",
            "drwxr-xr-x 1 root root 4096 Apr 12 00:33 ..\n",
            "drwxr-xr-x 8 root root 4096 Apr 12 00:33 .git\n",
            "-rw-r--r-- 1 root root   23 Apr 12 00:33 README.md\n"
          ],
          "name": "stdout"
        }
      ]
    },
    {
      "cell_type": "code",
      "metadata": {
        "colab": {
          "base_uri": "https://localhost:8080/"
        },
        "id": "zjJNVS-r0UWt",
        "outputId": "7a53808f-adad-4c01-a707-d1c88bd32202"
      },
      "source": [
        "!ls .git -al\n"
      ],
      "id": "zjJNVS-r0UWt",
      "execution_count": null,
      "outputs": [
        {
          "output_type": "stream",
          "text": [
            "total 52\n",
            "drwxr-xr-x 8 root root 4096 Apr 12 00:33 .\n",
            "drwxr-xr-x 3 root root 4096 Apr 12 00:33 ..\n",
            "drwxr-xr-x 2 root root 4096 Apr 12 00:33 branches\n",
            "-rw-r--r-- 1 root root  282 Apr 12 00:33 config\n",
            "-rw-r--r-- 1 root root   73 Apr 12 00:33 description\n",
            "-rw-r--r-- 1 root root   21 Apr 12 00:33 HEAD\n",
            "drwxr-xr-x 2 root root 4096 Apr 12 00:33 hooks\n",
            "-rw-r--r-- 1 root root  137 Apr 12 00:33 index\n",
            "drwxr-xr-x 2 root root 4096 Apr 12 00:33 info\n",
            "drwxr-xr-x 3 root root 4096 Apr 12 00:33 logs\n",
            "drwxr-xr-x 7 root root 4096 Apr 12 00:33 objects\n",
            "-rw-r--r-- 1 root root  112 Apr 12 00:33 packed-refs\n",
            "drwxr-xr-x 5 root root 4096 Apr 12 00:33 refs\n"
          ],
          "name": "stdout"
        }
      ]
    },
    {
      "cell_type": "markdown",
      "metadata": {
        "id": "laUURKpc_01B"
      },
      "source": [
        "### Rastrear Archivos Nuevos\n",
        "Pg. 26\n",
        "\n",
        "![GitAdd](https://github.com/GerardoMunoz/progit2-es/raw/master/jupyter-summary/imagenes/Diapositiva2.PNG)\n"
      ],
      "id": "laUURKpc_01B"
    },
    {
      "cell_type": "markdown",
      "metadata": {
        "id": "7Q-6F9c6mkUN"
      },
      "source": [
        "### Creando un primer archivo (`concluciones.txt`)\n",
        "\n",
        "Entra las muchísimas opciones que tenemos para crear un archivo, vamos a usar una que tiene Linux para crear archivos de texto. Esta opción consiste en el comando `echo`. "
      ],
      "id": "7Q-6F9c6mkUN"
    },
    {
      "cell_type": "code",
      "metadata": {
        "id": "hHLrtvP-5Go2"
      },
      "source": [
        "# `echo ... > ...` permite crear un archivo \n",
        "!echo \"Finalmente podemos concluir que ...\" > conclusion.txt"
      ],
      "id": "hHLrtvP-5Go2",
      "execution_count": null,
      "outputs": []
    },
    {
      "cell_type": "code",
      "metadata": {
        "id": "mXrRRpO85Go2",
        "colab": {
          "base_uri": "https://localhost:8080/"
        },
        "outputId": "857fa66f-8685-40d5-8491-573b8561a63b"
      },
      "source": [
        "!ls -l"
      ],
      "id": "mXrRRpO85Go2",
      "execution_count": null,
      "outputs": [
        {
          "output_type": "stream",
          "text": [
            "total 8\n",
            "-rw-r--r-- 1 root root 36 Apr 12 00:33 conclusion.txt\n",
            "-rw-r--r-- 1 root root 23 Apr 12 00:33 README.md\n"
          ],
          "name": "stdout"
        }
      ]
    },
    {
      "cell_type": "code",
      "metadata": {
        "id": "qfxf_nbi5Go2",
        "colab": {
          "base_uri": "https://localhost:8080/"
        },
        "outputId": "086fddb2-d891-4213-9de6-0e9ce1976197"
      },
      "source": [
        "# `cat ...` permite crear un archivo \n",
        "!cat conclusion.txt"
      ],
      "id": "qfxf_nbi5Go2",
      "execution_count": null,
      "outputs": [
        {
          "output_type": "stream",
          "text": [
            "Finalmente podemos concluir que ...\n"
          ],
          "name": "stdout"
        }
      ]
    },
    {
      "cell_type": "code",
      "metadata": {
        "id": "OZ8NOc0G5Go3",
        "colab": {
          "base_uri": "https://localhost:8080/"
        },
        "outputId": "62c9687c-ebcb-4202-bca7-c235903a1999"
      },
      "source": [
        "!git status"
      ],
      "id": "OZ8NOc0G5Go3",
      "execution_count": null,
      "outputs": [
        {
          "output_type": "stream",
          "text": [
            "On branch main\n",
            "Your branch is up to date with 'origin/main'.\n",
            "\n",
            "Untracked files:\n",
            "  (use \"git add <file>...\" to include in what will be committed)\n",
            "\n",
            "\t\u001b[31mconclusion.txt\u001b[m\n",
            "\n",
            "nothing added to commit but untracked files present (use \"git add\" to track)\n"
          ],
          "name": "stdout"
        }
      ]
    },
    {
      "cell_type": "code",
      "metadata": {
        "id": "wxR30VTH5Go4"
      },
      "source": [
        "!git add conclusion.txt"
      ],
      "id": "wxR30VTH5Go4",
      "execution_count": null,
      "outputs": []
    },
    {
      "cell_type": "code",
      "metadata": {
        "id": "_p3GYWxy5Go4",
        "colab": {
          "base_uri": "https://localhost:8080/"
        },
        "outputId": "db445d5f-5850-4c66-9bf9-6abde45b15f8"
      },
      "source": [
        "!git status"
      ],
      "id": "_p3GYWxy5Go4",
      "execution_count": null,
      "outputs": [
        {
          "output_type": "stream",
          "text": [
            "On branch main\n",
            "Your branch is up to date with 'origin/main'.\n",
            "\n",
            "Changes to be committed:\n",
            "  (use \"git reset HEAD <file>...\" to unstage)\n",
            "\n",
            "\t\u001b[32mnew file:   conclusion.txt\u001b[m\n",
            "\n"
          ],
          "name": "stdout"
        }
      ]
    },
    {
      "cell_type": "markdown",
      "metadata": {
        "id": "pbiwHmDH5Go4"
      },
      "source": [
        "### Creando un segundo archivo (`resumen.txt`)"
      ],
      "id": "pbiwHmDH5Go4"
    },
    {
      "cell_type": "code",
      "metadata": {
        "id": "Y7SHGhDi5Go4"
      },
      "source": [
        "# Se puede copiar un archivo en la carpeta o crearlo desde cualquier progrma\n",
        "!echo \"En este documento se presenta ...\" > resumen.txt"
      ],
      "id": "Y7SHGhDi5Go4",
      "execution_count": null,
      "outputs": []
    },
    {
      "cell_type": "code",
      "metadata": {
        "id": "iV6l0auz5Go4",
        "colab": {
          "base_uri": "https://localhost:8080/"
        },
        "outputId": "0f043d3a-7ef7-4e43-8ee8-fbbe8423e882"
      },
      "source": [
        "!git status"
      ],
      "id": "iV6l0auz5Go4",
      "execution_count": null,
      "outputs": [
        {
          "output_type": "stream",
          "text": [
            "On branch main\n",
            "Your branch is up to date with 'origin/main'.\n",
            "\n",
            "Changes to be committed:\n",
            "  (use \"git reset HEAD <file>...\" to unstage)\n",
            "\n",
            "\t\u001b[32mnew file:   conclusion.txt\u001b[m\n",
            "\n",
            "Untracked files:\n",
            "  (use \"git add <file>...\" to include in what will be committed)\n",
            "\n",
            "\t\u001b[31mresumen.txt\u001b[m\n",
            "\n"
          ],
          "name": "stdout"
        }
      ]
    },
    {
      "cell_type": "code",
      "metadata": {
        "id": "ZRDWCb7C5Go5"
      },
      "source": [
        "!git add resumen.txt"
      ],
      "id": "ZRDWCb7C5Go5",
      "execution_count": null,
      "outputs": []
    },
    {
      "cell_type": "code",
      "metadata": {
        "id": "lScKRw7x5Go5",
        "colab": {
          "base_uri": "https://localhost:8080/"
        },
        "outputId": "bc504e43-1876-4a5c-d4c6-2e3a6a0b3ebf"
      },
      "source": [
        "!git status"
      ],
      "id": "lScKRw7x5Go5",
      "execution_count": null,
      "outputs": [
        {
          "output_type": "stream",
          "text": [
            "On branch main\n",
            "Your branch is up to date with 'origin/main'.\n",
            "\n",
            "Changes to be committed:\n",
            "  (use \"git reset HEAD <file>...\" to unstage)\n",
            "\n",
            "\t\u001b[32mnew file:   conclusion.txt\u001b[m\n",
            "\t\u001b[32mnew file:   resumen.txt\u001b[m\n",
            "\n"
          ],
          "name": "stdout"
        }
      ]
    },
    {
      "cell_type": "markdown",
      "metadata": {
        "id": "M8nCVNSp5Go5"
      },
      "source": [
        "## Confirmando (`commit`)"
      ],
      "id": "M8nCVNSp5Go5"
    },
    {
      "cell_type": "markdown",
      "metadata": {
        "id": "SxPHz4c4xRVu"
      },
      "source": [
        "![GitCommitPush](https://github.com/GerardoMunoz/progit2-es/raw/master/jupyter-summary/imagenes/Diapositiva3.PNG)"
      ],
      "id": "SxPHz4c4xRVu"
    },
    {
      "cell_type": "code",
      "metadata": {
        "id": "sg8pMXlC5Go5",
        "colab": {
          "base_uri": "https://localhost:8080/"
        },
        "outputId": "89a0017a-cc4d-46a5-d4e6-4c7a10a81701"
      },
      "source": [
        "!git commit -m \"Versión inicial del proyecto\"\n"
      ],
      "id": "sg8pMXlC5Go5",
      "execution_count": null,
      "outputs": [
        {
          "output_type": "stream",
          "text": [
            "[main 75a083c] Versión inicial del proyecto\n",
            " 2 files changed, 2 insertions(+)\n",
            " create mode 100644 conclusion.txt\n",
            " create mode 100644 resumen.txt\n"
          ],
          "name": "stdout"
        }
      ]
    },
    {
      "cell_type": "code",
      "metadata": {
        "id": "loQUUtMG5Go6",
        "colab": {
          "base_uri": "https://localhost:8080/"
        },
        "outputId": "472f1c34-d618-44da-9c5f-3aea3444832f"
      },
      "source": [
        "!git status"
      ],
      "id": "loQUUtMG5Go6",
      "execution_count": null,
      "outputs": [
        {
          "output_type": "stream",
          "text": [
            "On branch main\n",
            "Your branch is ahead of 'origin/main' by 1 commit.\n",
            "  (use \"git push\" to publish your local commits)\n",
            "\n",
            "nothing to commit, working tree clean\n"
          ],
          "name": "stdout"
        }
      ]
    },
    {
      "cell_type": "markdown",
      "metadata": {
        "id": "Yb3NT9Nh5Go6"
      },
      "source": [
        "## Modificando y preparando archivos \n",
        "Pg. 26"
      ],
      "id": "Yb3NT9Nh5Go6"
    },
    {
      "cell_type": "code",
      "metadata": {
        "id": "VXhYdnML5Go6"
      },
      "source": [
        "!echo \"... en este aspecto mejoró 3% respecto ...\" >> conclusion.txt"
      ],
      "id": "VXhYdnML5Go6",
      "execution_count": null,
      "outputs": []
    },
    {
      "cell_type": "code",
      "metadata": {
        "id": "YIVjZtDc5Go6",
        "colab": {
          "base_uri": "https://localhost:8080/"
        },
        "outputId": "6b8cac71-a258-4f9f-e115-52fe16ee3eba"
      },
      "source": [
        "!type conclusion.txt"
      ],
      "id": "YIVjZtDc5Go6",
      "execution_count": null,
      "outputs": [
        {
          "output_type": "stream",
          "text": [
            "/bin/bash: line 0: type: conclusion.txt: not found\n"
          ],
          "name": "stdout"
        }
      ]
    },
    {
      "cell_type": "code",
      "metadata": {
        "id": "-sAtfMJb5Go7",
        "colab": {
          "base_uri": "https://localhost:8080/"
        },
        "outputId": "b6a2fd81-8ba8-4a1f-d4b4-5241470bfc23"
      },
      "source": [
        "!git status"
      ],
      "id": "-sAtfMJb5Go7",
      "execution_count": null,
      "outputs": [
        {
          "output_type": "stream",
          "text": [
            "On branch main\n",
            "Your branch is ahead of 'origin/main' by 1 commit.\n",
            "  (use \"git push\" to publish your local commits)\n",
            "\n",
            "Changes not staged for commit:\n",
            "  (use \"git add <file>...\" to update what will be committed)\n",
            "  (use \"git checkout -- <file>...\" to discard changes in working directory)\n",
            "\n",
            "\t\u001b[31mmodified:   conclusion.txt\u001b[m\n",
            "\n",
            "no changes added to commit (use \"git add\" and/or \"git commit -a\")\n"
          ],
          "name": "stdout"
        }
      ]
    },
    {
      "cell_type": "code",
      "metadata": {
        "id": "7FMKkajG5Go7"
      },
      "source": [
        "!echo \"... mejores resultados que los reportados.\" >> resumen.txt"
      ],
      "id": "7FMKkajG5Go7",
      "execution_count": null,
      "outputs": []
    },
    {
      "cell_type": "code",
      "metadata": {
        "id": "eaiCEUqI5Go7",
        "colab": {
          "base_uri": "https://localhost:8080/"
        },
        "outputId": "4a895d6c-be75-442f-e284-6b4a64fa9345"
      },
      "source": [
        "!cat resumen.txt"
      ],
      "id": "eaiCEUqI5Go7",
      "execution_count": null,
      "outputs": [
        {
          "output_type": "stream",
          "text": [
            "En este documento se presenta ...\n",
            "... mejores resultados que los reportados.\n"
          ],
          "name": "stdout"
        }
      ]
    },
    {
      "cell_type": "code",
      "metadata": {
        "id": "0cv4Sfwt5Go7",
        "colab": {
          "base_uri": "https://localhost:8080/"
        },
        "outputId": "2dd42a12-1783-4b11-e1bd-b1451c30e314"
      },
      "source": [
        "!git status"
      ],
      "id": "0cv4Sfwt5Go7",
      "execution_count": null,
      "outputs": [
        {
          "output_type": "stream",
          "text": [
            "On branch main\n",
            "Your branch is ahead of 'origin/main' by 1 commit.\n",
            "  (use \"git push\" to publish your local commits)\n",
            "\n",
            "Changes not staged for commit:\n",
            "  (use \"git add <file>...\" to update what will be committed)\n",
            "  (use \"git checkout -- <file>...\" to discard changes in working directory)\n",
            "\n",
            "\t\u001b[31mmodified:   conclusion.txt\u001b[m\n",
            "\t\u001b[31mmodified:   resumen.txt\u001b[m\n",
            "\n",
            "no changes added to commit (use \"git add\" and/or \"git commit -a\")\n"
          ],
          "name": "stdout"
        }
      ]
    },
    {
      "cell_type": "code",
      "metadata": {
        "id": "frdgDOqB5Go8"
      },
      "source": [
        "!echo \"Desde los inicios de ...\" >> introduccion.txt"
      ],
      "id": "frdgDOqB5Go8",
      "execution_count": null,
      "outputs": []
    },
    {
      "cell_type": "code",
      "metadata": {
        "id": "ZbZoA-wB5Go8",
        "colab": {
          "base_uri": "https://localhost:8080/"
        },
        "outputId": "fd3f9341-9bbd-4ae2-84b6-e9d89c81a326"
      },
      "source": [
        "!git status"
      ],
      "id": "ZbZoA-wB5Go8",
      "execution_count": null,
      "outputs": [
        {
          "output_type": "stream",
          "text": [
            "On branch main\n",
            "Your branch is ahead of 'origin/main' by 1 commit.\n",
            "  (use \"git push\" to publish your local commits)\n",
            "\n",
            "Changes not staged for commit:\n",
            "  (use \"git add <file>...\" to update what will be committed)\n",
            "  (use \"git checkout -- <file>...\" to discard changes in working directory)\n",
            "\n",
            "\t\u001b[31mmodified:   conclusion.txt\u001b[m\n",
            "\t\u001b[31mmodified:   resumen.txt\u001b[m\n",
            "\n",
            "Untracked files:\n",
            "  (use \"git add <file>...\" to include in what will be committed)\n",
            "\n",
            "\t\u001b[31mintroduccion.txt\u001b[m\n",
            "\n",
            "no changes added to commit (use \"git add\" and/or \"git commit -a\")\n"
          ],
          "name": "stdout"
        }
      ]
    },
    {
      "cell_type": "code",
      "metadata": {
        "id": "bkDDU7mO5Go8"
      },
      "source": [
        "!echo \"... se presentará en las conclusiones.\" >> introduccion.txt"
      ],
      "id": "bkDDU7mO5Go8",
      "execution_count": null,
      "outputs": []
    },
    {
      "cell_type": "code",
      "metadata": {
        "id": "_kfByseK5Go9",
        "colab": {
          "base_uri": "https://localhost:8080/"
        },
        "outputId": "62c3028a-5c2b-4bb2-dc99-311045f0fcc1"
      },
      "source": [
        "!git status"
      ],
      "id": "_kfByseK5Go9",
      "execution_count": null,
      "outputs": [
        {
          "output_type": "stream",
          "text": [
            "On branch main\n",
            "Your branch is ahead of 'origin/main' by 1 commit.\n",
            "  (use \"git push\" to publish your local commits)\n",
            "\n",
            "Changes not staged for commit:\n",
            "  (use \"git add <file>...\" to update what will be committed)\n",
            "  (use \"git checkout -- <file>...\" to discard changes in working directory)\n",
            "\n",
            "\t\u001b[31mmodified:   conclusion.txt\u001b[m\n",
            "\t\u001b[31mmodified:   resumen.txt\u001b[m\n",
            "\n",
            "Untracked files:\n",
            "  (use \"git add <file>...\" to include in what will be committed)\n",
            "\n",
            "\t\u001b[31mintroduccion.txt\u001b[m\n",
            "\n",
            "no changes added to commit (use \"git add\" and/or \"git commit -a\")\n"
          ],
          "name": "stdout"
        }
      ]
    },
    {
      "cell_type": "code",
      "metadata": {
        "id": "kgZ_zbJJ5Go9"
      },
      "source": [
        "!git add conclusion.txt"
      ],
      "id": "kgZ_zbJJ5Go9",
      "execution_count": null,
      "outputs": []
    },
    {
      "cell_type": "code",
      "metadata": {
        "id": "5YvCwo-_5Go9",
        "colab": {
          "base_uri": "https://localhost:8080/"
        },
        "outputId": "a66a913a-d258-4413-ca05-011ef8db0386"
      },
      "source": [
        "!git status"
      ],
      "id": "5YvCwo-_5Go9",
      "execution_count": null,
      "outputs": [
        {
          "output_type": "stream",
          "text": [
            "On branch main\n",
            "Your branch is ahead of 'origin/main' by 1 commit.\n",
            "  (use \"git push\" to publish your local commits)\n",
            "\n",
            "Changes to be committed:\n",
            "  (use \"git reset HEAD <file>...\" to unstage)\n",
            "\n",
            "\t\u001b[32mmodified:   conclusion.txt\u001b[m\n",
            "\n",
            "Changes not staged for commit:\n",
            "  (use \"git add <file>...\" to update what will be committed)\n",
            "  (use \"git checkout -- <file>...\" to discard changes in working directory)\n",
            "\n",
            "\t\u001b[31mmodified:   resumen.txt\u001b[m\n",
            "\n",
            "Untracked files:\n",
            "  (use \"git add <file>...\" to include in what will be committed)\n",
            "\n",
            "\t\u001b[31mintroduccion.txt\u001b[m\n",
            "\n"
          ],
          "name": "stdout"
        }
      ]
    },
    {
      "cell_type": "code",
      "metadata": {
        "id": "KJCIn54P5Go-"
      },
      "source": [
        "!echo \"... superando en tres de los cinco ...\" >> conclusion.txt"
      ],
      "id": "KJCIn54P5Go-",
      "execution_count": null,
      "outputs": []
    },
    {
      "cell_type": "code",
      "metadata": {
        "id": "Ys3LJ-9E5Go-",
        "colab": {
          "base_uri": "https://localhost:8080/"
        },
        "outputId": "da986ccf-6b00-4427-9872-f7c9514125ab"
      },
      "source": [
        "!type conclusion.txt"
      ],
      "id": "Ys3LJ-9E5Go-",
      "execution_count": null,
      "outputs": [
        {
          "output_type": "stream",
          "text": [
            "/bin/bash: line 0: type: conclusion.txt: not found\n"
          ],
          "name": "stdout"
        }
      ]
    },
    {
      "cell_type": "code",
      "metadata": {
        "id": "U9GA7hcL5Go-",
        "colab": {
          "base_uri": "https://localhost:8080/"
        },
        "outputId": "11208e21-72d1-42a5-ed69-8c018dbf0c11"
      },
      "source": [
        "!git status"
      ],
      "id": "U9GA7hcL5Go-",
      "execution_count": null,
      "outputs": [
        {
          "output_type": "stream",
          "text": [
            "On branch main\n",
            "Your branch is ahead of 'origin/main' by 1 commit.\n",
            "  (use \"git push\" to publish your local commits)\n",
            "\n",
            "Changes to be committed:\n",
            "  (use \"git reset HEAD <file>...\" to unstage)\n",
            "\n",
            "\t\u001b[32mmodified:   conclusion.txt\u001b[m\n",
            "\n",
            "Changes not staged for commit:\n",
            "  (use \"git add <file>...\" to update what will be committed)\n",
            "  (use \"git checkout -- <file>...\" to discard changes in working directory)\n",
            "\n",
            "\t\u001b[31mmodified:   conclusion.txt\u001b[m\n",
            "\t\u001b[31mmodified:   resumen.txt\u001b[m\n",
            "\n",
            "Untracked files:\n",
            "  (use \"git add <file>...\" to include in what will be committed)\n",
            "\n",
            "\t\u001b[31mintroduccion.txt\u001b[m\n",
            "\n"
          ],
          "name": "stdout"
        }
      ]
    },
    {
      "cell_type": "code",
      "metadata": {
        "id": "z1qNCOfD5Go-",
        "colab": {
          "base_uri": "https://localhost:8080/"
        },
        "outputId": "0f21a0cb-a3a3-4992-c026-ea3199012bdb"
      },
      "source": [
        "!git status -s\n",
        "# ??  No rastreado (Untracked)\n",
        "# A  Preparado (Staged)\n",
        "# M  Modificado (Modified)\n",
        "    # Columna izquierda es el estado preparado\n",
        "    # Columna derecha es el estado sin preparar"
      ],
      "id": "z1qNCOfD5Go-",
      "execution_count": null,
      "outputs": [
        {
          "output_type": "stream",
          "text": [
            "\u001b[32mM\u001b[m\u001b[31mM\u001b[m conclusion.txt\n",
            " \u001b[31mM\u001b[m resumen.txt\n",
            "\u001b[31m??\u001b[m introduccion.txt\n"
          ],
          "name": "stdout"
        }
      ]
    },
    {
      "cell_type": "code",
      "metadata": {
        "id": "EICEpfXJ5Go-"
      },
      "source": [
        "!git add introduccion.txt"
      ],
      "id": "EICEpfXJ5Go-",
      "execution_count": null,
      "outputs": []
    },
    {
      "cell_type": "code",
      "metadata": {
        "id": "6bhNlglr5Go_",
        "colab": {
          "base_uri": "https://localhost:8080/"
        },
        "outputId": "25781126-1927-4484-c038-29fd896536ed"
      },
      "source": [
        "!git status -s"
      ],
      "id": "6bhNlglr5Go_",
      "execution_count": null,
      "outputs": [
        {
          "output_type": "stream",
          "text": [
            "\u001b[32mM\u001b[m\u001b[31mM\u001b[m conclusion.txt\n",
            "\u001b[32mA\u001b[m  introduccion.txt\n",
            " \u001b[31mM\u001b[m resumen.txt\n"
          ],
          "name": "stdout"
        }
      ]
    },
    {
      "cell_type": "code",
      "metadata": {
        "id": "wn2ftfyQ5Go_"
      },
      "source": [
        "!git add conclusion.txt"
      ],
      "id": "wn2ftfyQ5Go_",
      "execution_count": null,
      "outputs": []
    },
    {
      "cell_type": "code",
      "metadata": {
        "id": "HrYO2tNn5Go_",
        "colab": {
          "base_uri": "https://localhost:8080/"
        },
        "outputId": "004c8f6c-9e67-4cd0-d9fc-9bbd3ff8e401"
      },
      "source": [
        "!git status -s"
      ],
      "id": "HrYO2tNn5Go_",
      "execution_count": null,
      "outputs": [
        {
          "output_type": "stream",
          "text": [
            "\u001b[32mM\u001b[m  conclusion.txt\n",
            "\u001b[32mA\u001b[m  introduccion.txt\n",
            " \u001b[31mM\u001b[m resumen.txt\n"
          ],
          "name": "stdout"
        }
      ]
    },
    {
      "cell_type": "code",
      "metadata": {
        "id": "KorMKKN15Go_"
      },
      "source": [
        "!git add resumen.txt"
      ],
      "id": "KorMKKN15Go_",
      "execution_count": null,
      "outputs": []
    },
    {
      "cell_type": "code",
      "metadata": {
        "id": "Zct0fkbc5Go_",
        "colab": {
          "base_uri": "https://localhost:8080/"
        },
        "outputId": "950ceaa5-1839-441f-bbd3-3f2232af6b39"
      },
      "source": [
        "!git status -s"
      ],
      "id": "Zct0fkbc5Go_",
      "execution_count": null,
      "outputs": [
        {
          "output_type": "stream",
          "text": [
            "\u001b[32mM\u001b[m  conclusion.txt\n",
            "\u001b[32mA\u001b[m  introduccion.txt\n",
            "\u001b[32mM\u001b[m  resumen.txt\n"
          ],
          "name": "stdout"
        }
      ]
    },
    {
      "cell_type": "code",
      "metadata": {
        "id": "1dBpExez5Go_",
        "colab": {
          "base_uri": "https://localhost:8080/"
        },
        "outputId": "5e47a840-a759-47bb-b4f1-d29bcf6686cd"
      },
      "source": [
        "!git commit -m \"Se actualizó la conclusión y el resumen con los resultados y se comenzó la introduccón\""
      ],
      "id": "1dBpExez5Go_",
      "execution_count": null,
      "outputs": [
        {
          "output_type": "stream",
          "text": [
            "[main 2343189] Se actualizó la conclusión y el resumen con los resultados y se comenzó la introduccón\n",
            " 3 files changed, 5 insertions(+)\n",
            " create mode 100644 introduccion.txt\n"
          ],
          "name": "stdout"
        }
      ]
    },
    {
      "cell_type": "code",
      "metadata": {
        "id": "i8uJB_uf5GpA"
      },
      "source": [
        "!git status -s"
      ],
      "id": "i8uJB_uf5GpA",
      "execution_count": null,
      "outputs": []
    },
    {
      "cell_type": "code",
      "metadata": {
        "id": "g0HbtJFf5GpA",
        "colab": {
          "base_uri": "https://localhost:8080/"
        },
        "outputId": "8b0dd23e-750d-4c54-fc35-7ebf0457c2cd"
      },
      "source": [
        "!git status"
      ],
      "id": "g0HbtJFf5GpA",
      "execution_count": null,
      "outputs": [
        {
          "output_type": "stream",
          "text": [
            "On branch main\n",
            "Your branch is ahead of 'origin/main' by 2 commits.\n",
            "  (use \"git push\" to publish your local commits)\n",
            "\n",
            "nothing to commit, working tree clean\n"
          ],
          "name": "stdout"
        }
      ]
    },
    {
      "cell_type": "markdown",
      "metadata": {
        "id": "cMCBn04Y5GpB"
      },
      "source": [
        "### Ignorar archivos\n",
        "Pg. 29\n",
        "\n",
        "En el archivo  `.gitignore` se colocan los archivos a ignorar\n",
        " "
      ],
      "id": "cMCBn04Y5GpB"
    },
    {
      "cell_type": "markdown",
      "metadata": {
        "id": "CX7FYg4t5GpB"
      },
      "source": [
        "### Ver los Cambios Preparados y No Preparados \n",
        "Pg. 30\n",
        "\n",
        "`git diff --staged`"
      ],
      "id": "CX7FYg4t5GpB"
    },
    {
      "cell_type": "markdown",
      "metadata": {
        "id": "ZPbXQSp-5GpC"
      },
      "source": [
        "### Saltar el Área de Preparación \n",
        "Pg. 34\n",
        "\n",
        "`git commit -a -m \"added new benchmarks\"`\n",
        "\n",
        "![GitCommitPush](https://github.com/GerardoMunoz/progit2-es/raw/master/jupyter-summary/imagenes/Diapositiva3.PNG)"
      ],
      "id": "ZPbXQSp-5GpC"
    },
    {
      "cell_type": "markdown",
      "metadata": {
        "id": "HjSQJ-re5GpC"
      },
      "source": [
        "### Eliminar Archivos \n",
        "Pg. 35\n",
        "\n",
        "`git rm un_archivo`\n",
        "\n"
      ],
      "id": "HjSQJ-re5GpC"
    },
    {
      "cell_type": "markdown",
      "metadata": {
        "id": "pOt6LpJg5GpD"
      },
      "source": [
        "### Cambiar el Nombre de los Archivos \n",
        "Pg. 36\n",
        "\n",
        "`git mv file_from file_to`"
      ],
      "id": "pOt6LpJg5GpD"
    },
    {
      "cell_type": "markdown",
      "metadata": {
        "id": "VMraxyUk5GpD"
      },
      "source": [
        "## Ver el Historial de Confirmaciones\n",
        "Pg. 37"
      ],
      "id": "VMraxyUk5GpD"
    },
    {
      "cell_type": "code",
      "metadata": {
        "id": "cjGPRcY35GpE",
        "colab": {
          "base_uri": "https://localhost:8080/"
        },
        "outputId": "7fbaca3c-8827-4108-d143-b638d1fc3c6d"
      },
      "source": [
        "!dir"
      ],
      "id": "cjGPRcY35GpE",
      "execution_count": null,
      "outputs": [
        {
          "output_type": "stream",
          "text": [
            "conclusion.txt\tintroduccion.txt  README.md  resumen.txt\n"
          ],
          "name": "stdout"
        }
      ]
    },
    {
      "cell_type": "code",
      "metadata": {
        "id": "3rqVDOMD5GpE",
        "colab": {
          "base_uri": "https://localhost:8080/"
        },
        "outputId": "1ae10d1c-50ac-45da-9f95-e97564beeaff"
      },
      "source": [
        "!git log"
      ],
      "id": "3rqVDOMD5GpE",
      "execution_count": null,
      "outputs": [
        {
          "output_type": "stream",
          "text": [
            "\u001b[33mcommit 234318969c23fba61afc442450663c5efcd9b22b\u001b[m\u001b[33m (\u001b[m\u001b[1;36mHEAD -> \u001b[m\u001b[1;32mmain\u001b[m\u001b[33m)\u001b[m\n",
            "Author: cambiar-por-su-nombre <cambiar.por.su.correo@gmail.com>\n",
            "Date:   Mon Apr 12 00:33:28 2021 +0000\n",
            "\n",
            "    Se actualizó la conclusión y el resumen con los resultados y se comenzó la introduccón\n",
            "\n",
            "\u001b[33mcommit 75a083c23de1c86e5aeb13b5e377f0b820eaac96\u001b[m\n",
            "Author: cambiar-por-su-nombre <cambiar.por.su.correo@gmail.com>\n",
            "Date:   Mon Apr 12 00:33:25 2021 +0000\n",
            "\n",
            "    Versión inicial del proyecto\n",
            "\n",
            "\u001b[33mcommit 112b9d9ea1a1b0b20411a9757833d3b7e6531188\u001b[m\u001b[33m (\u001b[m\u001b[1;31morigin/main\u001b[m\u001b[33m, \u001b[m\u001b[1;31morigin/HEAD\u001b[m\u001b[33m)\u001b[m\n",
            "Author: cambiar-por-su-nombre <81787129+cambiar-por-su-nombre@users.noreply.github.com>\n",
            "Date:   Sun Apr 11 19:26:51 2021 -0500\n",
            "\n",
            "    Create README.md\n"
          ],
          "name": "stdout"
        }
      ]
    },
    {
      "cell_type": "markdown",
      "metadata": {
        "id": "Z-HurPR_dxp8"
      },
      "source": [
        "### Deshacer Cosas\n",
        "\n",
        "* `git commit --amend` permite sobrescribir la anterior confirmación.\n",
        "\n",
        "* `git reset HEAD <file>` permite deshacer la preparación.\n",
        "\n",
        "* `git checkout -- [archivo]` Se pierden los cambios que se han hecho en un archivo despúes de la última confirmación.\n",
        "\n",
        "\n",
        "\n"
      ],
      "id": "Z-HurPR_dxp8"
    }
  ]
}